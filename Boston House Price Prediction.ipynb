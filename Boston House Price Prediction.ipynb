{
 "cells": [
  {
   "cell_type": "code",
   "execution_count": 1,
   "metadata": {},
   "outputs": [],
   "source": [
    "import numpy as np\n",
    "import pandas as pd\n",
    "import matplotlib.pyplot as plt\n",
    "import seaborn as sn"
   ]
  },
  {
   "cell_type": "code",
   "execution_count": 2,
   "metadata": {},
   "outputs": [],
   "source": [
    "data=pd.read_csv('E:/Data Science SP/Machine Learning/Assignment/housing.csv')"
   ]
  },
  {
   "cell_type": "code",
   "execution_count": 3,
   "metadata": {},
   "outputs": [
    {
     "data": {
      "text/html": [
       "<div>\n",
       "<style scoped>\n",
       "    .dataframe tbody tr th:only-of-type {\n",
       "        vertical-align: middle;\n",
       "    }\n",
       "\n",
       "    .dataframe tbody tr th {\n",
       "        vertical-align: top;\n",
       "    }\n",
       "\n",
       "    .dataframe thead th {\n",
       "        text-align: right;\n",
       "    }\n",
       "</style>\n",
       "<table border=\"1\" class=\"dataframe\">\n",
       "  <thead>\n",
       "    <tr style=\"text-align: right;\">\n",
       "      <th></th>\n",
       "      <th>Unnamed: 0</th>\n",
       "      <th>CRIM</th>\n",
       "      <th>ZN</th>\n",
       "      <th>INDUS</th>\n",
       "      <th>CHAS</th>\n",
       "      <th>NOX</th>\n",
       "      <th>RM</th>\n",
       "      <th>AGE</th>\n",
       "      <th>DIS</th>\n",
       "      <th>RAD</th>\n",
       "      <th>TAX</th>\n",
       "      <th>PTRATIO</th>\n",
       "      <th>B</th>\n",
       "      <th>LSTAT</th>\n",
       "      <th>MEDV</th>\n",
       "    </tr>\n",
       "  </thead>\n",
       "  <tbody>\n",
       "    <tr>\n",
       "      <th>0</th>\n",
       "      <td>0</td>\n",
       "      <td>0.00632</td>\n",
       "      <td>18.0</td>\n",
       "      <td>2.31</td>\n",
       "      <td>0.0</td>\n",
       "      <td>0.538</td>\n",
       "      <td>6.575</td>\n",
       "      <td>65.2</td>\n",
       "      <td>4.0900</td>\n",
       "      <td>1.0</td>\n",
       "      <td>296.0</td>\n",
       "      <td>15.3</td>\n",
       "      <td>396.90</td>\n",
       "      <td>4.98</td>\n",
       "      <td>24.0</td>\n",
       "    </tr>\n",
       "    <tr>\n",
       "      <th>1</th>\n",
       "      <td>1</td>\n",
       "      <td>0.02731</td>\n",
       "      <td>0.0</td>\n",
       "      <td>7.07</td>\n",
       "      <td>0.0</td>\n",
       "      <td>0.469</td>\n",
       "      <td>6.421</td>\n",
       "      <td>78.9</td>\n",
       "      <td>4.9671</td>\n",
       "      <td>2.0</td>\n",
       "      <td>242.0</td>\n",
       "      <td>17.8</td>\n",
       "      <td>396.90</td>\n",
       "      <td>9.14</td>\n",
       "      <td>21.6</td>\n",
       "    </tr>\n",
       "    <tr>\n",
       "      <th>2</th>\n",
       "      <td>2</td>\n",
       "      <td>0.02729</td>\n",
       "      <td>0.0</td>\n",
       "      <td>7.07</td>\n",
       "      <td>0.0</td>\n",
       "      <td>0.469</td>\n",
       "      <td>7.185</td>\n",
       "      <td>61.1</td>\n",
       "      <td>4.9671</td>\n",
       "      <td>2.0</td>\n",
       "      <td>242.0</td>\n",
       "      <td>17.8</td>\n",
       "      <td>392.83</td>\n",
       "      <td>4.03</td>\n",
       "      <td>34.7</td>\n",
       "    </tr>\n",
       "    <tr>\n",
       "      <th>3</th>\n",
       "      <td>3</td>\n",
       "      <td>0.03237</td>\n",
       "      <td>0.0</td>\n",
       "      <td>2.18</td>\n",
       "      <td>0.0</td>\n",
       "      <td>0.458</td>\n",
       "      <td>6.998</td>\n",
       "      <td>45.8</td>\n",
       "      <td>6.0622</td>\n",
       "      <td>3.0</td>\n",
       "      <td>222.0</td>\n",
       "      <td>18.7</td>\n",
       "      <td>394.63</td>\n",
       "      <td>2.94</td>\n",
       "      <td>33.4</td>\n",
       "    </tr>\n",
       "    <tr>\n",
       "      <th>4</th>\n",
       "      <td>4</td>\n",
       "      <td>0.06905</td>\n",
       "      <td>0.0</td>\n",
       "      <td>2.18</td>\n",
       "      <td>0.0</td>\n",
       "      <td>0.458</td>\n",
       "      <td>7.147</td>\n",
       "      <td>54.2</td>\n",
       "      <td>6.0622</td>\n",
       "      <td>3.0</td>\n",
       "      <td>222.0</td>\n",
       "      <td>18.7</td>\n",
       "      <td>396.90</td>\n",
       "      <td>5.33</td>\n",
       "      <td>36.2</td>\n",
       "    </tr>\n",
       "  </tbody>\n",
       "</table>\n",
       "</div>"
      ],
      "text/plain": [
       "   Unnamed: 0     CRIM    ZN  INDUS  CHAS    NOX     RM   AGE     DIS  RAD  \\\n",
       "0           0  0.00632  18.0   2.31   0.0  0.538  6.575  65.2  4.0900  1.0   \n",
       "1           1  0.02731   0.0   7.07   0.0  0.469  6.421  78.9  4.9671  2.0   \n",
       "2           2  0.02729   0.0   7.07   0.0  0.469  7.185  61.1  4.9671  2.0   \n",
       "3           3  0.03237   0.0   2.18   0.0  0.458  6.998  45.8  6.0622  3.0   \n",
       "4           4  0.06905   0.0   2.18   0.0  0.458  7.147  54.2  6.0622  3.0   \n",
       "\n",
       "     TAX  PTRATIO       B  LSTAT  MEDV  \n",
       "0  296.0     15.3  396.90   4.98  24.0  \n",
       "1  242.0     17.8  396.90   9.14  21.6  \n",
       "2  242.0     17.8  392.83   4.03  34.7  \n",
       "3  222.0     18.7  394.63   2.94  33.4  \n",
       "4  222.0     18.7  396.90   5.33  36.2  "
      ]
     },
     "execution_count": 3,
     "metadata": {},
     "output_type": "execute_result"
    }
   ],
   "source": [
    "data.head()"
   ]
  },
  {
   "cell_type": "code",
   "execution_count": 4,
   "metadata": {},
   "outputs": [
    {
     "name": "stdout",
     "output_type": "stream",
     "text": [
      "<class 'pandas.core.frame.DataFrame'>\n",
      "RangeIndex: 506 entries, 0 to 505\n",
      "Data columns (total 15 columns):\n",
      " #   Column      Non-Null Count  Dtype  \n",
      "---  ------      --------------  -----  \n",
      " 0   Unnamed: 0  506 non-null    int64  \n",
      " 1   CRIM        506 non-null    float64\n",
      " 2   ZN          506 non-null    float64\n",
      " 3   INDUS       506 non-null    float64\n",
      " 4   CHAS        506 non-null    float64\n",
      " 5   NOX         506 non-null    float64\n",
      " 6   RM          506 non-null    float64\n",
      " 7   AGE         506 non-null    float64\n",
      " 8   DIS         506 non-null    float64\n",
      " 9   RAD         506 non-null    float64\n",
      " 10  TAX         506 non-null    float64\n",
      " 11  PTRATIO     506 non-null    float64\n",
      " 12  B           506 non-null    float64\n",
      " 13  LSTAT       506 non-null    float64\n",
      " 14  MEDV        506 non-null    float64\n",
      "dtypes: float64(14), int64(1)\n",
      "memory usage: 59.4 KB\n"
     ]
    }
   ],
   "source": [
    "data.info()"
   ]
  },
  {
   "cell_type": "code",
   "execution_count": 5,
   "metadata": {},
   "outputs": [
    {
     "data": {
      "text/plain": [
       "0.0    471\n",
       "1.0     35\n",
       "Name: CHAS, dtype: int64"
      ]
     },
     "execution_count": 5,
     "metadata": {},
     "output_type": "execute_result"
    }
   ],
   "source": [
    "data['CHAS'].value_counts()"
   ]
  },
  {
   "cell_type": "code",
   "execution_count": 6,
   "metadata": {},
   "outputs": [
    {
     "data": {
      "text/html": [
       "<div>\n",
       "<style scoped>\n",
       "    .dataframe tbody tr th:only-of-type {\n",
       "        vertical-align: middle;\n",
       "    }\n",
       "\n",
       "    .dataframe tbody tr th {\n",
       "        vertical-align: top;\n",
       "    }\n",
       "\n",
       "    .dataframe thead th {\n",
       "        text-align: right;\n",
       "    }\n",
       "</style>\n",
       "<table border=\"1\" class=\"dataframe\">\n",
       "  <thead>\n",
       "    <tr style=\"text-align: right;\">\n",
       "      <th></th>\n",
       "      <th>Unnamed: 0</th>\n",
       "      <th>CRIM</th>\n",
       "      <th>ZN</th>\n",
       "      <th>INDUS</th>\n",
       "      <th>CHAS</th>\n",
       "      <th>NOX</th>\n",
       "      <th>RM</th>\n",
       "      <th>AGE</th>\n",
       "      <th>DIS</th>\n",
       "      <th>RAD</th>\n",
       "      <th>TAX</th>\n",
       "      <th>PTRATIO</th>\n",
       "      <th>B</th>\n",
       "      <th>LSTAT</th>\n",
       "      <th>MEDV</th>\n",
       "    </tr>\n",
       "  </thead>\n",
       "  <tbody>\n",
       "    <tr>\n",
       "      <th>count</th>\n",
       "      <td>506.000000</td>\n",
       "      <td>506.000000</td>\n",
       "      <td>506.000000</td>\n",
       "      <td>506.000000</td>\n",
       "      <td>506.000000</td>\n",
       "      <td>506.000000</td>\n",
       "      <td>506.000000</td>\n",
       "      <td>506.000000</td>\n",
       "      <td>506.000000</td>\n",
       "      <td>506.000000</td>\n",
       "      <td>506.000000</td>\n",
       "      <td>506.000000</td>\n",
       "      <td>506.000000</td>\n",
       "      <td>506.000000</td>\n",
       "      <td>506.000000</td>\n",
       "    </tr>\n",
       "    <tr>\n",
       "      <th>mean</th>\n",
       "      <td>252.500000</td>\n",
       "      <td>3.613524</td>\n",
       "      <td>11.363636</td>\n",
       "      <td>11.136779</td>\n",
       "      <td>0.069170</td>\n",
       "      <td>0.554695</td>\n",
       "      <td>6.284634</td>\n",
       "      <td>68.574901</td>\n",
       "      <td>3.795043</td>\n",
       "      <td>9.549407</td>\n",
       "      <td>408.237154</td>\n",
       "      <td>18.455534</td>\n",
       "      <td>356.674032</td>\n",
       "      <td>12.653063</td>\n",
       "      <td>22.532806</td>\n",
       "    </tr>\n",
       "    <tr>\n",
       "      <th>std</th>\n",
       "      <td>146.213884</td>\n",
       "      <td>8.601545</td>\n",
       "      <td>23.322453</td>\n",
       "      <td>6.860353</td>\n",
       "      <td>0.253994</td>\n",
       "      <td>0.115878</td>\n",
       "      <td>0.702617</td>\n",
       "      <td>28.148861</td>\n",
       "      <td>2.105710</td>\n",
       "      <td>8.707259</td>\n",
       "      <td>168.537116</td>\n",
       "      <td>2.164946</td>\n",
       "      <td>91.294864</td>\n",
       "      <td>7.141062</td>\n",
       "      <td>9.197104</td>\n",
       "    </tr>\n",
       "    <tr>\n",
       "      <th>min</th>\n",
       "      <td>0.000000</td>\n",
       "      <td>0.006320</td>\n",
       "      <td>0.000000</td>\n",
       "      <td>0.460000</td>\n",
       "      <td>0.000000</td>\n",
       "      <td>0.385000</td>\n",
       "      <td>3.561000</td>\n",
       "      <td>2.900000</td>\n",
       "      <td>1.129600</td>\n",
       "      <td>1.000000</td>\n",
       "      <td>187.000000</td>\n",
       "      <td>12.600000</td>\n",
       "      <td>0.320000</td>\n",
       "      <td>1.730000</td>\n",
       "      <td>5.000000</td>\n",
       "    </tr>\n",
       "    <tr>\n",
       "      <th>25%</th>\n",
       "      <td>126.250000</td>\n",
       "      <td>0.082045</td>\n",
       "      <td>0.000000</td>\n",
       "      <td>5.190000</td>\n",
       "      <td>0.000000</td>\n",
       "      <td>0.449000</td>\n",
       "      <td>5.885500</td>\n",
       "      <td>45.025000</td>\n",
       "      <td>2.100175</td>\n",
       "      <td>4.000000</td>\n",
       "      <td>279.000000</td>\n",
       "      <td>17.400000</td>\n",
       "      <td>375.377500</td>\n",
       "      <td>6.950000</td>\n",
       "      <td>17.025000</td>\n",
       "    </tr>\n",
       "    <tr>\n",
       "      <th>50%</th>\n",
       "      <td>252.500000</td>\n",
       "      <td>0.256510</td>\n",
       "      <td>0.000000</td>\n",
       "      <td>9.690000</td>\n",
       "      <td>0.000000</td>\n",
       "      <td>0.538000</td>\n",
       "      <td>6.208500</td>\n",
       "      <td>77.500000</td>\n",
       "      <td>3.207450</td>\n",
       "      <td>5.000000</td>\n",
       "      <td>330.000000</td>\n",
       "      <td>19.050000</td>\n",
       "      <td>391.440000</td>\n",
       "      <td>11.360000</td>\n",
       "      <td>21.200000</td>\n",
       "    </tr>\n",
       "    <tr>\n",
       "      <th>75%</th>\n",
       "      <td>378.750000</td>\n",
       "      <td>3.677082</td>\n",
       "      <td>12.500000</td>\n",
       "      <td>18.100000</td>\n",
       "      <td>0.000000</td>\n",
       "      <td>0.624000</td>\n",
       "      <td>6.623500</td>\n",
       "      <td>94.075000</td>\n",
       "      <td>5.188425</td>\n",
       "      <td>24.000000</td>\n",
       "      <td>666.000000</td>\n",
       "      <td>20.200000</td>\n",
       "      <td>396.225000</td>\n",
       "      <td>16.955000</td>\n",
       "      <td>25.000000</td>\n",
       "    </tr>\n",
       "    <tr>\n",
       "      <th>max</th>\n",
       "      <td>505.000000</td>\n",
       "      <td>88.976200</td>\n",
       "      <td>100.000000</td>\n",
       "      <td>27.740000</td>\n",
       "      <td>1.000000</td>\n",
       "      <td>0.871000</td>\n",
       "      <td>8.780000</td>\n",
       "      <td>100.000000</td>\n",
       "      <td>12.126500</td>\n",
       "      <td>24.000000</td>\n",
       "      <td>711.000000</td>\n",
       "      <td>22.000000</td>\n",
       "      <td>396.900000</td>\n",
       "      <td>37.970000</td>\n",
       "      <td>50.000000</td>\n",
       "    </tr>\n",
       "  </tbody>\n",
       "</table>\n",
       "</div>"
      ],
      "text/plain": [
       "       Unnamed: 0        CRIM          ZN       INDUS        CHAS         NOX  \\\n",
       "count  506.000000  506.000000  506.000000  506.000000  506.000000  506.000000   \n",
       "mean   252.500000    3.613524   11.363636   11.136779    0.069170    0.554695   \n",
       "std    146.213884    8.601545   23.322453    6.860353    0.253994    0.115878   \n",
       "min      0.000000    0.006320    0.000000    0.460000    0.000000    0.385000   \n",
       "25%    126.250000    0.082045    0.000000    5.190000    0.000000    0.449000   \n",
       "50%    252.500000    0.256510    0.000000    9.690000    0.000000    0.538000   \n",
       "75%    378.750000    3.677082   12.500000   18.100000    0.000000    0.624000   \n",
       "max    505.000000   88.976200  100.000000   27.740000    1.000000    0.871000   \n",
       "\n",
       "               RM         AGE         DIS         RAD         TAX     PTRATIO  \\\n",
       "count  506.000000  506.000000  506.000000  506.000000  506.000000  506.000000   \n",
       "mean     6.284634   68.574901    3.795043    9.549407  408.237154   18.455534   \n",
       "std      0.702617   28.148861    2.105710    8.707259  168.537116    2.164946   \n",
       "min      3.561000    2.900000    1.129600    1.000000  187.000000   12.600000   \n",
       "25%      5.885500   45.025000    2.100175    4.000000  279.000000   17.400000   \n",
       "50%      6.208500   77.500000    3.207450    5.000000  330.000000   19.050000   \n",
       "75%      6.623500   94.075000    5.188425   24.000000  666.000000   20.200000   \n",
       "max      8.780000  100.000000   12.126500   24.000000  711.000000   22.000000   \n",
       "\n",
       "                B       LSTAT        MEDV  \n",
       "count  506.000000  506.000000  506.000000  \n",
       "mean   356.674032   12.653063   22.532806  \n",
       "std     91.294864    7.141062    9.197104  \n",
       "min      0.320000    1.730000    5.000000  \n",
       "25%    375.377500    6.950000   17.025000  \n",
       "50%    391.440000   11.360000   21.200000  \n",
       "75%    396.225000   16.955000   25.000000  \n",
       "max    396.900000   37.970000   50.000000  "
      ]
     },
     "execution_count": 6,
     "metadata": {},
     "output_type": "execute_result"
    }
   ],
   "source": [
    "data.describe()"
   ]
  },
  {
   "cell_type": "code",
   "execution_count": 7,
   "metadata": {},
   "outputs": [
    {
     "data": {
      "text/plain": [
       "Unnamed: 0    0\n",
       "CRIM          0\n",
       "ZN            0\n",
       "INDUS         0\n",
       "CHAS          0\n",
       "NOX           0\n",
       "RM            0\n",
       "AGE           0\n",
       "DIS           0\n",
       "RAD           0\n",
       "TAX           0\n",
       "PTRATIO       0\n",
       "B             0\n",
       "LSTAT         0\n",
       "MEDV          0\n",
       "dtype: int64"
      ]
     },
     "execution_count": 7,
     "metadata": {},
     "output_type": "execute_result"
    }
   ],
   "source": [
    "data.isnull().sum()"
   ]
  },
  {
   "cell_type": "code",
   "execution_count": 8,
   "metadata": {
    "scrolled": true
   },
   "outputs": [
    {
     "data": {
      "text/html": [
       "<div>\n",
       "<style scoped>\n",
       "    .dataframe tbody tr th:only-of-type {\n",
       "        vertical-align: middle;\n",
       "    }\n",
       "\n",
       "    .dataframe tbody tr th {\n",
       "        vertical-align: top;\n",
       "    }\n",
       "\n",
       "    .dataframe thead th {\n",
       "        text-align: right;\n",
       "    }\n",
       "</style>\n",
       "<table border=\"1\" class=\"dataframe\">\n",
       "  <thead>\n",
       "    <tr style=\"text-align: right;\">\n",
       "      <th></th>\n",
       "      <th>Unnamed: 0</th>\n",
       "      <th>CRIM</th>\n",
       "      <th>ZN</th>\n",
       "      <th>INDUS</th>\n",
       "      <th>CHAS</th>\n",
       "      <th>NOX</th>\n",
       "      <th>RM</th>\n",
       "      <th>AGE</th>\n",
       "      <th>DIS</th>\n",
       "      <th>RAD</th>\n",
       "      <th>TAX</th>\n",
       "      <th>PTRATIO</th>\n",
       "      <th>B</th>\n",
       "      <th>LSTAT</th>\n",
       "      <th>MEDV</th>\n",
       "    </tr>\n",
       "  </thead>\n",
       "  <tbody>\n",
       "    <tr>\n",
       "      <th>count</th>\n",
       "      <td>506.000000</td>\n",
       "      <td>506.000000</td>\n",
       "      <td>506.000000</td>\n",
       "      <td>506.000000</td>\n",
       "      <td>506.000000</td>\n",
       "      <td>506.000000</td>\n",
       "      <td>506.000000</td>\n",
       "      <td>506.000000</td>\n",
       "      <td>506.000000</td>\n",
       "      <td>506.000000</td>\n",
       "      <td>506.000000</td>\n",
       "      <td>506.000000</td>\n",
       "      <td>506.000000</td>\n",
       "      <td>506.000000</td>\n",
       "      <td>506.000000</td>\n",
       "    </tr>\n",
       "    <tr>\n",
       "      <th>mean</th>\n",
       "      <td>252.500000</td>\n",
       "      <td>3.613524</td>\n",
       "      <td>11.363636</td>\n",
       "      <td>11.136779</td>\n",
       "      <td>0.069170</td>\n",
       "      <td>0.554695</td>\n",
       "      <td>6.284634</td>\n",
       "      <td>68.574901</td>\n",
       "      <td>3.795043</td>\n",
       "      <td>9.549407</td>\n",
       "      <td>408.237154</td>\n",
       "      <td>18.455534</td>\n",
       "      <td>356.674032</td>\n",
       "      <td>12.653063</td>\n",
       "      <td>22.532806</td>\n",
       "    </tr>\n",
       "    <tr>\n",
       "      <th>std</th>\n",
       "      <td>146.213884</td>\n",
       "      <td>8.601545</td>\n",
       "      <td>23.322453</td>\n",
       "      <td>6.860353</td>\n",
       "      <td>0.253994</td>\n",
       "      <td>0.115878</td>\n",
       "      <td>0.702617</td>\n",
       "      <td>28.148861</td>\n",
       "      <td>2.105710</td>\n",
       "      <td>8.707259</td>\n",
       "      <td>168.537116</td>\n",
       "      <td>2.164946</td>\n",
       "      <td>91.294864</td>\n",
       "      <td>7.141062</td>\n",
       "      <td>9.197104</td>\n",
       "    </tr>\n",
       "    <tr>\n",
       "      <th>min</th>\n",
       "      <td>0.000000</td>\n",
       "      <td>0.006320</td>\n",
       "      <td>0.000000</td>\n",
       "      <td>0.460000</td>\n",
       "      <td>0.000000</td>\n",
       "      <td>0.385000</td>\n",
       "      <td>3.561000</td>\n",
       "      <td>2.900000</td>\n",
       "      <td>1.129600</td>\n",
       "      <td>1.000000</td>\n",
       "      <td>187.000000</td>\n",
       "      <td>12.600000</td>\n",
       "      <td>0.320000</td>\n",
       "      <td>1.730000</td>\n",
       "      <td>5.000000</td>\n",
       "    </tr>\n",
       "    <tr>\n",
       "      <th>25%</th>\n",
       "      <td>126.250000</td>\n",
       "      <td>0.082045</td>\n",
       "      <td>0.000000</td>\n",
       "      <td>5.190000</td>\n",
       "      <td>0.000000</td>\n",
       "      <td>0.449000</td>\n",
       "      <td>5.885500</td>\n",
       "      <td>45.025000</td>\n",
       "      <td>2.100175</td>\n",
       "      <td>4.000000</td>\n",
       "      <td>279.000000</td>\n",
       "      <td>17.400000</td>\n",
       "      <td>375.377500</td>\n",
       "      <td>6.950000</td>\n",
       "      <td>17.025000</td>\n",
       "    </tr>\n",
       "    <tr>\n",
       "      <th>50%</th>\n",
       "      <td>252.500000</td>\n",
       "      <td>0.256510</td>\n",
       "      <td>0.000000</td>\n",
       "      <td>9.690000</td>\n",
       "      <td>0.000000</td>\n",
       "      <td>0.538000</td>\n",
       "      <td>6.208500</td>\n",
       "      <td>77.500000</td>\n",
       "      <td>3.207450</td>\n",
       "      <td>5.000000</td>\n",
       "      <td>330.000000</td>\n",
       "      <td>19.050000</td>\n",
       "      <td>391.440000</td>\n",
       "      <td>11.360000</td>\n",
       "      <td>21.200000</td>\n",
       "    </tr>\n",
       "    <tr>\n",
       "      <th>75%</th>\n",
       "      <td>378.750000</td>\n",
       "      <td>3.677082</td>\n",
       "      <td>12.500000</td>\n",
       "      <td>18.100000</td>\n",
       "      <td>0.000000</td>\n",
       "      <td>0.624000</td>\n",
       "      <td>6.623500</td>\n",
       "      <td>94.075000</td>\n",
       "      <td>5.188425</td>\n",
       "      <td>24.000000</td>\n",
       "      <td>666.000000</td>\n",
       "      <td>20.200000</td>\n",
       "      <td>396.225000</td>\n",
       "      <td>16.955000</td>\n",
       "      <td>25.000000</td>\n",
       "    </tr>\n",
       "    <tr>\n",
       "      <th>max</th>\n",
       "      <td>505.000000</td>\n",
       "      <td>88.976200</td>\n",
       "      <td>100.000000</td>\n",
       "      <td>27.740000</td>\n",
       "      <td>1.000000</td>\n",
       "      <td>0.871000</td>\n",
       "      <td>8.780000</td>\n",
       "      <td>100.000000</td>\n",
       "      <td>12.126500</td>\n",
       "      <td>24.000000</td>\n",
       "      <td>711.000000</td>\n",
       "      <td>22.000000</td>\n",
       "      <td>396.900000</td>\n",
       "      <td>37.970000</td>\n",
       "      <td>50.000000</td>\n",
       "    </tr>\n",
       "  </tbody>\n",
       "</table>\n",
       "</div>"
      ],
      "text/plain": [
       "       Unnamed: 0        CRIM          ZN       INDUS        CHAS         NOX  \\\n",
       "count  506.000000  506.000000  506.000000  506.000000  506.000000  506.000000   \n",
       "mean   252.500000    3.613524   11.363636   11.136779    0.069170    0.554695   \n",
       "std    146.213884    8.601545   23.322453    6.860353    0.253994    0.115878   \n",
       "min      0.000000    0.006320    0.000000    0.460000    0.000000    0.385000   \n",
       "25%    126.250000    0.082045    0.000000    5.190000    0.000000    0.449000   \n",
       "50%    252.500000    0.256510    0.000000    9.690000    0.000000    0.538000   \n",
       "75%    378.750000    3.677082   12.500000   18.100000    0.000000    0.624000   \n",
       "max    505.000000   88.976200  100.000000   27.740000    1.000000    0.871000   \n",
       "\n",
       "               RM         AGE         DIS         RAD         TAX     PTRATIO  \\\n",
       "count  506.000000  506.000000  506.000000  506.000000  506.000000  506.000000   \n",
       "mean     6.284634   68.574901    3.795043    9.549407  408.237154   18.455534   \n",
       "std      0.702617   28.148861    2.105710    8.707259  168.537116    2.164946   \n",
       "min      3.561000    2.900000    1.129600    1.000000  187.000000   12.600000   \n",
       "25%      5.885500   45.025000    2.100175    4.000000  279.000000   17.400000   \n",
       "50%      6.208500   77.500000    3.207450    5.000000  330.000000   19.050000   \n",
       "75%      6.623500   94.075000    5.188425   24.000000  666.000000   20.200000   \n",
       "max      8.780000  100.000000   12.126500   24.000000  711.000000   22.000000   \n",
       "\n",
       "                B       LSTAT        MEDV  \n",
       "count  506.000000  506.000000  506.000000  \n",
       "mean   356.674032   12.653063   22.532806  \n",
       "std     91.294864    7.141062    9.197104  \n",
       "min      0.320000    1.730000    5.000000  \n",
       "25%    375.377500    6.950000   17.025000  \n",
       "50%    391.440000   11.360000   21.200000  \n",
       "75%    396.225000   16.955000   25.000000  \n",
       "max    396.900000   37.970000   50.000000  "
      ]
     },
     "execution_count": 8,
     "metadata": {},
     "output_type": "execute_result"
    }
   ],
   "source": [
    "data.describe()"
   ]
  },
  {
   "cell_type": "code",
   "execution_count": 9,
   "metadata": {},
   "outputs": [
    {
     "name": "stderr",
     "output_type": "stream",
     "text": [
      "C:\\Users\\Ruchit\\anaconda3\\lib\\site-packages\\seaborn\\_decorators.py:36: FutureWarning: Pass the following variable as a keyword arg: x. From version 0.12, the only valid positional argument will be `data`, and passing other arguments without an explicit keyword will result in an error or misinterpretation.\n",
      "  warnings.warn(\n"
     ]
    },
    {
     "data": {
      "text/plain": [
       "<AxesSubplot:xlabel='CRIM'>"
      ]
     },
     "execution_count": 9,
     "metadata": {},
     "output_type": "execute_result"
    },
    {
     "data": {
      "image/png": "[encoded data removed]",
      "text/plain": [
       "<Figure size 432x288 with 1 Axes>"
      ]
     },
     "metadata": {
      "needs_background": "light"
     },
     "output_type": "display_data"
    }
   ],
   "source": [
    "sn.boxplot(data['CRIM'])"
   ]
  },
  {
   "cell_type": "code",
   "execution_count": 10,
   "metadata": {},
   "outputs": [
    {
     "name": "stderr",
     "output_type": "stream",
     "text": [
      "C:\\Users\\Ruchit\\anaconda3\\lib\\site-packages\\seaborn\\_decorators.py:36: FutureWarning: Pass the following variable as a keyword arg: x. From version 0.12, the only valid positional argument will be `data`, and passing other arguments without an explicit keyword will result in an error or misinterpretation.\n",
      "  warnings.warn(\n"
     ]
    },
    {
     "data": {
      "text/plain": [
       "<AxesSubplot:xlabel='ZN'>"
      ]
     },
     "execution_count": 10,
     "metadata": {},
     "output_type": "execute_result"
    },
    {
     "data": {
      "image/png": "[encoded data removed]",
      "text/plain": [
       "<Figure size 432x288 with 1 Axes>"
      ]
     },
     "metadata": {
      "needs_background": "light"
     },
     "output_type": "display_data"
    }
   ],
   "source": [
    "sn.boxplot(data['ZN'])"
   ]
  },
  {
   "cell_type": "code",
   "execution_count": 11,
   "metadata": {},
   "outputs": [
    {
     "name": "stderr",
     "output_type": "stream",
     "text": [
      "C:\\Users\\Ruchit\\anaconda3\\lib\\site-packages\\seaborn\\_decorators.py:36: FutureWarning: Pass the following variable as a keyword arg: x. From version 0.12, the only valid positional argument will be `data`, and passing other arguments without an explicit keyword will result in an error or misinterpretation.\n",
      "  warnings.warn(\n"
     ]
    },
    {
     "data": {
      "text/plain": [
       "<AxesSubplot:xlabel='INDUS'>"
      ]
     },
     "execution_count": 11,
     "metadata": {},
     "output_type": "execute_result"
    },
    {
     "data": {
      "image/png": "[encoded data removed]",
      "text/plain": [
       "<Figure size 432x288 with 1 Axes>"
      ]
     },
     "metadata": {
      "needs_background": "light"
     },
     "output_type": "display_data"
    }
   ],
   "source": [
    "sn.boxplot(data['INDUS'])"
   ]
  },
  {
   "cell_type": "code",
   "execution_count": 12,
   "metadata": {},
   "outputs": [
    {
     "name": "stderr",
     "output_type": "stream",
     "text": [
      "C:\\Users\\Ruchit\\anaconda3\\lib\\site-packages\\seaborn\\_decorators.py:36: FutureWarning: Pass the following variable as a keyword arg: x. From version 0.12, the only valid positional argument will be `data`, and passing other arguments without an explicit keyword will result in an error or misinterpretation.\n",
      "  warnings.warn(\n"
     ]
    },
    {
     "data": {
      "text/plain": [
       "<AxesSubplot:xlabel='CHAS'>"
      ]
     },
     "execution_count": 12,
     "metadata": {},
     "output_type": "execute_result"
    },
    {
     "data": {
      "image/png": "[encoded data removed]",
      "text/plain": [
       "<Figure size 432x288 with 1 Axes>"
      ]
     },
     "metadata": {
      "needs_background": "light"
     },
     "output_type": "display_data"
    }
   ],
   "source": [
    "sn.boxplot(data['CHAS'])"
   ]
  },
  {
   "cell_type": "code",
   "execution_count": 13,
   "metadata": {},
   "outputs": [
    {
     "name": "stderr",
     "output_type": "stream",
     "text": [
      "C:\\Users\\Ruchit\\anaconda3\\lib\\site-packages\\seaborn\\_decorators.py:36: FutureWarning: Pass the following variable as a keyword arg: x. From version 0.12, the only valid positional argument will be `data`, and passing other arguments without an explicit keyword will result in an error or misinterpretation.\n",
      "  warnings.warn(\n"
     ]
    },
    {
     "data": {
      "text/plain": [
       "<AxesSubplot:xlabel='NOX'>"
      ]
     },
     "execution_count": 13,
     "metadata": {},
     "output_type": "execute_result"
    },
    {
     "data": {
      "image/png": "[encoded data removed]",
      "text/plain": [
       "<Figure size 432x288 with 1 Axes>"
      ]
     },
     "metadata": {
      "needs_background": "light"
     },
     "output_type": "display_data"
    }
   ],
   "source": [
    "sn.boxplot(data['NOX'])"
   ]
  },
  {
   "cell_type": "code",
   "execution_count": 14,
   "metadata": {},
   "outputs": [
    {
     "name": "stderr",
     "output_type": "stream",
     "text": [
      "C:\\Users\\Ruchit\\anaconda3\\lib\\site-packages\\seaborn\\_decorators.py:36: FutureWarning: Pass the following variable as a keyword arg: x. From version 0.12, the only valid positional argument will be `data`, and passing other arguments without an explicit keyword will result in an error or misinterpretation.\n",
      "  warnings.warn(\n"
     ]
    },
    {
     "data": {
      "text/plain": [
       "<AxesSubplot:xlabel='RM'>"
      ]
     },
     "execution_count": 14,
     "metadata": {},
     "output_type": "execute_result"
    },
    {
     "data": {
      "image/png": "[encoded data removed]",
      "text/plain": [
       "<Figure size 432x288 with 1 Axes>"
      ]
     },
     "metadata": {
      "needs_background": "light"
     },
     "output_type": "display_data"
    }
   ],
   "source": [
    "sn.boxplot(data['RM'])"
   ]
  },
  {
   "cell_type": "code",
   "execution_count": 15,
   "metadata": {},
   "outputs": [
    {
     "name": "stderr",
     "output_type": "stream",
     "text": [
      "C:\\Users\\Ruchit\\anaconda3\\lib\\site-packages\\seaborn\\_decorators.py:36: FutureWarning: Pass the following variable as a keyword arg: x. From version 0.12, the only valid positional argument will be `data`, and passing other arguments without an explicit keyword will result in an error or misinterpretation.\n",
      "  warnings.warn(\n"
     ]
    },
    {
     "data": {
      "text/plain": [
       "<AxesSubplot:xlabel='AGE'>"
      ]
     },
     "execution_count": 15,
     "metadata": {},
     "output_type": "execute_result"
    },
    {
     "data": {
      "image/png": "[encoded data removed]",
      "text/plain": [
       "<Figure size 432x288 with 1 Axes>"
      ]
     },
     "metadata": {
      "needs_background": "light"
     },
     "output_type": "display_data"
    }
   ],
   "source": [
    "sn.boxplot(data['AGE'])"
   ]
  },
  {
   "cell_type": "code",
   "execution_count": 16,
   "metadata": {},
   "outputs": [
    {
     "name": "stderr",
     "output_type": "stream",
     "text": [
      "C:\\Users\\Ruchit\\anaconda3\\lib\\site-packages\\seaborn\\_decorators.py:36: FutureWarning: Pass the following variable as a keyword arg: x. From version 0.12, the only valid positional argument will be `data`, and passing other arguments without an explicit keyword will result in an error or misinterpretation.\n",
      "  warnings.warn(\n"
     ]
    },
    {
     "data": {
      "text/plain": [
       "<AxesSubplot:xlabel='DIS'>"
      ]
     },
     "execution_count": 16,
     "metadata": {},
     "output_type": "execute_result"
    },
    {
     "data": {
      "image/png": "[encoded data removed]",
      "text/plain": [
       "<Figure size 432x288 with 1 Axes>"
      ]
     },
     "metadata": {
      "needs_background": "light"
     },
     "output_type": "display_data"
    }
   ],
   "source": [
    "sn.boxplot(data['DIS'])"
   ]
  },
  {
   "cell_type": "code",
   "execution_count": 17,
   "metadata": {},
   "outputs": [
    {
     "name": "stderr",
     "output_type": "stream",
     "text": [
      "C:\\Users\\Ruchit\\anaconda3\\lib\\site-packages\\seaborn\\_decorators.py:36: FutureWarning: Pass the following variable as a keyword arg: x. From version 0.12, the only valid positional argument will be `data`, and passing other arguments without an explicit keyword will result in an error or misinterpretation.\n",
      "  warnings.warn(\n"
     ]
    },
    {
     "data": {
      "text/plain": [
       "<AxesSubplot:xlabel='RAD'>"
      ]
     },
     "execution_count": 17,
     "metadata": {},
     "output_type": "execute_result"
    },
    {
     "data": {
      "image/png": "[encoded data removed]",
      "text/plain": [
       "<Figure size 432x288 with 1 Axes>"
      ]
     },
     "metadata": {
      "needs_background": "light"
     },
     "output_type": "display_data"
    }
   ],
   "source": [
    "sn.boxplot(data['RAD'])"
   ]
  },
  {
   "cell_type": "code",
   "execution_count": 18,
   "metadata": {},
   "outputs": [
    {
     "name": "stderr",
     "output_type": "stream",
     "text": [
      "C:\\Users\\Ruchit\\anaconda3\\lib\\site-packages\\seaborn\\_decorators.py:36: FutureWarning: Pass the following variable as a keyword arg: x. From version 0.12, the only valid positional argument will be `data`, and passing other arguments without an explicit keyword will result in an error or misinterpretation.\n",
      "  warnings.warn(\n"
     ]
    },
    {
     "data": {
      "text/plain": [
       "<AxesSubplot:xlabel='TAX'>"
      ]
     },
     "execution_count": 18,
     "metadata": {},
     "output_type": "execute_result"
    },
    {
     "data": {
      "image/png": "[encoded data removed]",
      "text/plain": [
       "<Figure size 432x288 with 1 Axes>"
      ]
     },
     "metadata": {
      "needs_background": "light"
     },
     "output_type": "display_data"
    }
   ],
   "source": [
    "sn.boxplot(data['TAX'])"
   ]
  },
  {
   "cell_type": "code",
   "execution_count": 19,
   "metadata": {},
   "outputs": [
    {
     "name": "stderr",
     "output_type": "stream",
     "text": [
      "C:\\Users\\Ruchit\\anaconda3\\lib\\site-packages\\seaborn\\_decorators.py:36: FutureWarning: Pass the following variable as a keyword arg: x. From version 0.12, the only valid positional argument will be `data`, and passing other arguments without an explicit keyword will result in an error or misinterpretation.\n",
      "  warnings.warn(\n"
     ]
    },
    {
     "data": {
      "text/plain": [
       "<AxesSubplot:xlabel='PTRATIO'>"
      ]
     },
     "execution_count": 19,
     "metadata": {},
     "output_type": "execute_result"
    },
    {
     "data": {
      "image/png": "[encoded data removed]",
      "text/plain": [
       "<Figure size 432x288 with 1 Axes>"
      ]
     },
     "metadata": {
      "needs_background": "light"
     },
     "output_type": "display_data"
    }
   ],
   "source": [
    "sn.boxplot(data['PTRATIO'])"
   ]
  },
  {
   "cell_type": "code",
   "execution_count": 20,
   "metadata": {},
   "outputs": [
    {
     "name": "stderr",
     "output_type": "stream",
     "text": [
      "C:\\Users\\Ruchit\\anaconda3\\lib\\site-packages\\seaborn\\_decorators.py:36: FutureWarning: Pass the following variable as a keyword arg: x. From version 0.12, the only valid positional argument will be `data`, and passing other arguments without an explicit keyword will result in an error or misinterpretation.\n",
      "  warnings.warn(\n"
     ]
    },
    {
     "data": {
      "text/plain": [
       "<AxesSubplot:xlabel='B'>"
      ]
     },
     "execution_count": 20,
     "metadata": {},
     "output_type": "execute_result"
    },
    {
     "data": {
      "image/png": "[encoded data removed]",
      "text/plain": [
       "<Figure size 432x288 with 1 Axes>"
      ]
     },
     "metadata": {
      "needs_background": "light"
     },
     "output_type": "display_data"
    }
   ],
   "source": [
    "sn.boxplot(data['B'])"
   ]
  },
  {
   "cell_type": "code",
   "execution_count": 21,
   "metadata": {},
   "outputs": [
    {
     "name": "stderr",
     "output_type": "stream",
     "text": [
      "C:\\Users\\Ruchit\\anaconda3\\lib\\site-packages\\seaborn\\_decorators.py:36: FutureWarning: Pass the following variable as a keyword arg: x. From version 0.12, the only valid positional argument will be `data`, and passing other arguments without an explicit keyword will result in an error or misinterpretation.\n",
      "  warnings.warn(\n"
     ]
    },
    {
     "data": {
      "text/plain": [
       "<AxesSubplot:xlabel='LSTAT'>"
      ]
     },
     "execution_count": 21,
     "metadata": {},
     "output_type": "execute_result"
    },
    {
     "data": {
      "image/png": "[encoded data removed]",
      "text/plain": [
       "<Figure size 432x288 with 1 Axes>"
      ]
     },
     "metadata": {
      "needs_background": "light"
     },
     "output_type": "display_data"
    }
   ],
   "source": [
    "sn.boxplot(data['LSTAT'])"
   ]
  },
  {
   "cell_type": "code",
   "execution_count": 22,
   "metadata": {},
   "outputs": [
    {
     "data": {
      "text/plain": [
       "count    506.000000\n",
       "mean       0.069170\n",
       "std        0.253994\n",
       "min        0.000000\n",
       "25%        0.000000\n",
       "50%        0.000000\n",
       "75%        0.000000\n",
       "max        1.000000\n",
       "Name: CHAS, dtype: float64"
      ]
     },
     "execution_count": 22,
     "metadata": {},
     "output_type": "execute_result"
    }
   ],
   "source": [
    "data['CHAS'].describe()"
   ]
  },
  {
   "cell_type": "code",
   "execution_count": 23,
   "metadata": {
    "scrolled": true
   },
   "outputs": [
    {
     "data": {
      "text/plain": [
       "0.0    471\n",
       "1.0     35\n",
       "Name: CHAS, dtype: int64"
      ]
     },
     "execution_count": 23,
     "metadata": {},
     "output_type": "execute_result"
    }
   ],
   "source": [
    "data['CHAS'].value_counts()"
   ]
  },
  {
   "cell_type": "code",
   "execution_count": 24,
   "metadata": {},
   "outputs": [
    {
     "data": {
      "text/plain": [
       "count    506.000000\n",
       "mean       3.795043\n",
       "std        2.105710\n",
       "min        1.129600\n",
       "25%        2.100175\n",
       "50%        3.207450\n",
       "75%        5.188425\n",
       "max       12.126500\n",
       "Name: DIS, dtype: float64"
      ]
     },
     "execution_count": 24,
     "metadata": {},
     "output_type": "execute_result"
    }
   ],
   "source": [
    "data['DIS'].describe()"
   ]
  },
  {
   "cell_type": "code",
   "execution_count": 25,
   "metadata": {},
   "outputs": [],
   "source": [
    "iqr=5.188425-2.100175"
   ]
  },
  {
   "cell_type": "code",
   "execution_count": 26,
   "metadata": {},
   "outputs": [],
   "source": [
    "l=2.100175-1.5*iqr\n",
    "u=5.188425+1.5*iqr"
   ]
  },
  {
   "cell_type": "code",
   "execution_count": 27,
   "metadata": {},
   "outputs": [
    {
     "data": {
      "text/plain": [
       "(-2.5321999999999996, 9.820799999999998)"
      ]
     },
     "execution_count": 27,
     "metadata": {},
     "output_type": "execute_result"
    }
   ],
   "source": [
    "l,u"
   ]
  },
  {
   "cell_type": "code",
   "execution_count": 28,
   "metadata": {},
   "outputs": [],
   "source": [
    "out=[]\n",
    "for i in data['DIS']:\n",
    "    if l<i<u:\n",
    "        continue\n",
    "        \n",
    "    else:\n",
    "        out.append(i)"
   ]
  },
  {
   "cell_type": "code",
   "execution_count": 29,
   "metadata": {},
   "outputs": [
    {
     "data": {
      "text/plain": [
       "[10.7103, 10.7103, 12.1265, 10.5857, 10.5857]"
      ]
     },
     "execution_count": 29,
     "metadata": {},
     "output_type": "execute_result"
    }
   ],
   "source": [
    "out"
   ]
  },
  {
   "cell_type": "code",
   "execution_count": 30,
   "metadata": {},
   "outputs": [
    {
     "data": {
      "text/plain": [
       "((array([351, 352], dtype=int64),),\n",
       " (array([351, 352], dtype=int64),),\n",
       " (array([353], dtype=int64),),\n",
       " (array([354, 355], dtype=int64),),\n",
       " (array([354, 355], dtype=int64),))"
      ]
     },
     "execution_count": 30,
     "metadata": {},
     "output_type": "execute_result"
    }
   ],
   "source": [
    "np.where(data['DIS']==10.7103),np.where(data['DIS']==10.7103),np.where(data['DIS']==12.1265),np.where(data['DIS']==10.5857),np.where(data['DIS']==10.5857)"
   ]
  },
  {
   "cell_type": "code",
   "execution_count": 31,
   "metadata": {},
   "outputs": [
    {
     "data": {
      "text/plain": [
       "(506, 15)"
      ]
     },
     "execution_count": 31,
     "metadata": {},
     "output_type": "execute_result"
    }
   ],
   "source": [
    "data.shape"
   ]
  },
  {
   "cell_type": "code",
   "execution_count": 32,
   "metadata": {},
   "outputs": [
    {
     "data": {
      "text/plain": [
       "(501, 15)"
      ]
     },
     "execution_count": 32,
     "metadata": {},
     "output_type": "execute_result"
    }
   ],
   "source": [
    "data=data.drop(data.index[351])\n",
    "data=data.drop(data.index[352])\n",
    "data=data.drop(data.index[353])\n",
    "data=data.drop(data.index[354])\n",
    "data=data.drop(data.index[355])\n",
    "\n",
    "data.shape"
   ]
  },
  {
   "cell_type": "code",
   "execution_count": 33,
   "metadata": {},
   "outputs": [
    {
     "name": "stderr",
     "output_type": "stream",
     "text": [
      "C:\\Users\\Ruchit\\anaconda3\\lib\\site-packages\\seaborn\\_decorators.py:36: FutureWarning: Pass the following variable as a keyword arg: x. From version 0.12, the only valid positional argument will be `data`, and passing other arguments without an explicit keyword will result in an error or misinterpretation.\n",
      "  warnings.warn(\n"
     ]
    },
    {
     "data": {
      "text/plain": [
       "<AxesSubplot:xlabel='DIS'>"
      ]
     },
     "execution_count": 33,
     "metadata": {},
     "output_type": "execute_result"
    },
    {
     "data": {
      "image/png": "[encoded data removed]",
      "text/plain": [
       "<Figure size 432x288 with 1 Axes>"
      ]
     },
     "metadata": {
      "needs_background": "light"
     },
     "output_type": "display_data"
    }
   ],
   "source": [
    "sn.boxplot(data['DIS'])"
   ]
  },
  {
   "cell_type": "code",
   "execution_count": 34,
   "metadata": {},
   "outputs": [
    {
     "data": {
      "text/plain": [
       "20.2    138\n",
       "14.7     34\n",
       "21.0     27\n",
       "17.8     23\n",
       "19.2     19\n",
       "17.4     18\n",
       "18.6     17\n",
       "19.1     17\n",
       "16.6     16\n",
       "18.4     16\n",
       "21.2     15\n",
       "15.2     13\n",
       "13.0     12\n",
       "20.9     11\n",
       "17.9     11\n",
       "18.7      9\n",
       "19.7      8\n",
       "19.6      8\n",
       "17.6      7\n",
       "16.4      6\n",
       "18.0      5\n",
       "16.0      5\n",
       "20.1      5\n",
       "16.1      5\n",
       "16.9      5\n",
       "16.8      4\n",
       "14.9      4\n",
       "19.0      4\n",
       "18.5      4\n",
       "18.2      4\n",
       "17.0      3\n",
       "18.3      3\n",
       "12.6      3\n",
       "14.8      3\n",
       "18.9      3\n",
       "15.3      3\n",
       "15.9      2\n",
       "15.6      2\n",
       "18.8      2\n",
       "22.0      1\n",
       "15.5      1\n",
       "17.3      1\n",
       "15.1      1\n",
       "21.1      1\n",
       "13.6      1\n",
       "14.4      1\n",
       "Name: PTRATIO, dtype: int64"
      ]
     },
     "execution_count": 34,
     "metadata": {},
     "output_type": "execute_result"
    }
   ],
   "source": [
    "data['PTRATIO'].value_counts()"
   ]
  },
  {
   "cell_type": "code",
   "execution_count": 35,
   "metadata": {},
   "outputs": [
    {
     "data": {
      "text/plain": [
       "((array([257, 258, 259, 260, 261, 262, 263, 264, 265, 266, 267, 268],\n",
       "        dtype=int64),),\n",
       " (array([196, 197, 198], dtype=int64),))"
      ]
     },
     "execution_count": 35,
     "metadata": {},
     "output_type": "execute_result"
    }
   ],
   "source": [
    "np.where(data['PTRATIO']==13.0),np.where(data['PTRATIO']==12.6)"
   ]
  },
  {
   "cell_type": "code",
   "execution_count": 36,
   "metadata": {},
   "outputs": [
    {
     "data": {
      "text/plain": [
       "(486, 15)"
      ]
     },
     "execution_count": 36,
     "metadata": {},
     "output_type": "execute_result"
    }
   ],
   "source": [
    "data=data.drop(data.index[257])\n",
    "data=data.drop(data.index[258])\n",
    "data=data.drop(data.index[259])\n",
    "data=data.drop(data.index[260])\n",
    "data=data.drop(data.index[261])\n",
    "data=data.drop(data.index[262])\n",
    "data=data.drop(data.index[263])\n",
    "data=data.drop(data.index[264])\n",
    "data=data.drop(data.index[265])\n",
    "data=data.drop(data.index[266])\n",
    "data=data.drop(data.index[267])\n",
    "data=data.drop(data.index[268])\n",
    "data=data.drop(data.index[196])\n",
    "data=data.drop(data.index[197])\n",
    "data=data.drop(data.index[198])\n",
    "data.shape\n"
   ]
  },
  {
   "cell_type": "code",
   "execution_count": 37,
   "metadata": {
    "scrolled": false
   },
   "outputs": [
    {
     "name": "stderr",
     "output_type": "stream",
     "text": [
      "C:\\Users\\Ruchit\\anaconda3\\lib\\site-packages\\seaborn\\_decorators.py:36: FutureWarning: Pass the following variable as a keyword arg: x. From version 0.12, the only valid positional argument will be `data`, and passing other arguments without an explicit keyword will result in an error or misinterpretation.\n",
      "  warnings.warn(\n"
     ]
    },
    {
     "data": {
      "text/plain": [
       "<AxesSubplot:xlabel='PTRATIO'>"
      ]
     },
     "execution_count": 37,
     "metadata": {},
     "output_type": "execute_result"
    },
    {
     "data": {
      "image/png": "[encoded data removed]",
      "text/plain": [
       "<Figure size 432x288 with 1 Axes>"
      ]
     },
     "metadata": {
      "needs_background": "light"
     },
     "output_type": "display_data"
    }
   ],
   "source": [
    "sn.boxplot(data['PTRATIO'])"
   ]
  },
  {
   "cell_type": "code",
   "execution_count": 38,
   "metadata": {},
   "outputs": [
    {
     "data": {
      "text/plain": [
       "6.36     3\n",
       "8.05     3\n",
       "18.13    3\n",
       "14.10    3\n",
       "7.79     3\n",
       "        ..\n",
       "19.31    1\n",
       "5.90     1\n",
       "26.42    1\n",
       "24.56    1\n",
       "10.27    1\n",
       "Name: LSTAT, Length: 442, dtype: int64"
      ]
     },
     "execution_count": 38,
     "metadata": {},
     "output_type": "execute_result"
    }
   ],
   "source": [
    "data['LSTAT'].value_counts()"
   ]
  },
  {
   "cell_type": "code",
   "execution_count": 39,
   "metadata": {},
   "outputs": [
    {
     "data": {
      "text/plain": [
       "count    486.000000\n",
       "mean      12.877716\n",
       "std        7.169258\n",
       "min        1.730000\n",
       "25%        7.347500\n",
       "50%       11.655000\n",
       "75%       17.142500\n",
       "max       37.970000\n",
       "Name: LSTAT, dtype: float64"
      ]
     },
     "execution_count": 39,
     "metadata": {},
     "output_type": "execute_result"
    }
   ],
   "source": [
    "data['LSTAT'].describe()"
   ]
  },
  {
   "cell_type": "code",
   "execution_count": 40,
   "metadata": {},
   "outputs": [],
   "source": [
    "iqr=17.142500-7.182500"
   ]
  },
  {
   "cell_type": "code",
   "execution_count": 41,
   "metadata": {},
   "outputs": [],
   "source": [
    "l=7.182500-1.5*iqr\n",
    "u=17.142500+1.5*iqr"
   ]
  },
  {
   "cell_type": "code",
   "execution_count": 42,
   "metadata": {},
   "outputs": [
    {
     "data": {
      "text/plain": [
       "(-7.757499999999996, 32.082499999999996)"
      ]
     },
     "execution_count": 42,
     "metadata": {},
     "output_type": "execute_result"
    }
   ],
   "source": [
    "l,u"
   ]
  },
  {
   "cell_type": "code",
   "execution_count": 43,
   "metadata": {},
   "outputs": [],
   "source": [
    "out=[]\n",
    "for i in data['LSTAT']:\n",
    "    if l<i<u:\n",
    "        continue\n",
    "        \n",
    "    else:\n",
    "        out.append(i)"
   ]
  },
  {
   "cell_type": "code",
   "execution_count": 44,
   "metadata": {},
   "outputs": [
    {
     "data": {
      "text/plain": [
       "[34.41, 34.77, 37.97, 34.37, 36.98, 34.02]"
      ]
     },
     "execution_count": 44,
     "metadata": {},
     "output_type": "execute_result"
    }
   ],
   "source": [
    "out"
   ]
  },
  {
   "cell_type": "code",
   "execution_count": 45,
   "metadata": {},
   "outputs": [
    {
     "data": {
      "text/plain": [
       "((array([141], dtype=int64),),\n",
       " (array([353], dtype=int64),),\n",
       " (array([354], dtype=int64),),\n",
       " (array([392], dtype=int64),),\n",
       " (array([394], dtype=int64),),\n",
       " (array([418], dtype=int64),))"
      ]
     },
     "execution_count": 45,
     "metadata": {},
     "output_type": "execute_result"
    }
   ],
   "source": [
    "np.where(data['LSTAT']==34.41),np.where(data['LSTAT']==34.77),np.where(data['LSTAT']==37.97),np.where(data['LSTAT']==34.37),np.where(data['LSTAT']==36.98),np.where(data['LSTAT']==34.02)"
   ]
  },
  {
   "cell_type": "code",
   "execution_count": 46,
   "metadata": {},
   "outputs": [
    {
     "data": {
      "text/plain": [
       "(480, 15)"
      ]
     },
     "execution_count": 46,
     "metadata": {},
     "output_type": "execute_result"
    }
   ],
   "source": [
    "data=data.drop(data.index[141])\n",
    "data=data.drop(data.index[373])\n",
    "data=data.drop(data.index[374])\n",
    "data=data.drop(data.index[412])\n",
    "data=data.drop(data.index[414])\n",
    "data=data.drop(data.index[438])\n",
    "data.shape\n"
   ]
  },
  {
   "cell_type": "code",
   "execution_count": 47,
   "metadata": {},
   "outputs": [
    {
     "name": "stderr",
     "output_type": "stream",
     "text": [
      "C:\\Users\\Ruchit\\anaconda3\\lib\\site-packages\\seaborn\\_decorators.py:36: FutureWarning: Pass the following variable as a keyword arg: x. From version 0.12, the only valid positional argument will be `data`, and passing other arguments without an explicit keyword will result in an error or misinterpretation.\n",
      "  warnings.warn(\n"
     ]
    },
    {
     "data": {
      "text/plain": [
       "<AxesSubplot:xlabel='LSTAT'>"
      ]
     },
     "execution_count": 47,
     "metadata": {},
     "output_type": "execute_result"
    },
    {
     "data": {
      "image/png": "[encoded data removed]",
      "text/plain": [
       "<Figure size 432x288 with 1 Axes>"
      ]
     },
     "metadata": {
      "needs_background": "light"
     },
     "output_type": "display_data"
    }
   ],
   "source": [
    "sn.boxplot(data['LSTAT'])"
   ]
  },
  {
   "cell_type": "code",
   "execution_count": 48,
   "metadata": {},
   "outputs": [
    {
     "data": {
      "text/plain": [
       "count    480.000000\n",
       "mean      12.751792\n",
       "std        7.054960\n",
       "min        1.730000\n",
       "25%        7.215000\n",
       "50%       11.570000\n",
       "75%       17.102500\n",
       "max       37.970000\n",
       "Name: LSTAT, dtype: float64"
      ]
     },
     "execution_count": 48,
     "metadata": {},
     "output_type": "execute_result"
    }
   ],
   "source": [
    "data['LSTAT'].describe()"
   ]
  },
  {
   "cell_type": "code",
   "execution_count": 49,
   "metadata": {},
   "outputs": [],
   "source": [
    "iqr=16.992500-7.135000"
   ]
  },
  {
   "cell_type": "code",
   "execution_count": 50,
   "metadata": {},
   "outputs": [],
   "source": [
    "l=7.135000-1.5*iqr\n",
    "u=16.992500+1.5*iqr"
   ]
  },
  {
   "cell_type": "code",
   "execution_count": 51,
   "metadata": {},
   "outputs": [
    {
     "data": {
      "text/plain": [
       "(-7.651249999999999, 31.77875)"
      ]
     },
     "execution_count": 51,
     "metadata": {},
     "output_type": "execute_result"
    }
   ],
   "source": [
    "l,u"
   ]
  },
  {
   "cell_type": "code",
   "execution_count": 52,
   "metadata": {},
   "outputs": [],
   "source": [
    "out=[]\n",
    "for i in data['LSTAT']:\n",
    "    if l<i<u:\n",
    "        continue\n",
    "        \n",
    "    else:\n",
    "        out.append(i)"
   ]
  },
  {
   "cell_type": "code",
   "execution_count": 53,
   "metadata": {},
   "outputs": [
    {
     "data": {
      "text/plain": [
       "[34.77, 37.97, 31.99, 34.37, 36.98]"
      ]
     },
     "execution_count": 53,
     "metadata": {},
     "output_type": "execute_result"
    }
   ],
   "source": [
    "out"
   ]
  },
  {
   "cell_type": "code",
   "execution_count": 54,
   "metadata": {},
   "outputs": [
    {
     "data": {
      "text/plain": [
       "(array([366], dtype=int64),)"
      ]
     },
     "execution_count": 54,
     "metadata": {},
     "output_type": "execute_result"
    }
   ],
   "source": [
    "np.where(data['LSTAT']==31.99)"
   ]
  },
  {
   "cell_type": "code",
   "execution_count": 55,
   "metadata": {},
   "outputs": [
    {
     "data": {
      "text/plain": [
       "(479, 15)"
      ]
     },
     "execution_count": 55,
     "metadata": {},
     "output_type": "execute_result"
    }
   ],
   "source": [
    "data=data.drop(data.index[364])\n",
    "\n",
    "data.shape"
   ]
  },
  {
   "cell_type": "code",
   "execution_count": 56,
   "metadata": {},
   "outputs": [
    {
     "name": "stderr",
     "output_type": "stream",
     "text": [
      "C:\\Users\\Ruchit\\anaconda3\\lib\\site-packages\\seaborn\\_decorators.py:36: FutureWarning: Pass the following variable as a keyword arg: x. From version 0.12, the only valid positional argument will be `data`, and passing other arguments without an explicit keyword will result in an error or misinterpretation.\n",
      "  warnings.warn(\n"
     ]
    },
    {
     "data": {
      "text/plain": [
       "<AxesSubplot:xlabel='LSTAT'>"
      ]
     },
     "execution_count": 56,
     "metadata": {},
     "output_type": "execute_result"
    },
    {
     "data": {
      "image/png": "[encoded data removed]",
      "text/plain": [
       "<Figure size 432x288 with 1 Axes>"
      ]
     },
     "metadata": {
      "needs_background": "light"
     },
     "output_type": "display_data"
    }
   ],
   "source": [
    "sn.boxplot(data['LSTAT'])"
   ]
  },
  {
   "cell_type": "code",
   "execution_count": 57,
   "metadata": {},
   "outputs": [
    {
     "data": {
      "text/html": [
       "<div>\n",
       "<style scoped>\n",
       "    .dataframe tbody tr th:only-of-type {\n",
       "        vertical-align: middle;\n",
       "    }\n",
       "\n",
       "    .dataframe tbody tr th {\n",
       "        vertical-align: top;\n",
       "    }\n",
       "\n",
       "    .dataframe thead th {\n",
       "        text-align: right;\n",
       "    }\n",
       "</style>\n",
       "<table border=\"1\" class=\"dataframe\">\n",
       "  <thead>\n",
       "    <tr style=\"text-align: right;\">\n",
       "      <th></th>\n",
       "      <th>Unnamed: 0</th>\n",
       "      <th>CRIM</th>\n",
       "      <th>ZN</th>\n",
       "      <th>INDUS</th>\n",
       "      <th>CHAS</th>\n",
       "      <th>NOX</th>\n",
       "      <th>RM</th>\n",
       "      <th>AGE</th>\n",
       "      <th>DIS</th>\n",
       "      <th>RAD</th>\n",
       "      <th>TAX</th>\n",
       "      <th>PTRATIO</th>\n",
       "      <th>B</th>\n",
       "      <th>LSTAT</th>\n",
       "      <th>MEDV</th>\n",
       "    </tr>\n",
       "  </thead>\n",
       "  <tbody>\n",
       "    <tr>\n",
       "      <th>0</th>\n",
       "      <td>0</td>\n",
       "      <td>0.00632</td>\n",
       "      <td>18.0</td>\n",
       "      <td>2.31</td>\n",
       "      <td>0.0</td>\n",
       "      <td>0.538</td>\n",
       "      <td>6.575</td>\n",
       "      <td>65.2</td>\n",
       "      <td>4.0900</td>\n",
       "      <td>1.0</td>\n",
       "      <td>296.0</td>\n",
       "      <td>15.3</td>\n",
       "      <td>396.90</td>\n",
       "      <td>4.98</td>\n",
       "      <td>24.0</td>\n",
       "    </tr>\n",
       "    <tr>\n",
       "      <th>1</th>\n",
       "      <td>1</td>\n",
       "      <td>0.02731</td>\n",
       "      <td>0.0</td>\n",
       "      <td>7.07</td>\n",
       "      <td>0.0</td>\n",
       "      <td>0.469</td>\n",
       "      <td>6.421</td>\n",
       "      <td>78.9</td>\n",
       "      <td>4.9671</td>\n",
       "      <td>2.0</td>\n",
       "      <td>242.0</td>\n",
       "      <td>17.8</td>\n",
       "      <td>396.90</td>\n",
       "      <td>9.14</td>\n",
       "      <td>21.6</td>\n",
       "    </tr>\n",
       "    <tr>\n",
       "      <th>2</th>\n",
       "      <td>2</td>\n",
       "      <td>0.02729</td>\n",
       "      <td>0.0</td>\n",
       "      <td>7.07</td>\n",
       "      <td>0.0</td>\n",
       "      <td>0.469</td>\n",
       "      <td>7.185</td>\n",
       "      <td>61.1</td>\n",
       "      <td>4.9671</td>\n",
       "      <td>2.0</td>\n",
       "      <td>242.0</td>\n",
       "      <td>17.8</td>\n",
       "      <td>392.83</td>\n",
       "      <td>4.03</td>\n",
       "      <td>34.7</td>\n",
       "    </tr>\n",
       "    <tr>\n",
       "      <th>3</th>\n",
       "      <td>3</td>\n",
       "      <td>0.03237</td>\n",
       "      <td>0.0</td>\n",
       "      <td>2.18</td>\n",
       "      <td>0.0</td>\n",
       "      <td>0.458</td>\n",
       "      <td>6.998</td>\n",
       "      <td>45.8</td>\n",
       "      <td>6.0622</td>\n",
       "      <td>3.0</td>\n",
       "      <td>222.0</td>\n",
       "      <td>18.7</td>\n",
       "      <td>394.63</td>\n",
       "      <td>2.94</td>\n",
       "      <td>33.4</td>\n",
       "    </tr>\n",
       "    <tr>\n",
       "      <th>4</th>\n",
       "      <td>4</td>\n",
       "      <td>0.06905</td>\n",
       "      <td>0.0</td>\n",
       "      <td>2.18</td>\n",
       "      <td>0.0</td>\n",
       "      <td>0.458</td>\n",
       "      <td>7.147</td>\n",
       "      <td>54.2</td>\n",
       "      <td>6.0622</td>\n",
       "      <td>3.0</td>\n",
       "      <td>222.0</td>\n",
       "      <td>18.7</td>\n",
       "      <td>396.90</td>\n",
       "      <td>5.33</td>\n",
       "      <td>36.2</td>\n",
       "    </tr>\n",
       "  </tbody>\n",
       "</table>\n",
       "</div>"
      ],
      "text/plain": [
       "   Unnamed: 0     CRIM    ZN  INDUS  CHAS    NOX     RM   AGE     DIS  RAD  \\\n",
       "0           0  0.00632  18.0   2.31   0.0  0.538  6.575  65.2  4.0900  1.0   \n",
       "1           1  0.02731   0.0   7.07   0.0  0.469  6.421  78.9  4.9671  2.0   \n",
       "2           2  0.02729   0.0   7.07   0.0  0.469  7.185  61.1  4.9671  2.0   \n",
       "3           3  0.03237   0.0   2.18   0.0  0.458  6.998  45.8  6.0622  3.0   \n",
       "4           4  0.06905   0.0   2.18   0.0  0.458  7.147  54.2  6.0622  3.0   \n",
       "\n",
       "     TAX  PTRATIO       B  LSTAT  MEDV  \n",
       "0  296.0     15.3  396.90   4.98  24.0  \n",
       "1  242.0     17.8  396.90   9.14  21.6  \n",
       "2  242.0     17.8  392.83   4.03  34.7  \n",
       "3  222.0     18.7  394.63   2.94  33.4  \n",
       "4  222.0     18.7  396.90   5.33  36.2  "
      ]
     },
     "execution_count": 57,
     "metadata": {},
     "output_type": "execute_result"
    }
   ],
   "source": [
    "data.head()"
   ]
  },
  {
   "cell_type": "code",
   "execution_count": 58,
   "metadata": {},
   "outputs": [],
   "source": [
    "import statsmodels.api as sm"
   ]
  },
  {
   "cell_type": "code",
   "execution_count": 59,
   "metadata": {},
   "outputs": [
    {
     "data": {
      "text/html": [
       "<div>\n",
       "<style scoped>\n",
       "    .dataframe tbody tr th:only-of-type {\n",
       "        vertical-align: middle;\n",
       "    }\n",
       "\n",
       "    .dataframe tbody tr th {\n",
       "        vertical-align: top;\n",
       "    }\n",
       "\n",
       "    .dataframe thead th {\n",
       "        text-align: right;\n",
       "    }\n",
       "</style>\n",
       "<table border=\"1\" class=\"dataframe\">\n",
       "  <thead>\n",
       "    <tr style=\"text-align: right;\">\n",
       "      <th></th>\n",
       "      <th>CRIM</th>\n",
       "      <th>ZN</th>\n",
       "      <th>INDUS</th>\n",
       "      <th>CHAS</th>\n",
       "      <th>NOX</th>\n",
       "      <th>RM</th>\n",
       "      <th>AGE</th>\n",
       "      <th>DIS</th>\n",
       "      <th>RAD</th>\n",
       "      <th>TAX</th>\n",
       "      <th>PTRATIO</th>\n",
       "      <th>B</th>\n",
       "      <th>LSTAT</th>\n",
       "    </tr>\n",
       "  </thead>\n",
       "  <tbody>\n",
       "    <tr>\n",
       "      <th>0</th>\n",
       "      <td>0.00632</td>\n",
       "      <td>18.0</td>\n",
       "      <td>2.31</td>\n",
       "      <td>0.0</td>\n",
       "      <td>0.538</td>\n",
       "      <td>6.575</td>\n",
       "      <td>65.2</td>\n",
       "      <td>4.0900</td>\n",
       "      <td>1.0</td>\n",
       "      <td>296.0</td>\n",
       "      <td>15.3</td>\n",
       "      <td>396.90</td>\n",
       "      <td>4.98</td>\n",
       "    </tr>\n",
       "    <tr>\n",
       "      <th>1</th>\n",
       "      <td>0.02731</td>\n",
       "      <td>0.0</td>\n",
       "      <td>7.07</td>\n",
       "      <td>0.0</td>\n",
       "      <td>0.469</td>\n",
       "      <td>6.421</td>\n",
       "      <td>78.9</td>\n",
       "      <td>4.9671</td>\n",
       "      <td>2.0</td>\n",
       "      <td>242.0</td>\n",
       "      <td>17.8</td>\n",
       "      <td>396.90</td>\n",
       "      <td>9.14</td>\n",
       "    </tr>\n",
       "    <tr>\n",
       "      <th>2</th>\n",
       "      <td>0.02729</td>\n",
       "      <td>0.0</td>\n",
       "      <td>7.07</td>\n",
       "      <td>0.0</td>\n",
       "      <td>0.469</td>\n",
       "      <td>7.185</td>\n",
       "      <td>61.1</td>\n",
       "      <td>4.9671</td>\n",
       "      <td>2.0</td>\n",
       "      <td>242.0</td>\n",
       "      <td>17.8</td>\n",
       "      <td>392.83</td>\n",
       "      <td>4.03</td>\n",
       "    </tr>\n",
       "    <tr>\n",
       "      <th>3</th>\n",
       "      <td>0.03237</td>\n",
       "      <td>0.0</td>\n",
       "      <td>2.18</td>\n",
       "      <td>0.0</td>\n",
       "      <td>0.458</td>\n",
       "      <td>6.998</td>\n",
       "      <td>45.8</td>\n",
       "      <td>6.0622</td>\n",
       "      <td>3.0</td>\n",
       "      <td>222.0</td>\n",
       "      <td>18.7</td>\n",
       "      <td>394.63</td>\n",
       "      <td>2.94</td>\n",
       "    </tr>\n",
       "    <tr>\n",
       "      <th>4</th>\n",
       "      <td>0.06905</td>\n",
       "      <td>0.0</td>\n",
       "      <td>2.18</td>\n",
       "      <td>0.0</td>\n",
       "      <td>0.458</td>\n",
       "      <td>7.147</td>\n",
       "      <td>54.2</td>\n",
       "      <td>6.0622</td>\n",
       "      <td>3.0</td>\n",
       "      <td>222.0</td>\n",
       "      <td>18.7</td>\n",
       "      <td>396.90</td>\n",
       "      <td>5.33</td>\n",
       "    </tr>\n",
       "  </tbody>\n",
       "</table>\n",
       "</div>"
      ],
      "text/plain": [
       "      CRIM    ZN  INDUS  CHAS    NOX     RM   AGE     DIS  RAD    TAX  \\\n",
       "0  0.00632  18.0   2.31   0.0  0.538  6.575  65.2  4.0900  1.0  296.0   \n",
       "1  0.02731   0.0   7.07   0.0  0.469  6.421  78.9  4.9671  2.0  242.0   \n",
       "2  0.02729   0.0   7.07   0.0  0.469  7.185  61.1  4.9671  2.0  242.0   \n",
       "3  0.03237   0.0   2.18   0.0  0.458  6.998  45.8  6.0622  3.0  222.0   \n",
       "4  0.06905   0.0   2.18   0.0  0.458  7.147  54.2  6.0622  3.0  222.0   \n",
       "\n",
       "   PTRATIO       B  LSTAT  \n",
       "0     15.3  396.90   4.98  \n",
       "1     17.8  396.90   9.14  \n",
       "2     17.8  392.83   4.03  \n",
       "3     18.7  394.63   2.94  \n",
       "4     18.7  396.90   5.33  "
      ]
     },
     "execution_count": 59,
     "metadata": {},
     "output_type": "execute_result"
    }
   ],
   "source": [
    "x=data.drop(['Unnamed: 0','MEDV'],axis=1)\n",
    "x.head()"
   ]
  },
  {
   "cell_type": "code",
   "execution_count": 60,
   "metadata": {},
   "outputs": [
    {
     "data": {
      "text/plain": [
       "0    24.0\n",
       "1    21.6\n",
       "2    34.7\n",
       "3    33.4\n",
       "4    36.2\n",
       "Name: MEDV, dtype: float64"
      ]
     },
     "execution_count": 60,
     "metadata": {},
     "output_type": "execute_result"
    }
   ],
   "source": [
    "y=data['MEDV']\n",
    "y.head()"
   ]
  },
  {
   "cell_type": "code",
   "execution_count": 61,
   "metadata": {},
   "outputs": [],
   "source": [
    "X=sm.add_constant(x)"
   ]
  },
  {
   "cell_type": "code",
   "execution_count": 62,
   "metadata": {},
   "outputs": [
    {
     "data": {
      "text/html": [
       "<table class=\"simpletable\">\n",
       "<caption>OLS Regression Results</caption>\n",
       "<tr>\n",
       "  <th>Dep. Variable:</th>          <td>MEDV</td>       <th>  R-squared:         </th> <td>   0.730</td> \n",
       "</tr>\n",
       "<tr>\n",
       "  <th>Model:</th>                   <td>OLS</td>       <th>  Adj. R-squared:    </th> <td>   0.722</td> \n",
       "</tr>\n",
       "<tr>\n",
       "  <th>Method:</th>             <td>Least Squares</td>  <th>  F-statistic:       </th> <td>   96.50</td> \n",
       "</tr>\n",
       "<tr>\n",
       "  <th>Date:</th>             <td>Sat, 14 Aug 2021</td> <th>  Prob (F-statistic):</th> <td>6.22e-123</td>\n",
       "</tr>\n",
       "<tr>\n",
       "  <th>Time:</th>                 <td>12:46:25</td>     <th>  Log-Likelihood:    </th> <td> -1419.4</td> \n",
       "</tr>\n",
       "<tr>\n",
       "  <th>No. Observations:</th>      <td>   479</td>      <th>  AIC:               </th> <td>   2867.</td> \n",
       "</tr>\n",
       "<tr>\n",
       "  <th>Df Residuals:</th>          <td>   465</td>      <th>  BIC:               </th> <td>   2925.</td> \n",
       "</tr>\n",
       "<tr>\n",
       "  <th>Df Model:</th>              <td>    13</td>      <th>                     </th>     <td> </td>    \n",
       "</tr>\n",
       "<tr>\n",
       "  <th>Covariance Type:</th>      <td>nonrobust</td>    <th>                     </th>     <td> </td>    \n",
       "</tr>\n",
       "</table>\n",
       "<table class=\"simpletable\">\n",
       "<tr>\n",
       "     <td></td>        <th>coef</th>     <th>std err</th>      <th>t</th>      <th>P>|t|</th>  <th>[0.025</th>    <th>0.975]</th>  \n",
       "</tr>\n",
       "<tr>\n",
       "  <th>const</th>   <td>   39.9593</td> <td>    5.318</td> <td>    7.514</td> <td> 0.000</td> <td>   29.509</td> <td>   50.409</td>\n",
       "</tr>\n",
       "<tr>\n",
       "  <th>CRIM</th>    <td>   -0.1077</td> <td>    0.033</td> <td>   -3.254</td> <td> 0.001</td> <td>   -0.173</td> <td>   -0.043</td>\n",
       "</tr>\n",
       "<tr>\n",
       "  <th>ZN</th>      <td>    0.0449</td> <td>    0.014</td> <td>    3.176</td> <td> 0.002</td> <td>    0.017</td> <td>    0.073</td>\n",
       "</tr>\n",
       "<tr>\n",
       "  <th>INDUS</th>   <td>    0.0156</td> <td>    0.063</td> <td>    0.249</td> <td> 0.804</td> <td>   -0.108</td> <td>    0.139</td>\n",
       "</tr>\n",
       "<tr>\n",
       "  <th>CHAS</th>    <td>    2.9602</td> <td>    0.922</td> <td>    3.211</td> <td> 0.001</td> <td>    1.149</td> <td>    4.772</td>\n",
       "</tr>\n",
       "<tr>\n",
       "  <th>NOX</th>     <td>  -18.8433</td> <td>    3.942</td> <td>   -4.781</td> <td> 0.000</td> <td>  -26.589</td> <td>  -11.098</td>\n",
       "</tr>\n",
       "<tr>\n",
       "  <th>RM</th>      <td>    3.5089</td> <td>    0.434</td> <td>    8.081</td> <td> 0.000</td> <td>    2.656</td> <td>    4.362</td>\n",
       "</tr>\n",
       "<tr>\n",
       "  <th>AGE</th>     <td>    0.0008</td> <td>    0.014</td> <td>    0.061</td> <td> 0.951</td> <td>   -0.026</td> <td>    0.028</td>\n",
       "</tr>\n",
       "<tr>\n",
       "  <th>DIS</th>     <td>   -1.5572</td> <td>    0.212</td> <td>   -7.349</td> <td> 0.000</td> <td>   -1.974</td> <td>   -1.141</td>\n",
       "</tr>\n",
       "<tr>\n",
       "  <th>RAD</th>     <td>    0.3287</td> <td>    0.068</td> <td>    4.836</td> <td> 0.000</td> <td>    0.195</td> <td>    0.462</td>\n",
       "</tr>\n",
       "<tr>\n",
       "  <th>TAX</th>     <td>   -0.0127</td> <td>    0.004</td> <td>   -3.295</td> <td> 0.001</td> <td>   -0.020</td> <td>   -0.005</td>\n",
       "</tr>\n",
       "<tr>\n",
       "  <th>PTRATIO</th> <td>   -0.9812</td> <td>    0.138</td> <td>   -7.120</td> <td> 0.000</td> <td>   -1.252</td> <td>   -0.710</td>\n",
       "</tr>\n",
       "<tr>\n",
       "  <th>B</th>       <td>    0.0096</td> <td>    0.003</td> <td>    3.511</td> <td> 0.000</td> <td>    0.004</td> <td>    0.015</td>\n",
       "</tr>\n",
       "<tr>\n",
       "  <th>LSTAT</th>   <td>   -0.5516</td> <td>    0.053</td> <td>  -10.428</td> <td> 0.000</td> <td>   -0.656</td> <td>   -0.448</td>\n",
       "</tr>\n",
       "</table>\n",
       "<table class=\"simpletable\">\n",
       "<tr>\n",
       "  <th>Omnibus:</th>       <td>163.170</td> <th>  Durbin-Watson:     </th> <td>   1.089</td> \n",
       "</tr>\n",
       "<tr>\n",
       "  <th>Prob(Omnibus):</th> <td> 0.000</td>  <th>  Jarque-Bera (JB):  </th> <td> 671.083</td> \n",
       "</tr>\n",
       "<tr>\n",
       "  <th>Skew:</th>          <td> 1.484</td>  <th>  Prob(JB):          </th> <td>1.89e-146</td>\n",
       "</tr>\n",
       "<tr>\n",
       "  <th>Kurtosis:</th>      <td> 7.982</td>  <th>  Cond. No.          </th> <td>1.53e+04</td> \n",
       "</tr>\n",
       "</table><br/><br/>Notes:<br/>[1] Standard Errors assume that the covariance matrix of the errors is correctly specified.<br/>[2] The condition number is large, 1.53e+04. This might indicate that there are<br/>strong multicollinearity or other numerical problems."
      ],
      "text/plain": [
       "<class 'statsmodels.iolib.summary.Summary'>\n",
       "\"\"\"\n",
       "                            OLS Regression Results                            \n",
       "==============================================================================\n",
       "Dep. Variable:                   MEDV   R-squared:                       0.730\n",
       "Model:                            OLS   Adj. R-squared:                  0.722\n",
       "Method:                 Least Squares   F-statistic:                     96.50\n",
       "Date:                Sat, 14 Aug 2021   Prob (F-statistic):          6.22e-123\n",
       "Time:                        12:46:25   Log-Likelihood:                -1419.4\n",
       "No. Observations:                 479   AIC:                             2867.\n",
       "Df Residuals:                     465   BIC:                             2925.\n",
       "Df Model:                          13                                         \n",
       "Covariance Type:            nonrobust                                         \n",
       "==============================================================================\n",
       "                 coef    std err          t      P>|t|      [0.025      0.975]\n",
       "------------------------------------------------------------------------------\n",
       "const         39.9593      5.318      7.514      0.000      29.509      50.409\n",
       "CRIM          -0.1077      0.033     -3.254      0.001      -0.173      -0.043\n",
       "ZN             0.0449      0.014      3.176      0.002       0.017       0.073\n",
       "INDUS          0.0156      0.063      0.249      0.804      -0.108       0.139\n",
       "CHAS           2.9602      0.922      3.211      0.001       1.149       4.772\n",
       "NOX          -18.8433      3.942     -4.781      0.000     -26.589     -11.098\n",
       "RM             3.5089      0.434      8.081      0.000       2.656       4.362\n",
       "AGE            0.0008      0.014      0.061      0.951      -0.026       0.028\n",
       "DIS           -1.5572      0.212     -7.349      0.000      -1.974      -1.141\n",
       "RAD            0.3287      0.068      4.836      0.000       0.195       0.462\n",
       "TAX           -0.0127      0.004     -3.295      0.001      -0.020      -0.005\n",
       "PTRATIO       -0.9812      0.138     -7.120      0.000      -1.252      -0.710\n",
       "B              0.0096      0.003      3.511      0.000       0.004       0.015\n",
       "LSTAT         -0.5516      0.053    -10.428      0.000      -0.656      -0.448\n",
       "==============================================================================\n",
       "Omnibus:                      163.170   Durbin-Watson:                   1.089\n",
       "Prob(Omnibus):                  0.000   Jarque-Bera (JB):              671.083\n",
       "Skew:                           1.484   Prob(JB):                    1.89e-146\n",
       "Kurtosis:                       7.982   Cond. No.                     1.53e+04\n",
       "==============================================================================\n",
       "\n",
       "Notes:\n",
       "[1] Standard Errors assume that the covariance matrix of the errors is correctly specified.\n",
       "[2] The condition number is large, 1.53e+04. This might indicate that there are\n",
       "strong multicollinearity or other numerical problems.\n",
       "\"\"\""
      ]
     },
     "execution_count": 62,
     "metadata": {},
     "output_type": "execute_result"
    }
   ],
   "source": [
    "r=sm.OLS(y,X)\n",
    "r=r.fit()\n",
    "r.summary()"
   ]
  },
  {
   "cell_type": "code",
   "execution_count": 63,
   "metadata": {},
   "outputs": [
    {
     "data": {
      "text/plain": [
       "Text(0.5, 1.0, 'Residuals vs. Predicted Value')"
      ]
     },
     "execution_count": 63,
     "metadata": {},
     "output_type": "execute_result"
    },
    {
     "data": {
      "image/png": "[encoded data removed]",
      "text/plain": [
       "<Figure size 432x288 with 1 Axes>"
      ]
     },
     "metadata": {
      "needs_background": "light"
     },
     "output_type": "display_data"
    }
   ],
   "source": [
    "fitted_vals = r.predict()\n",
    "resids = r.resid\n",
    "\n",
    "sn.regplot(x=fitted_vals, y=resids,line_kws={'color':'red'})\n",
    "plt.title('Residuals vs. Predicted Value')"
   ]
  },
  {
   "cell_type": "code",
   "execution_count": 64,
   "metadata": {
    "scrolled": false
   },
   "outputs": [
    {
     "name": "stderr",
     "output_type": "stream",
     "text": [
      "C:\\Users\\Ruchit\\anaconda3\\lib\\site-packages\\seaborn\\distributions.py:2551: FutureWarning: `distplot` is a deprecated function and will be removed in a future version. Please adapt your code to use either `displot` (a figure-level function with similar flexibility) or `histplot` (an axes-level function for histograms).\n",
      "  warnings.warn(msg, FutureWarning)\n"
     ]
    },
    {
     "data": {
      "text/plain": [
       "<AxesSubplot:ylabel='Density'>"
      ]
     },
     "execution_count": 64,
     "metadata": {},
     "output_type": "execute_result"
    },
    {
     "data": {
      "image/png": "[encoded data removed]",
      "text/plain": [
       "<Figure size 432x288 with 1 Axes>"
      ]
     },
     "metadata": {
      "needs_background": "light"
     },
     "output_type": "display_data"
    }
   ],
   "source": [
    "sn.distplot(r.resid)"
   ]
  },
  {
   "cell_type": "code",
   "execution_count": 65,
   "metadata": {},
   "outputs": [],
   "source": [
    "from scipy import stats"
   ]
  },
  {
   "cell_type": "code",
   "execution_count": 66,
   "metadata": {},
   "outputs": [
    {
     "data": {
      "text/plain": [
       "((array([-2.97898496, -2.6959081 , -2.53664966, -2.42368146, -2.33513707,\n",
       "         -2.26182128, -2.19896187, -2.14375129, -2.09439277, -2.04966439,\n",
       "         -2.00869605, -1.97084538, -1.93562415, -1.90265225, -1.87162774,\n",
       "         -1.84230664, -1.81448887, -1.78800822, -1.76272509, -1.738521  ,\n",
       "         -1.71529454, -1.69295819, -1.67143589, -1.65066109, -1.63057521,\n",
       "         -1.61112642, -1.59226864, -1.57396067, -1.55616556, -1.53885002,\n",
       "         -1.52198396, -1.50554006, -1.48949347, -1.4738215 , -1.45850338,\n",
       "         -1.44352004, -1.42885394, -1.4144889 , -1.40040996, -1.38660325,\n",
       "         -1.37305592, -1.35975601, -1.34669236, -1.33385458, -1.32123294,\n",
       "         -1.30881834, -1.29660225, -1.28457664, -1.27273399, -1.2610672 ,\n",
       "         -1.24956958, -1.23823481, -1.22705693, -1.2160303 , -1.20514957,\n",
       "         -1.19440968, -1.18380582, -1.17333342, -1.16298815, -1.15276587,\n",
       "         -1.14266265, -1.13267474, -1.12279856, -1.1130307 , -1.1033679 ,\n",
       "         -1.09380704, -1.08434513, -1.07497932, -1.06570687, -1.05652514,\n",
       "         -1.04743164, -1.03842393, -1.02949971, -1.02065673, -1.01189285,\n",
       "         -1.00320601, -0.99459422, -0.98605556, -0.9775882 , -0.96919036,\n",
       "         -0.96086032, -0.95259642, -0.94439707, -0.93626072, -0.92818589,\n",
       "         -0.92017113, -0.91221505, -0.90431629, -0.89647356, -0.88868558,\n",
       "         -0.88095114, -0.87326904, -0.86563813, -0.8580573 , -0.85052546,\n",
       "         -0.84304156, -0.83560459, -0.82821355, -0.82086748, -0.81356544,\n",
       "         -0.80630652, -0.79908985, -0.79191455, -0.7847798 , -0.77768477,\n",
       "         -0.77062867, -0.76361074, -0.75663022, -0.74968637, -0.74277848,\n",
       "         -0.73590586, -0.72906782, -0.72226371, -0.71549286, -0.70875467,\n",
       "         -0.70204849, -0.69537375, -0.68872984, -0.6821162 , -0.67553226,\n",
       "         -0.66897747, -0.6624513 , -0.65595322, -0.64948272, -0.64303931,\n",
       "         -0.63662247, -0.63023175, -0.62386666, -0.61752675, -0.61121157,\n",
       "         -0.60492066, -0.59865361, -0.59240998, -0.58618936, -0.57999134,\n",
       "         -0.57381552, -0.56766151, -0.56152893, -0.55541739, -0.54932652,\n",
       "         -0.54325597, -0.53720537, -0.53117438, -0.52516264, -0.51916983,\n",
       "         -0.5131956 , -0.50723963, -0.5013016 , -0.4953812 , -0.48947811,\n",
       "         -0.48359203, -0.47772265, -0.47186968, -0.46603284, -0.46021183,\n",
       "         -0.45440637, -0.44861619, -0.44284101, -0.43708056, -0.43133458,\n",
       "         -0.4256028 , -0.41988498, -0.41418085, -0.40849016, -0.40281267,\n",
       "         -0.39714813, -0.39149631, -0.38585697, -0.38022987, -0.37461479,\n",
       "         -0.36901149, -0.36341976, -0.35783936, -0.35227009, -0.34671172,\n",
       "         -0.34116405, -0.33562685, -0.33009992, -0.32458306, -0.31907607,\n",
       "         -0.31357873, -0.30809085, -0.30261223, -0.29714269, -0.29168201,\n",
       "         -0.28623002, -0.28078653, -0.27535134, -0.26992428, -0.26450515,\n",
       "         -0.25909378, -0.25368999, -0.2482936 , -0.24290442, -0.2375223 ,\n",
       "         -0.23214704, -0.22677848, -0.22141645, -0.21606078, -0.2107113 ,\n",
       "         -0.20536784, -0.20003024, -0.19469834, -0.18937196, -0.18405095,\n",
       "         -0.17873514, -0.17342439, -0.16811851, -0.16281737, -0.1575208 ,\n",
       "         -0.15222864, -0.14694075, -0.14165696, -0.13637712, -0.13110108,\n",
       "         -0.12582869, -0.12055979, -0.11529424, -0.11003188, -0.10477257,\n",
       "         -0.09951615, -0.09426248, -0.08901142, -0.0837628 , -0.0785165 ,\n",
       "         -0.07327235, -0.06803022, -0.06278995, -0.05755141, -0.05231445,\n",
       "         -0.04707892, -0.04184469, -0.0366116 , -0.03137951, -0.02614828,\n",
       "         -0.02091776, -0.01568782, -0.01045831, -0.00522908,  0.        ,\n",
       "          0.00522908,  0.01045831,  0.01568782,  0.02091776,  0.02614828,\n",
       "          0.03137951,  0.0366116 ,  0.04184469,  0.04707892,  0.05231445,\n",
       "          0.05755141,  0.06278995,  0.06803022,  0.07327235,  0.0785165 ,\n",
       "          0.0837628 ,  0.08901142,  0.09426248,  0.09951615,  0.10477257,\n",
       "          0.11003188,  0.11529424,  0.12055979,  0.12582869,  0.13110108,\n",
       "          0.13637712,  0.14165696,  0.14694075,  0.15222864,  0.1575208 ,\n",
       "          0.16281737,  0.16811851,  0.17342439,  0.17873514,  0.18405095,\n",
       "          0.18937196,  0.19469834,  0.20003024,  0.20536784,  0.2107113 ,\n",
       "          0.21606078,  0.22141645,  0.22677848,  0.23214704,  0.2375223 ,\n",
       "          0.24290442,  0.2482936 ,  0.25368999,  0.25909378,  0.26450515,\n",
       "          0.26992428,  0.27535134,  0.28078653,  0.28623002,  0.29168201,\n",
       "          0.29714269,  0.30261223,  0.30809085,  0.31357873,  0.31907607,\n",
       "          0.32458306,  0.33009992,  0.33562685,  0.34116405,  0.34671172,\n",
       "          0.35227009,  0.35783936,  0.36341976,  0.36901149,  0.37461479,\n",
       "          0.38022987,  0.38585697,  0.39149631,  0.39714813,  0.40281267,\n",
       "          0.40849016,  0.41418085,  0.41988498,  0.4256028 ,  0.43133458,\n",
       "          0.43708056,  0.44284101,  0.44861619,  0.45440637,  0.46021183,\n",
       "          0.46603284,  0.47186968,  0.47772265,  0.48359203,  0.48947811,\n",
       "          0.4953812 ,  0.5013016 ,  0.50723963,  0.5131956 ,  0.51916983,\n",
       "          0.52516264,  0.53117438,  0.53720537,  0.54325597,  0.54932652,\n",
       "          0.55541739,  0.56152893,  0.56766151,  0.57381552,  0.57999134,\n",
       "          0.58618936,  0.59240998,  0.59865361,  0.60492066,  0.61121157,\n",
       "          0.61752675,  0.62386666,  0.63023175,  0.63662247,  0.64303931,\n",
       "          0.64948272,  0.65595322,  0.6624513 ,  0.66897747,  0.67553226,\n",
       "          0.6821162 ,  0.68872984,  0.69537375,  0.70204849,  0.70875467,\n",
       "          0.71549286,  0.72226371,  0.72906782,  0.73590586,  0.74277848,\n",
       "          0.74968637,  0.75663022,  0.76361074,  0.77062867,  0.77768477,\n",
       "          0.7847798 ,  0.79191455,  0.79908985,  0.80630652,  0.81356544,\n",
       "          0.82086748,  0.82821355,  0.83560459,  0.84304156,  0.85052546,\n",
       "          0.8580573 ,  0.86563813,  0.87326904,  0.88095114,  0.88868558,\n",
       "          0.89647356,  0.90431629,  0.91221505,  0.92017113,  0.92818589,\n",
       "          0.93626072,  0.94439707,  0.95259642,  0.96086032,  0.96919036,\n",
       "          0.9775882 ,  0.98605556,  0.99459422,  1.00320601,  1.01189285,\n",
       "          1.02065673,  1.02949971,  1.03842393,  1.04743164,  1.05652514,\n",
       "          1.06570687,  1.07497932,  1.08434513,  1.09380704,  1.1033679 ,\n",
       "          1.1130307 ,  1.12279856,  1.13267474,  1.14266265,  1.15276587,\n",
       "          1.16298815,  1.17333342,  1.18380582,  1.19440968,  1.20514957,\n",
       "          1.2160303 ,  1.22705693,  1.23823481,  1.24956958,  1.2610672 ,\n",
       "          1.27273399,  1.28457664,  1.29660225,  1.30881834,  1.32123294,\n",
       "          1.33385458,  1.34669236,  1.35975601,  1.37305592,  1.38660325,\n",
       "          1.40040996,  1.4144889 ,  1.42885394,  1.44352004,  1.45850338,\n",
       "          1.4738215 ,  1.48949347,  1.50554006,  1.52198396,  1.53885002,\n",
       "          1.55616556,  1.57396067,  1.59226864,  1.61112642,  1.63057521,\n",
       "          1.65066109,  1.67143589,  1.69295819,  1.71529454,  1.738521  ,\n",
       "          1.76272509,  1.78800822,  1.81448887,  1.84230664,  1.87162774,\n",
       "          1.90265225,  1.93562415,  1.97084538,  2.00869605,  2.04966439,\n",
       "          2.09439277,  2.14375129,  2.19896187,  2.26182128,  2.33513707,\n",
       "          2.42368146,  2.53664966,  2.6959081 ,  2.97898496]),\n",
       "  array([-1.54132819e+01, -1.05616729e+01, -1.05035747e+01, -1.01958710e+01,\n",
       "         -7.96785962e+00, -7.47417511e+00, -7.18560251e+00, -7.07690297e+00,\n",
       "         -7.01203409e+00, -6.92255064e+00, -6.87745871e+00, -6.80856577e+00,\n",
       "         -6.79432124e+00, -6.76190761e+00, -6.62122164e+00, -6.56605572e+00,\n",
       "         -6.53376017e+00, -6.47814667e+00, -6.32364851e+00, -6.22727338e+00,\n",
       "         -6.16804420e+00, -6.15044239e+00, -6.07924020e+00, -6.07853847e+00,\n",
       "         -6.05655699e+00, -5.91474708e+00, -5.78078948e+00, -5.74818972e+00,\n",
       "         -5.68618175e+00, -5.54774716e+00, -5.53443800e+00, -5.50233939e+00,\n",
       "         -5.40419476e+00, -5.37554320e+00, -5.32850167e+00, -5.31764621e+00,\n",
       "         -5.31699632e+00, -5.26662362e+00, -5.20740689e+00, -5.19425654e+00,\n",
       "         -5.17217628e+00, -5.13201646e+00, -5.09206717e+00, -5.05359305e+00,\n",
       "         -5.01815410e+00, -5.01555425e+00, -4.94529113e+00, -4.93586975e+00,\n",
       "         -4.86428010e+00, -4.86217838e+00, -4.79953031e+00, -4.74971682e+00,\n",
       "         -4.69263884e+00, -4.68550642e+00, -4.64847136e+00, -4.63255192e+00,\n",
       "         -4.61093514e+00, -4.45253608e+00, -4.42991640e+00, -4.41075571e+00,\n",
       "         -4.38203728e+00, -4.35739342e+00, -4.31691685e+00, -4.28025772e+00,\n",
       "         -4.23713389e+00, -4.21479174e+00, -4.14751149e+00, -4.07711072e+00,\n",
       "         -4.07618131e+00, -4.04231252e+00, -4.03588407e+00, -4.01912438e+00,\n",
       "         -4.00446315e+00, -3.98558685e+00, -3.90083830e+00, -3.89419569e+00,\n",
       "         -3.87602468e+00, -3.86831782e+00, -3.84021075e+00, -3.83281511e+00,\n",
       "         -3.80734982e+00, -3.71041116e+00, -3.70912247e+00, -3.70872766e+00,\n",
       "         -3.68468915e+00, -3.67749687e+00, -3.67411052e+00, -3.65055029e+00,\n",
       "         -3.64891721e+00, -3.62067756e+00, -3.61914723e+00, -3.60477951e+00,\n",
       "         -3.59938743e+00, -3.59112114e+00, -3.58584637e+00, -3.45905458e+00,\n",
       "         -3.45173575e+00, -3.43905799e+00, -3.43234785e+00, -3.39506689e+00,\n",
       "         -3.39367281e+00, -3.31480897e+00, -3.24797519e+00, -3.19254404e+00,\n",
       "         -3.13429371e+00, -3.09973965e+00, -3.07229321e+00, -3.03364293e+00,\n",
       "         -2.98800601e+00, -2.93568246e+00, -2.90786392e+00, -2.90544839e+00,\n",
       "         -2.89413219e+00, -2.84191272e+00, -2.81869117e+00, -2.80812959e+00,\n",
       "         -2.80595801e+00, -2.79976233e+00, -2.78876737e+00, -2.75008485e+00,\n",
       "         -2.74562258e+00, -2.74009265e+00, -2.68086593e+00, -2.65988054e+00,\n",
       "         -2.64129150e+00, -2.63945947e+00, -2.63193340e+00, -2.62342694e+00,\n",
       "         -2.62253270e+00, -2.59961335e+00, -2.59859652e+00, -2.57900714e+00,\n",
       "         -2.57689637e+00, -2.53172968e+00, -2.51715163e+00, -2.50538409e+00,\n",
       "         -2.50168429e+00, -2.48458853e+00, -2.45450359e+00, -2.43809865e+00,\n",
       "         -2.43313970e+00, -2.41605638e+00, -2.37377757e+00, -2.32507526e+00,\n",
       "         -2.30718385e+00, -2.30709882e+00, -2.29785538e+00, -2.28267236e+00,\n",
       "         -2.25689711e+00, -2.24154123e+00, -2.22276921e+00, -2.22075239e+00,\n",
       "         -2.19233580e+00, -2.19135005e+00, -2.17719580e+00, -2.12776852e+00,\n",
       "         -2.11915710e+00, -2.10995416e+00, -2.10338098e+00, -2.03903626e+00,\n",
       "         -2.03662412e+00, -2.02493833e+00, -2.01661366e+00, -1.98897004e+00,\n",
       "         -1.98161684e+00, -1.96441704e+00, -1.94310787e+00, -1.92435388e+00,\n",
       "         -1.91501063e+00, -1.81802673e+00, -1.81680521e+00, -1.81559617e+00,\n",
       "         -1.79298080e+00, -1.78303334e+00, -1.78293953e+00, -1.78172046e+00,\n",
       "         -1.68685631e+00, -1.67885704e+00, -1.67576648e+00, -1.64842338e+00,\n",
       "         -1.64392916e+00, -1.63355442e+00, -1.62384537e+00, -1.55040087e+00,\n",
       "         -1.54829054e+00, -1.51740174e+00, -1.50911586e+00, -1.50686950e+00,\n",
       "         -1.49708443e+00, -1.48984311e+00, -1.47355221e+00, -1.46153526e+00,\n",
       "         -1.45589189e+00, -1.36953583e+00, -1.36520843e+00, -1.32790388e+00,\n",
       "         -1.29617930e+00, -1.27838780e+00, -1.25656663e+00, -1.25062048e+00,\n",
       "         -1.23921161e+00, -1.17393020e+00, -1.17086248e+00, -1.16277014e+00,\n",
       "         -1.15068867e+00, -1.10885947e+00, -1.08433951e+00, -1.06173647e+00,\n",
       "         -1.05668163e+00, -1.05409202e+00, -1.04059887e+00, -1.02190285e+00,\n",
       "         -1.01834039e+00, -1.00589376e+00, -9.97603222e-01, -9.74103453e-01,\n",
       "         -9.54587959e-01, -9.14902690e-01, -8.97875795e-01, -8.95469838e-01,\n",
       "         -8.92988457e-01, -8.86271163e-01, -8.56774997e-01, -8.42975482e-01,\n",
       "         -8.39385432e-01, -7.83311989e-01, -7.57151254e-01, -7.20542765e-01,\n",
       "         -7.17738207e-01, -6.90561501e-01, -6.88417992e-01, -6.87362905e-01,\n",
       "         -6.85668523e-01, -6.68321462e-01, -6.52768686e-01, -6.30970676e-01,\n",
       "         -6.19788599e-01, -5.88444631e-01, -5.68676232e-01, -5.37228503e-01,\n",
       "         -5.14599180e-01, -4.81500342e-01, -4.77480107e-01, -4.52400312e-01,\n",
       "         -4.10926060e-01, -4.05113811e-01, -3.82491593e-01, -3.75120438e-01,\n",
       "         -3.67718981e-01, -3.65880088e-01, -3.61041836e-01, -3.59012469e-01,\n",
       "         -3.38686249e-01, -3.29886747e-01, -2.89733775e-01, -2.87000017e-01,\n",
       "         -2.80375521e-01, -2.75638348e-01, -2.68137274e-01, -2.32238170e-01,\n",
       "         -2.30857584e-01, -2.17402560e-01, -1.98523911e-01, -1.95729148e-01,\n",
       "         -1.55732979e-01, -1.48914607e-01, -1.11296529e-01, -8.78640466e-02,\n",
       "         -6.74195608e-02, -5.17192791e-02, -3.54419814e-02, -2.71857340e-02,\n",
       "         -2.69011629e-02, -1.26893177e-02, -7.55638622e-03, -4.60343389e-03,\n",
       "          2.07370446e-02,  3.91528815e-02,  6.93353521e-02,  8.23251935e-02,\n",
       "          9.81719905e-02,  1.01050774e-01,  1.26023543e-01,  1.30400009e-01,\n",
       "          1.41774743e-01,  1.54851206e-01,  1.55698151e-01,  1.70218161e-01,\n",
       "          1.78503954e-01,  1.79254009e-01,  1.83006114e-01,  2.00926905e-01,\n",
       "          2.14343846e-01,  2.45478283e-01,  2.66858965e-01,  2.84720744e-01,\n",
       "          2.91679516e-01,  3.09781294e-01,  3.19861157e-01,  3.22402302e-01,\n",
       "          3.58143004e-01,  3.65957842e-01,  3.70736306e-01,  3.72026757e-01,\n",
       "          4.02472353e-01,  4.06167176e-01,  4.10730516e-01,  4.19315454e-01,\n",
       "          4.22471233e-01,  4.52286927e-01,  4.73797843e-01,  4.90278891e-01,\n",
       "          5.54960530e-01,  6.23149160e-01,  6.33827921e-01,  6.57325781e-01,\n",
       "          6.69905057e-01,  6.82862726e-01,  7.17488157e-01,  7.33985870e-01,\n",
       "          7.53504406e-01,  7.95141173e-01,  8.16273983e-01,  8.35060654e-01,\n",
       "          8.40180093e-01,  8.40841401e-01,  8.44389117e-01,  8.55033553e-01,\n",
       "          8.67538487e-01,  8.81474459e-01,  8.93765364e-01,  9.06996590e-01,\n",
       "          9.18558393e-01,  9.43712805e-01,  9.72502462e-01,  9.79747640e-01,\n",
       "          9.88179856e-01,  9.96600643e-01,  1.00359085e+00,  1.01040363e+00,\n",
       "          1.05570080e+00,  1.08024590e+00,  1.13499005e+00,  1.15514976e+00,\n",
       "          1.16387265e+00,  1.18323707e+00,  1.20978916e+00,  1.21947968e+00,\n",
       "          1.22881370e+00,  1.26863912e+00,  1.27046389e+00,  1.27501566e+00,\n",
       "          1.33405080e+00,  1.34000636e+00,  1.42760390e+00,  1.46075655e+00,\n",
       "          1.52458898e+00,  1.59869521e+00,  1.63583525e+00,  1.64527380e+00,\n",
       "          1.74179728e+00,  1.74222806e+00,  1.83510374e+00,  1.93592342e+00,\n",
       "          1.98209954e+00,  2.01223086e+00,  2.02123152e+00,  2.06717631e+00,\n",
       "          2.11443915e+00,  2.19034267e+00,  2.21573910e+00,  2.23689473e+00,\n",
       "          2.27844952e+00,  2.33377062e+00,  2.35872526e+00,  2.39037709e+00,\n",
       "          2.51129459e+00,  2.58833323e+00,  2.65428163e+00,  2.69657126e+00,\n",
       "          2.70534541e+00,  2.73980204e+00,  2.78639967e+00,  2.81357240e+00,\n",
       "          2.82639700e+00,  2.86154697e+00,  2.88935458e+00,  2.95637719e+00,\n",
       "          2.96314979e+00,  3.00975310e+00,  3.06041932e+00,  3.15932940e+00,\n",
       "          3.16664840e+00,  3.23897207e+00,  3.28760519e+00,  3.39289646e+00,\n",
       "          3.40420332e+00,  3.42547699e+00,  3.44583967e+00,  3.49025098e+00,\n",
       "          3.51758760e+00,  3.63856542e+00,  3.65079112e+00,  3.76471929e+00,\n",
       "          3.82757915e+00,  3.90775903e+00,  3.91955889e+00,  3.92830009e+00,\n",
       "          3.95023271e+00,  4.12151461e+00,  4.13573281e+00,  4.13698547e+00,\n",
       "          4.15267877e+00,  4.23980625e+00,  4.26108783e+00,  4.26522362e+00,\n",
       "          4.39943696e+00,  4.42572986e+00,  4.66923778e+00,  4.68971270e+00,\n",
       "          4.70754814e+00,  4.71569399e+00,  4.83752158e+00,  4.88645730e+00,\n",
       "          4.90167456e+00,  4.97396843e+00,  5.00192383e+00,  5.17095631e+00,\n",
       "          5.24418526e+00,  5.28606806e+00,  5.32841863e+00,  5.38018494e+00,\n",
       "          5.38575668e+00,  5.47672622e+00,  5.56617465e+00,  5.62348354e+00,\n",
       "          5.69774685e+00,  5.88920650e+00,  5.89580674e+00,  6.22236069e+00,\n",
       "          6.32575453e+00,  6.39311970e+00,  6.62766011e+00,  6.71735016e+00,\n",
       "          6.73254008e+00,  6.75432682e+00,  7.10544809e+00,  7.48863834e+00,\n",
       "          7.62026662e+00,  7.79690195e+00,  7.83352612e+00,  7.97640210e+00,\n",
       "          8.14425098e+00,  8.15671952e+00,  8.22760449e+00,  8.38567037e+00,\n",
       "          8.45694679e+00,  8.84826389e+00,  9.29621798e+00,  9.42209714e+00,\n",
       "          1.01180328e+01,  1.05356446e+01,  1.13119973e+01,  1.13290041e+01,\n",
       "          1.13927915e+01,  1.14020683e+01,  1.21261413e+01,  1.27991867e+01,\n",
       "          1.28179045e+01,  1.30173413e+01,  1.32539896e+01,  1.35641184e+01,\n",
       "          1.42626580e+01,  1.48142461e+01,  1.61092719e+01,  1.67160404e+01,\n",
       "          2.32858852e+01,  2.46914032e+01,  2.53024825e+01])),\n",
       " (4.468855276123186, -1.0917733893933898e-14, 0.9487959789320306))"
      ]
     },
     "execution_count": 66,
     "metadata": {},
     "output_type": "execute_result"
    },
    {
     "data": {
      "image/png": "[encoded data removed]",
      "text/plain": [
       "<Figure size 432x288 with 1 Axes>"
      ]
     },
     "metadata": {
      "needs_background": "light"
     },
     "output_type": "display_data"
    }
   ],
   "source": [
    "stats.probplot(resids, plot=sn.mpl.pyplot)"
   ]
  },
  {
   "cell_type": "code",
   "execution_count": 67,
   "metadata": {},
   "outputs": [],
   "source": [
    "resids_standardized=r.get_influence().resid_studentized_internal"
   ]
  },
  {
   "cell_type": "code",
   "execution_count": 68,
   "metadata": {},
   "outputs": [
    {
     "data": {
      "text/plain": [
       "<AxesSubplot:>"
      ]
     },
     "execution_count": 68,
     "metadata": {},
     "output_type": "execute_result"
    },
    {
     "data": {
      "image/png": "[encoded data removed]",
      "text/plain": [
       "<Figure size 432x288 with 1 Axes>"
      ]
     },
     "metadata": {
      "needs_background": "light"
     },
     "output_type": "display_data"
    }
   ],
   "source": [
    "sn.regplot(x=fitted_vals,y=np.sqrt(np.abs(resids_standardized)),line_kws={'color':'orange'})"
   ]
  },
  {
   "cell_type": "code",
   "execution_count": 69,
   "metadata": {},
   "outputs": [
    {
     "name": "stdout",
     "output_type": "stream",
     "text": [
      "Variable:const---Correlation:nan,P-value:nan\n",
      "Variable:CRIM---Correlation:0.0000,P-value:1.0000\n",
      "Variable:ZN---Correlation:-0.0000,P-value:1.0000\n",
      "Variable:INDUS---Correlation:0.0000,P-value:1.0000\n",
      "Variable:CHAS---Correlation:0.0000,P-value:1.0000\n",
      "Variable:NOX---Correlation:0.0000,P-value:1.0000\n",
      "Variable:RM---Correlation:-0.0000,P-value:1.0000\n",
      "Variable:AGE---Correlation:0.0000,P-value:1.0000\n",
      "Variable:DIS---Correlation:-0.0000,P-value:1.0000\n",
      "Variable:RAD---Correlation:0.0000,P-value:1.0000\n",
      "Variable:TAX---Correlation:-0.0000,P-value:1.0000\n",
      "Variable:PTRATIO---Correlation:0.0000,P-value:1.0000\n",
      "Variable:B---Correlation:-0.0000,P-value:1.0000\n",
      "Variable:LSTAT---Correlation:0.0000,P-value:1.0000\n"
     ]
    },
    {
     "name": "stderr",
     "output_type": "stream",
     "text": [
      "C:\\Users\\Ruchit\\anaconda3\\lib\\site-packages\\scipy\\stats\\stats.py:3845: PearsonRConstantInputWarning: An input array is constant; the correlation coefficent is not defined.\n",
      "  warnings.warn(PearsonRConstantInputWarning())\n"
     ]
    }
   ],
   "source": [
    "from scipy.stats.stats import pearsonr\n",
    "for column in X.columns:\n",
    "    corr_test=pearsonr(X[column],r.resid)\n",
    "    print(f'Variable:{column}---Correlation:{corr_test[0]:.4f},P-value:{corr_test[1]:.4f}' )"
   ]
  },
  {
   "cell_type": "code",
   "execution_count": 70,
   "metadata": {},
   "outputs": [],
   "source": [
    "from statsmodels.stats.outliers_influence import variance_inflation_factor"
   ]
  },
  {
   "cell_type": "code",
   "execution_count": 71,
   "metadata": {},
   "outputs": [
    {
     "data": {
      "text/html": [
       "<div>\n",
       "<style scoped>\n",
       "    .dataframe tbody tr th:only-of-type {\n",
       "        vertical-align: middle;\n",
       "    }\n",
       "\n",
       "    .dataframe tbody tr th {\n",
       "        vertical-align: top;\n",
       "    }\n",
       "\n",
       "    .dataframe thead th {\n",
       "        text-align: right;\n",
       "    }\n",
       "</style>\n",
       "<table border=\"1\" class=\"dataframe\">\n",
       "  <thead>\n",
       "    <tr style=\"text-align: right;\">\n",
       "      <th></th>\n",
       "      <th>0</th>\n",
       "    </tr>\n",
       "  </thead>\n",
       "  <tbody>\n",
       "    <tr>\n",
       "      <th>CRIM</th>\n",
       "      <td>1.777625</td>\n",
       "    </tr>\n",
       "    <tr>\n",
       "      <th>ZN</th>\n",
       "      <td>2.130915</td>\n",
       "    </tr>\n",
       "    <tr>\n",
       "      <th>INDUS</th>\n",
       "      <td>3.887492</td>\n",
       "    </tr>\n",
       "    <tr>\n",
       "      <th>CHAS</th>\n",
       "      <td>1.089601</td>\n",
       "    </tr>\n",
       "    <tr>\n",
       "      <th>NOX</th>\n",
       "      <td>4.326134</td>\n",
       "    </tr>\n",
       "    <tr>\n",
       "      <th>RM</th>\n",
       "      <td>1.888664</td>\n",
       "    </tr>\n",
       "    <tr>\n",
       "      <th>AGE</th>\n",
       "      <td>3.062716</td>\n",
       "    </tr>\n",
       "    <tr>\n",
       "      <th>DIS</th>\n",
       "      <td>3.941292</td>\n",
       "    </tr>\n",
       "    <tr>\n",
       "      <th>RAD</th>\n",
       "      <td>7.358522</td>\n",
       "    </tr>\n",
       "    <tr>\n",
       "      <th>TAX</th>\n",
       "      <td>8.848399</td>\n",
       "    </tr>\n",
       "    <tr>\n",
       "      <th>PTRATIO</th>\n",
       "      <td>1.725535</td>\n",
       "    </tr>\n",
       "    <tr>\n",
       "      <th>B</th>\n",
       "      <td>1.347223</td>\n",
       "    </tr>\n",
       "    <tr>\n",
       "      <th>LSTAT</th>\n",
       "      <td>2.909437</td>\n",
       "    </tr>\n",
       "  </tbody>\n",
       "</table>\n",
       "</div>"
      ],
      "text/plain": [
       "                0\n",
       "CRIM     1.777625\n",
       "ZN       2.130915\n",
       "INDUS    3.887492\n",
       "CHAS     1.089601\n",
       "NOX      4.326134\n",
       "RM       1.888664\n",
       "AGE      3.062716\n",
       "DIS      3.941292\n",
       "RAD      7.358522\n",
       "TAX      8.848399\n",
       "PTRATIO  1.725535\n",
       "B        1.347223\n",
       "LSTAT    2.909437"
      ]
     },
     "execution_count": 71,
     "metadata": {},
     "output_type": "execute_result"
    }
   ],
   "source": [
    "vif1=[variance_inflation_factor(X.values,i) for i in range(X.shape[1])]\n",
    "pd.DataFrame(vif1[1:],index=X.columns[1:])"
   ]
  },
  {
   "cell_type": "code",
   "execution_count": 72,
   "metadata": {},
   "outputs": [],
   "source": [
    "X2=X.drop(['INDUS'],axis=1)\n",
    "X1=sm.add_constant(X2)"
   ]
  },
  {
   "cell_type": "code",
   "execution_count": 73,
   "metadata": {},
   "outputs": [
    {
     "data": {
      "text/html": [
       "<table class=\"simpletable\">\n",
       "<caption>OLS Regression Results</caption>\n",
       "<tr>\n",
       "  <th>Dep. Variable:</th>          <td>MEDV</td>       <th>  R-squared:         </th> <td>   0.730</td> \n",
       "</tr>\n",
       "<tr>\n",
       "  <th>Model:</th>                   <td>OLS</td>       <th>  Adj. R-squared:    </th> <td>   0.723</td> \n",
       "</tr>\n",
       "<tr>\n",
       "  <th>Method:</th>             <td>Least Squares</td>  <th>  F-statistic:       </th> <td>   104.7</td> \n",
       "</tr>\n",
       "<tr>\n",
       "  <th>Date:</th>             <td>Sat, 14 Aug 2021</td> <th>  Prob (F-statistic):</th> <td>6.13e-124</td>\n",
       "</tr>\n",
       "<tr>\n",
       "  <th>Time:</th>                 <td>12:46:28</td>     <th>  Log-Likelihood:    </th> <td> -1419.5</td> \n",
       "</tr>\n",
       "<tr>\n",
       "  <th>No. Observations:</th>      <td>   479</td>      <th>  AIC:               </th> <td>   2865.</td> \n",
       "</tr>\n",
       "<tr>\n",
       "  <th>Df Residuals:</th>          <td>   466</td>      <th>  BIC:               </th> <td>   2919.</td> \n",
       "</tr>\n",
       "<tr>\n",
       "  <th>Df Model:</th>              <td>    12</td>      <th>                     </th>     <td> </td>    \n",
       "</tr>\n",
       "<tr>\n",
       "  <th>Covariance Type:</th>      <td>nonrobust</td>    <th>                     </th>     <td> </td>    \n",
       "</tr>\n",
       "</table>\n",
       "<table class=\"simpletable\">\n",
       "<tr>\n",
       "     <td></td>        <th>coef</th>     <th>std err</th>      <th>t</th>      <th>P>|t|</th>  <th>[0.025</th>    <th>0.975]</th>  \n",
       "</tr>\n",
       "<tr>\n",
       "  <th>const</th>   <td>   39.9012</td> <td>    5.307</td> <td>    7.518</td> <td> 0.000</td> <td>   29.472</td> <td>   50.331</td>\n",
       "</tr>\n",
       "<tr>\n",
       "  <th>CRIM</th>    <td>   -0.1080</td> <td>    0.033</td> <td>   -3.271</td> <td> 0.001</td> <td>   -0.173</td> <td>   -0.043</td>\n",
       "</tr>\n",
       "<tr>\n",
       "  <th>ZN</th>      <td>    0.0446</td> <td>    0.014</td> <td>    3.171</td> <td> 0.002</td> <td>    0.017</td> <td>    0.072</td>\n",
       "</tr>\n",
       "<tr>\n",
       "  <th>CHAS</th>    <td>    2.9797</td> <td>    0.918</td> <td>    3.247</td> <td> 0.001</td> <td>    1.177</td> <td>    4.783</td>\n",
       "</tr>\n",
       "<tr>\n",
       "  <th>NOX</th>     <td>  -18.5801</td> <td>    3.793</td> <td>   -4.898</td> <td> 0.000</td> <td>  -26.034</td> <td>  -11.126</td>\n",
       "</tr>\n",
       "<tr>\n",
       "  <th>RM</th>      <td>    3.5004</td> <td>    0.432</td> <td>    8.094</td> <td> 0.000</td> <td>    2.651</td> <td>    4.350</td>\n",
       "</tr>\n",
       "<tr>\n",
       "  <th>AGE</th>     <td>    0.0008</td> <td>    0.014</td> <td>    0.061</td> <td> 0.951</td> <td>   -0.026</td> <td>    0.027</td>\n",
       "</tr>\n",
       "<tr>\n",
       "  <th>DIS</th>     <td>   -1.5689</td> <td>    0.206</td> <td>   -7.601</td> <td> 0.000</td> <td>   -1.974</td> <td>   -1.163</td>\n",
       "</tr>\n",
       "<tr>\n",
       "  <th>RAD</th>     <td>    0.3242</td> <td>    0.065</td> <td>    4.957</td> <td> 0.000</td> <td>    0.196</td> <td>    0.453</td>\n",
       "</tr>\n",
       "<tr>\n",
       "  <th>TAX</th>     <td>   -0.0123</td> <td>    0.003</td> <td>   -3.534</td> <td> 0.000</td> <td>   -0.019</td> <td>   -0.005</td>\n",
       "</tr>\n",
       "<tr>\n",
       "  <th>PTRATIO</th> <td>   -0.9781</td> <td>    0.137</td> <td>   -7.135</td> <td> 0.000</td> <td>   -1.247</td> <td>   -0.709</td>\n",
       "</tr>\n",
       "<tr>\n",
       "  <th>B</th>       <td>    0.0096</td> <td>    0.003</td> <td>    3.509</td> <td> 0.000</td> <td>    0.004</td> <td>    0.015</td>\n",
       "</tr>\n",
       "<tr>\n",
       "  <th>LSTAT</th>   <td>   -0.5505</td> <td>    0.053</td> <td>  -10.451</td> <td> 0.000</td> <td>   -0.654</td> <td>   -0.447</td>\n",
       "</tr>\n",
       "</table>\n",
       "<table class=\"simpletable\">\n",
       "<tr>\n",
       "  <th>Omnibus:</th>       <td>163.222</td> <th>  Durbin-Watson:     </th> <td>   1.089</td> \n",
       "</tr>\n",
       "<tr>\n",
       "  <th>Prob(Omnibus):</th> <td> 0.000</td>  <th>  Jarque-Bera (JB):  </th> <td> 672.021</td> \n",
       "</tr>\n",
       "<tr>\n",
       "  <th>Skew:</th>          <td> 1.484</td>  <th>  Prob(JB):          </th> <td>1.18e-146</td>\n",
       "</tr>\n",
       "<tr>\n",
       "  <th>Kurtosis:</th>      <td> 7.986</td>  <th>  Cond. No.          </th> <td>1.51e+04</td> \n",
       "</tr>\n",
       "</table><br/><br/>Notes:<br/>[1] Standard Errors assume that the covariance matrix of the errors is correctly specified.<br/>[2] The condition number is large, 1.51e+04. This might indicate that there are<br/>strong multicollinearity or other numerical problems."
      ],
      "text/plain": [
       "<class 'statsmodels.iolib.summary.Summary'>\n",
       "\"\"\"\n",
       "                            OLS Regression Results                            \n",
       "==============================================================================\n",
       "Dep. Variable:                   MEDV   R-squared:                       0.730\n",
       "Model:                            OLS   Adj. R-squared:                  0.723\n",
       "Method:                 Least Squares   F-statistic:                     104.7\n",
       "Date:                Sat, 14 Aug 2021   Prob (F-statistic):          6.13e-124\n",
       "Time:                        12:46:28   Log-Likelihood:                -1419.5\n",
       "No. Observations:                 479   AIC:                             2865.\n",
       "Df Residuals:                     466   BIC:                             2919.\n",
       "Df Model:                          12                                         \n",
       "Covariance Type:            nonrobust                                         \n",
       "==============================================================================\n",
       "                 coef    std err          t      P>|t|      [0.025      0.975]\n",
       "------------------------------------------------------------------------------\n",
       "const         39.9012      5.307      7.518      0.000      29.472      50.331\n",
       "CRIM          -0.1080      0.033     -3.271      0.001      -0.173      -0.043\n",
       "ZN             0.0446      0.014      3.171      0.002       0.017       0.072\n",
       "CHAS           2.9797      0.918      3.247      0.001       1.177       4.783\n",
       "NOX          -18.5801      3.793     -4.898      0.000     -26.034     -11.126\n",
       "RM             3.5004      0.432      8.094      0.000       2.651       4.350\n",
       "AGE            0.0008      0.014      0.061      0.951      -0.026       0.027\n",
       "DIS           -1.5689      0.206     -7.601      0.000      -1.974      -1.163\n",
       "RAD            0.3242      0.065      4.957      0.000       0.196       0.453\n",
       "TAX           -0.0123      0.003     -3.534      0.000      -0.019      -0.005\n",
       "PTRATIO       -0.9781      0.137     -7.135      0.000      -1.247      -0.709\n",
       "B              0.0096      0.003      3.509      0.000       0.004       0.015\n",
       "LSTAT         -0.5505      0.053    -10.451      0.000      -0.654      -0.447\n",
       "==============================================================================\n",
       "Omnibus:                      163.222   Durbin-Watson:                   1.089\n",
       "Prob(Omnibus):                  0.000   Jarque-Bera (JB):              672.021\n",
       "Skew:                           1.484   Prob(JB):                    1.18e-146\n",
       "Kurtosis:                       7.986   Cond. No.                     1.51e+04\n",
       "==============================================================================\n",
       "\n",
       "Notes:\n",
       "[1] Standard Errors assume that the covariance matrix of the errors is correctly specified.\n",
       "[2] The condition number is large, 1.51e+04. This might indicate that there are\n",
       "strong multicollinearity or other numerical problems.\n",
       "\"\"\""
      ]
     },
     "execution_count": 73,
     "metadata": {},
     "output_type": "execute_result"
    }
   ],
   "source": [
    "r2=sm.OLS(y,X1)\n",
    "r2=r2.fit()\n",
    "r2.summary()"
   ]
  },
  {
   "cell_type": "code",
   "execution_count": 74,
   "metadata": {},
   "outputs": [
    {
     "data": {
      "text/plain": [
       "Text(0.5, 1.0, 'Residuals vs. Predicted Value')"
      ]
     },
     "execution_count": 74,
     "metadata": {},
     "output_type": "execute_result"
    },
    {
     "data": {
      "image/png": "[encoded data removed]",
      "text/plain": [
       "<Figure size 432x288 with 1 Axes>"
      ]
     },
     "metadata": {
      "needs_background": "light"
     },
     "output_type": "display_data"
    }
   ],
   "source": [
    "fitted_vals2 = r2.predict()\n",
    "resids2 = r2.resid\n",
    "\n",
    "sn.regplot(x=fitted_vals2, y=resids2,line_kws={'color':'red'})\n",
    "plt.title('Residuals vs. Predicted Value')"
   ]
  },
  {
   "cell_type": "code",
   "execution_count": 75,
   "metadata": {},
   "outputs": [
    {
     "name": "stderr",
     "output_type": "stream",
     "text": [
      "C:\\Users\\Ruchit\\anaconda3\\lib\\site-packages\\seaborn\\distributions.py:2551: FutureWarning: `distplot` is a deprecated function and will be removed in a future version. Please adapt your code to use either `displot` (a figure-level function with similar flexibility) or `histplot` (an axes-level function for histograms).\n",
      "  warnings.warn(msg, FutureWarning)\n"
     ]
    },
    {
     "data": {
      "text/plain": [
       "<AxesSubplot:ylabel='Density'>"
      ]
     },
     "execution_count": 75,
     "metadata": {},
     "output_type": "execute_result"
    },
    {
     "data": {
      "image/png": "[encoded data removed]",
      "text/plain": [
       "<Figure size 432x288 with 1 Axes>"
      ]
     },
     "metadata": {
      "needs_background": "light"
     },
     "output_type": "display_data"
    }
   ],
   "source": [
    "sn.distplot(r2.resid)"
   ]
  },
  {
   "cell_type": "code",
   "execution_count": 76,
   "metadata": {},
   "outputs": [
    {
     "data": {
      "text/plain": [
       "((array([-2.97898496, -2.6959081 , -2.53664966, -2.42368146, -2.33513707,\n",
       "         -2.26182128, -2.19896187, -2.14375129, -2.09439277, -2.04966439,\n",
       "         -2.00869605, -1.97084538, -1.93562415, -1.90265225, -1.87162774,\n",
       "         -1.84230664, -1.81448887, -1.78800822, -1.76272509, -1.738521  ,\n",
       "         -1.71529454, -1.69295819, -1.67143589, -1.65066109, -1.63057521,\n",
       "         -1.61112642, -1.59226864, -1.57396067, -1.55616556, -1.53885002,\n",
       "         -1.52198396, -1.50554006, -1.48949347, -1.4738215 , -1.45850338,\n",
       "         -1.44352004, -1.42885394, -1.4144889 , -1.40040996, -1.38660325,\n",
       "         -1.37305592, -1.35975601, -1.34669236, -1.33385458, -1.32123294,\n",
       "         -1.30881834, -1.29660225, -1.28457664, -1.27273399, -1.2610672 ,\n",
       "         -1.24956958, -1.23823481, -1.22705693, -1.2160303 , -1.20514957,\n",
       "         -1.19440968, -1.18380582, -1.17333342, -1.16298815, -1.15276587,\n",
       "         -1.14266265, -1.13267474, -1.12279856, -1.1130307 , -1.1033679 ,\n",
       "         -1.09380704, -1.08434513, -1.07497932, -1.06570687, -1.05652514,\n",
       "         -1.04743164, -1.03842393, -1.02949971, -1.02065673, -1.01189285,\n",
       "         -1.00320601, -0.99459422, -0.98605556, -0.9775882 , -0.96919036,\n",
       "         -0.96086032, -0.95259642, -0.94439707, -0.93626072, -0.92818589,\n",
       "         -0.92017113, -0.91221505, -0.90431629, -0.89647356, -0.88868558,\n",
       "         -0.88095114, -0.87326904, -0.86563813, -0.8580573 , -0.85052546,\n",
       "         -0.84304156, -0.83560459, -0.82821355, -0.82086748, -0.81356544,\n",
       "         -0.80630652, -0.79908985, -0.79191455, -0.7847798 , -0.77768477,\n",
       "         -0.77062867, -0.76361074, -0.75663022, -0.74968637, -0.74277848,\n",
       "         -0.73590586, -0.72906782, -0.72226371, -0.71549286, -0.70875467,\n",
       "         -0.70204849, -0.69537375, -0.68872984, -0.6821162 , -0.67553226,\n",
       "         -0.66897747, -0.6624513 , -0.65595322, -0.64948272, -0.64303931,\n",
       "         -0.63662247, -0.63023175, -0.62386666, -0.61752675, -0.61121157,\n",
       "         -0.60492066, -0.59865361, -0.59240998, -0.58618936, -0.57999134,\n",
       "         -0.57381552, -0.56766151, -0.56152893, -0.55541739, -0.54932652,\n",
       "         -0.54325597, -0.53720537, -0.53117438, -0.52516264, -0.51916983,\n",
       "         -0.5131956 , -0.50723963, -0.5013016 , -0.4953812 , -0.48947811,\n",
       "         -0.48359203, -0.47772265, -0.47186968, -0.46603284, -0.46021183,\n",
       "         -0.45440637, -0.44861619, -0.44284101, -0.43708056, -0.43133458,\n",
       "         -0.4256028 , -0.41988498, -0.41418085, -0.40849016, -0.40281267,\n",
       "         -0.39714813, -0.39149631, -0.38585697, -0.38022987, -0.37461479,\n",
       "         -0.36901149, -0.36341976, -0.35783936, -0.35227009, -0.34671172,\n",
       "         -0.34116405, -0.33562685, -0.33009992, -0.32458306, -0.31907607,\n",
       "         -0.31357873, -0.30809085, -0.30261223, -0.29714269, -0.29168201,\n",
       "         -0.28623002, -0.28078653, -0.27535134, -0.26992428, -0.26450515,\n",
       "         -0.25909378, -0.25368999, -0.2482936 , -0.24290442, -0.2375223 ,\n",
       "         -0.23214704, -0.22677848, -0.22141645, -0.21606078, -0.2107113 ,\n",
       "         -0.20536784, -0.20003024, -0.19469834, -0.18937196, -0.18405095,\n",
       "         -0.17873514, -0.17342439, -0.16811851, -0.16281737, -0.1575208 ,\n",
       "         -0.15222864, -0.14694075, -0.14165696, -0.13637712, -0.13110108,\n",
       "         -0.12582869, -0.12055979, -0.11529424, -0.11003188, -0.10477257,\n",
       "         -0.09951615, -0.09426248, -0.08901142, -0.0837628 , -0.0785165 ,\n",
       "         -0.07327235, -0.06803022, -0.06278995, -0.05755141, -0.05231445,\n",
       "         -0.04707892, -0.04184469, -0.0366116 , -0.03137951, -0.02614828,\n",
       "         -0.02091776, -0.01568782, -0.01045831, -0.00522908,  0.        ,\n",
       "          0.00522908,  0.01045831,  0.01568782,  0.02091776,  0.02614828,\n",
       "          0.03137951,  0.0366116 ,  0.04184469,  0.04707892,  0.05231445,\n",
       "          0.05755141,  0.06278995,  0.06803022,  0.07327235,  0.0785165 ,\n",
       "          0.0837628 ,  0.08901142,  0.09426248,  0.09951615,  0.10477257,\n",
       "          0.11003188,  0.11529424,  0.12055979,  0.12582869,  0.13110108,\n",
       "          0.13637712,  0.14165696,  0.14694075,  0.15222864,  0.1575208 ,\n",
       "          0.16281737,  0.16811851,  0.17342439,  0.17873514,  0.18405095,\n",
       "          0.18937196,  0.19469834,  0.20003024,  0.20536784,  0.2107113 ,\n",
       "          0.21606078,  0.22141645,  0.22677848,  0.23214704,  0.2375223 ,\n",
       "          0.24290442,  0.2482936 ,  0.25368999,  0.25909378,  0.26450515,\n",
       "          0.26992428,  0.27535134,  0.28078653,  0.28623002,  0.29168201,\n",
       "          0.29714269,  0.30261223,  0.30809085,  0.31357873,  0.31907607,\n",
       "          0.32458306,  0.33009992,  0.33562685,  0.34116405,  0.34671172,\n",
       "          0.35227009,  0.35783936,  0.36341976,  0.36901149,  0.37461479,\n",
       "          0.38022987,  0.38585697,  0.39149631,  0.39714813,  0.40281267,\n",
       "          0.40849016,  0.41418085,  0.41988498,  0.4256028 ,  0.43133458,\n",
       "          0.43708056,  0.44284101,  0.44861619,  0.45440637,  0.46021183,\n",
       "          0.46603284,  0.47186968,  0.47772265,  0.48359203,  0.48947811,\n",
       "          0.4953812 ,  0.5013016 ,  0.50723963,  0.5131956 ,  0.51916983,\n",
       "          0.52516264,  0.53117438,  0.53720537,  0.54325597,  0.54932652,\n",
       "          0.55541739,  0.56152893,  0.56766151,  0.57381552,  0.57999134,\n",
       "          0.58618936,  0.59240998,  0.59865361,  0.60492066,  0.61121157,\n",
       "          0.61752675,  0.62386666,  0.63023175,  0.63662247,  0.64303931,\n",
       "          0.64948272,  0.65595322,  0.6624513 ,  0.66897747,  0.67553226,\n",
       "          0.6821162 ,  0.68872984,  0.69537375,  0.70204849,  0.70875467,\n",
       "          0.71549286,  0.72226371,  0.72906782,  0.73590586,  0.74277848,\n",
       "          0.74968637,  0.75663022,  0.76361074,  0.77062867,  0.77768477,\n",
       "          0.7847798 ,  0.79191455,  0.79908985,  0.80630652,  0.81356544,\n",
       "          0.82086748,  0.82821355,  0.83560459,  0.84304156,  0.85052546,\n",
       "          0.8580573 ,  0.86563813,  0.87326904,  0.88095114,  0.88868558,\n",
       "          0.89647356,  0.90431629,  0.91221505,  0.92017113,  0.92818589,\n",
       "          0.93626072,  0.94439707,  0.95259642,  0.96086032,  0.96919036,\n",
       "          0.9775882 ,  0.98605556,  0.99459422,  1.00320601,  1.01189285,\n",
       "          1.02065673,  1.02949971,  1.03842393,  1.04743164,  1.05652514,\n",
       "          1.06570687,  1.07497932,  1.08434513,  1.09380704,  1.1033679 ,\n",
       "          1.1130307 ,  1.12279856,  1.13267474,  1.14266265,  1.15276587,\n",
       "          1.16298815,  1.17333342,  1.18380582,  1.19440968,  1.20514957,\n",
       "          1.2160303 ,  1.22705693,  1.23823481,  1.24956958,  1.2610672 ,\n",
       "          1.27273399,  1.28457664,  1.29660225,  1.30881834,  1.32123294,\n",
       "          1.33385458,  1.34669236,  1.35975601,  1.37305592,  1.38660325,\n",
       "          1.40040996,  1.4144889 ,  1.42885394,  1.44352004,  1.45850338,\n",
       "          1.4738215 ,  1.48949347,  1.50554006,  1.52198396,  1.53885002,\n",
       "          1.55616556,  1.57396067,  1.59226864,  1.61112642,  1.63057521,\n",
       "          1.65066109,  1.67143589,  1.69295819,  1.71529454,  1.738521  ,\n",
       "          1.76272509,  1.78800822,  1.81448887,  1.84230664,  1.87162774,\n",
       "          1.90265225,  1.93562415,  1.97084538,  2.00869605,  2.04966439,\n",
       "          2.09439277,  2.14375129,  2.19896187,  2.26182128,  2.33513707,\n",
       "          2.42368146,  2.53664966,  2.6959081 ,  2.97898496]),\n",
       "  array([-1.54099075e+01, -1.05676278e+01, -1.05034869e+01, -1.01819240e+01,\n",
       "         -7.98008470e+00, -7.47349325e+00, -7.18740143e+00, -7.15069336e+00,\n",
       "         -6.95303965e+00, -6.90762901e+00, -6.88127597e+00, -6.86092707e+00,\n",
       "         -6.85400719e+00, -6.76323561e+00, -6.62491903e+00, -6.57779288e+00,\n",
       "         -6.53509431e+00, -6.35516916e+00, -6.30357322e+00, -6.17977461e+00,\n",
       "         -6.16419977e+00, -6.15700005e+00, -6.15571358e+00, -6.08590362e+00,\n",
       "         -5.95095041e+00, -5.91153568e+00, -5.79687344e+00, -5.76650373e+00,\n",
       "         -5.75607466e+00, -5.63337701e+00, -5.51181767e+00, -5.50375476e+00,\n",
       "         -5.45776670e+00, -5.41401837e+00, -5.38576954e+00, -5.35756680e+00,\n",
       "         -5.28454687e+00, -5.23985835e+00, -5.21772823e+00, -5.21204209e+00,\n",
       "         -5.17714707e+00, -5.12231565e+00, -5.07925881e+00, -5.04054009e+00,\n",
       "         -5.02867865e+00, -4.99366589e+00, -4.94457487e+00, -4.92716441e+00,\n",
       "         -4.87008758e+00, -4.82974571e+00, -4.81571460e+00, -4.73709806e+00,\n",
       "         -4.71875540e+00, -4.70413280e+00, -4.70265713e+00, -4.67153605e+00,\n",
       "         -4.65344450e+00, -4.45713685e+00, -4.44375466e+00, -4.43435129e+00,\n",
       "         -4.36536511e+00, -4.35610248e+00, -4.30775803e+00, -4.26538523e+00,\n",
       "         -4.22019521e+00, -4.13129740e+00, -4.10956066e+00, -4.08363837e+00,\n",
       "         -4.07368707e+00, -4.04646462e+00, -4.03650046e+00, -4.03023969e+00,\n",
       "         -4.00065394e+00, -3.99783656e+00, -3.94219370e+00, -3.88510996e+00,\n",
       "         -3.86466528e+00, -3.86304170e+00, -3.84398450e+00, -3.78682736e+00,\n",
       "         -3.78433089e+00, -3.73918033e+00, -3.73514274e+00, -3.68756998e+00,\n",
       "         -3.67254475e+00, -3.66640839e+00, -3.66043087e+00, -3.65412502e+00,\n",
       "         -3.62592257e+00, -3.61383801e+00, -3.60287910e+00, -3.58986778e+00,\n",
       "         -3.58461889e+00, -3.54740357e+00, -3.54493574e+00, -3.51559374e+00,\n",
       "         -3.47472695e+00, -3.44292906e+00, -3.41880928e+00, -3.39902597e+00,\n",
       "         -3.38407126e+00, -3.31268576e+00, -3.25744175e+00, -3.18610120e+00,\n",
       "         -3.11881962e+00, -3.11628187e+00, -3.10857132e+00, -3.04060678e+00,\n",
       "         -2.97332344e+00, -2.92456760e+00, -2.89991732e+00, -2.89636225e+00,\n",
       "         -2.88123466e+00, -2.87075639e+00, -2.85627473e+00, -2.83014456e+00,\n",
       "         -2.81488034e+00, -2.81452602e+00, -2.80295009e+00, -2.73248583e+00,\n",
       "         -2.72545692e+00, -2.71563154e+00, -2.69678650e+00, -2.69506203e+00,\n",
       "         -2.66545652e+00, -2.62573013e+00, -2.59143844e+00, -2.58722191e+00,\n",
       "         -2.58602142e+00, -2.58323863e+00, -2.58206585e+00, -2.57960151e+00,\n",
       "         -2.55075617e+00, -2.55051719e+00, -2.52969925e+00, -2.52843180e+00,\n",
       "         -2.49070568e+00, -2.48925745e+00, -2.45176875e+00, -2.43634284e+00,\n",
       "         -2.43572504e+00, -2.41895861e+00, -2.37593573e+00, -2.36542917e+00,\n",
       "         -2.36335460e+00, -2.33173554e+00, -2.30612178e+00, -2.29794472e+00,\n",
       "         -2.24352074e+00, -2.24243026e+00, -2.23826919e+00, -2.23202456e+00,\n",
       "         -2.21000843e+00, -2.19028948e+00, -2.17694715e+00, -2.16681094e+00,\n",
       "         -2.16531153e+00, -2.10625688e+00, -2.09835165e+00, -2.08846692e+00,\n",
       "         -2.07642108e+00, -2.05322528e+00, -2.04385610e+00, -1.95643031e+00,\n",
       "         -1.89191883e+00, -1.88908313e+00, -1.88746964e+00, -1.87830445e+00,\n",
       "         -1.87166135e+00, -1.84934265e+00, -1.82107282e+00, -1.80488648e+00,\n",
       "         -1.79711742e+00, -1.79591939e+00, -1.79340574e+00, -1.76648806e+00,\n",
       "         -1.75597453e+00, -1.71978588e+00, -1.70543230e+00, -1.65626438e+00,\n",
       "         -1.65341726e+00, -1.62280592e+00, -1.61828969e+00, -1.58077916e+00,\n",
       "         -1.56484473e+00, -1.52590243e+00, -1.50612256e+00, -1.47494560e+00,\n",
       "         -1.47029358e+00, -1.46959048e+00, -1.46926551e+00, -1.46893463e+00,\n",
       "         -1.43558733e+00, -1.43488276e+00, -1.33321012e+00, -1.31128858e+00,\n",
       "         -1.28763062e+00, -1.26629256e+00, -1.26211922e+00, -1.24568967e+00,\n",
       "         -1.23482654e+00, -1.20211884e+00, -1.18325000e+00, -1.16528987e+00,\n",
       "         -1.15528852e+00, -1.13118377e+00, -1.11426331e+00, -1.10591943e+00,\n",
       "         -1.09364081e+00, -1.06813392e+00, -1.06589608e+00, -1.04073744e+00,\n",
       "         -1.03538369e+00, -9.78608570e-01, -9.71524354e-01, -9.51068997e-01,\n",
       "         -9.23717831e-01, -9.18989947e-01, -9.14841698e-01, -9.07799889e-01,\n",
       "         -8.99488046e-01, -8.66080762e-01, -8.61130327e-01, -8.50878241e-01,\n",
       "         -8.00092660e-01, -7.96008339e-01, -7.56821604e-01, -7.38445173e-01,\n",
       "         -6.85657531e-01, -6.63001458e-01, -6.56517926e-01, -6.52786673e-01,\n",
       "         -6.48469836e-01, -6.22484413e-01, -6.21817713e-01, -6.14276766e-01,\n",
       "         -5.91888634e-01, -5.55429130e-01, -5.38220244e-01, -5.22204993e-01,\n",
       "         -5.18553125e-01, -4.86494187e-01, -4.75421957e-01, -4.65962764e-01,\n",
       "         -4.43850775e-01, -4.38222596e-01, -4.14315273e-01, -4.07729852e-01,\n",
       "         -4.03947540e-01, -3.91843998e-01, -3.88892797e-01, -3.63178427e-01,\n",
       "         -3.58696233e-01, -3.52152830e-01, -3.35074538e-01, -3.15596194e-01,\n",
       "         -3.09382311e-01, -2.92333096e-01, -2.77373859e-01, -2.74405658e-01,\n",
       "         -2.13687129e-01, -1.84200659e-01, -1.71282987e-01, -1.68079153e-01,\n",
       "         -1.57990830e-01, -9.73767098e-02, -8.24561309e-02, -7.10212075e-02,\n",
       "         -6.47196943e-02, -6.05564038e-02, -5.12086336e-02, -4.32079706e-02,\n",
       "         -3.74134998e-02, -3.64631468e-02, -3.16800634e-02,  2.26576923e-02,\n",
       "          6.06377265e-02,  6.82691793e-02,  7.06775073e-02,  7.31736397e-02,\n",
       "          7.57763202e-02,  1.26643946e-01,  1.29730804e-01,  1.31889791e-01,\n",
       "          1.43621530e-01,  1.50682078e-01,  1.50683581e-01,  1.89933823e-01,\n",
       "          2.13436297e-01,  2.15968586e-01,  2.27970176e-01,  2.33690412e-01,\n",
       "          2.43809719e-01,  2.98481962e-01,  3.11458658e-01,  3.13106081e-01,\n",
       "          3.20149478e-01,  3.27423671e-01,  3.32631130e-01,  3.42715673e-01,\n",
       "          3.48187067e-01,  3.73645892e-01,  3.75514724e-01,  3.92260349e-01,\n",
       "          4.35852531e-01,  4.38999176e-01,  4.40350309e-01,  4.47862471e-01,\n",
       "          4.74080640e-01,  4.81607360e-01,  4.86495958e-01,  5.02834170e-01,\n",
       "          5.25725630e-01,  5.83127585e-01,  5.92196018e-01,  6.96853094e-01,\n",
       "          6.97402076e-01,  6.99677917e-01,  7.09500834e-01,  7.10567495e-01,\n",
       "          7.93557221e-01,  7.95166985e-01,  8.18828350e-01,  8.26482388e-01,\n",
       "          8.36859625e-01,  8.37623845e-01,  8.54556164e-01,  8.61391316e-01,\n",
       "          8.64656715e-01,  8.77348332e-01,  9.06519178e-01,  9.17183283e-01,\n",
       "          9.36729605e-01,  9.40351002e-01,  9.43277988e-01,  9.71416867e-01,\n",
       "          9.85789055e-01,  9.90233833e-01,  1.00388007e+00,  1.00742676e+00,\n",
       "          1.01346763e+00,  1.02519061e+00,  1.12326313e+00,  1.12503988e+00,\n",
       "          1.17623804e+00,  1.20782297e+00,  1.22217986e+00,  1.23461493e+00,\n",
       "          1.24800622e+00,  1.25986856e+00,  1.27862260e+00,  1.35479050e+00,\n",
       "          1.43070173e+00,  1.45124084e+00,  1.45324264e+00,  1.47630827e+00,\n",
       "          1.55952599e+00,  1.59605208e+00,  1.62801336e+00,  1.71279973e+00,\n",
       "          1.71367915e+00,  1.81349516e+00,  1.85281484e+00,  1.95282617e+00,\n",
       "          1.98204291e+00,  2.00534311e+00,  2.02000115e+00,  2.03033519e+00,\n",
       "          2.13989275e+00,  2.16846898e+00,  2.23125523e+00,  2.23523071e+00,\n",
       "          2.25170215e+00,  2.28109418e+00,  2.38020498e+00,  2.38785726e+00,\n",
       "          2.48474132e+00,  2.61187916e+00,  2.65878784e+00,  2.66002746e+00,\n",
       "          2.71504059e+00,  2.73586540e+00,  2.76899252e+00,  2.82030562e+00,\n",
       "          2.84993520e+00,  2.89183338e+00,  2.90020027e+00,  2.93418055e+00,\n",
       "          2.95128756e+00,  2.95254348e+00,  3.09716320e+00,  3.10436826e+00,\n",
       "          3.21725094e+00,  3.24464569e+00,  3.26914885e+00,  3.31510306e+00,\n",
       "          3.38826203e+00,  3.40576874e+00,  3.46924073e+00,  3.47224997e+00,\n",
       "          3.56784298e+00,  3.60325084e+00,  3.61975537e+00,  3.75522860e+00,\n",
       "          3.76094689e+00,  3.86103886e+00,  3.87114168e+00,  3.88226387e+00,\n",
       "          3.90538701e+00,  4.08738744e+00,  4.09343504e+00,  4.09387825e+00,\n",
       "          4.14671341e+00,  4.25472486e+00,  4.27631828e+00,  4.28227605e+00,\n",
       "          4.44973619e+00,  4.46238286e+00,  4.64665918e+00,  4.67744134e+00,\n",
       "          4.73153421e+00,  4.73729122e+00,  4.84486895e+00,  4.85635554e+00,\n",
       "          4.87133453e+00,  4.92027830e+00,  5.04859119e+00,  5.12521105e+00,\n",
       "          5.18847792e+00,  5.24917195e+00,  5.33747552e+00,  5.37601892e+00,\n",
       "          5.38426877e+00,  5.47479989e+00,  5.53728227e+00,  5.62378747e+00,\n",
       "          5.62381692e+00,  5.87494520e+00,  5.88399285e+00,  6.15415540e+00,\n",
       "          6.30833946e+00,  6.35332464e+00,  6.61264341e+00,  6.72981943e+00,\n",
       "          6.76613904e+00,  6.80357995e+00,  7.14148362e+00,  7.48840350e+00,\n",
       "          7.58811948e+00,  7.81563885e+00,  7.83808129e+00,  8.07398000e+00,\n",
       "          8.07565211e+00,  8.08361946e+00,  8.32471126e+00,  8.37180924e+00,\n",
       "          8.42573567e+00,  8.78432071e+00,  9.38863723e+00,  9.40955480e+00,\n",
       "          1.01279549e+01,  1.05240419e+01,  1.12962156e+01,  1.12975476e+01,\n",
       "          1.13857279e+01,  1.13924414e+01,  1.20998857e+01,  1.27780555e+01,\n",
       "          1.28040204e+01,  1.31282093e+01,  1.33621734e+01,  1.36221210e+01,\n",
       "          1.42158984e+01,  1.48215940e+01,  1.60937594e+01,  1.67209520e+01,\n",
       "          2.32665948e+01,  2.47047395e+01,  2.53123159e+01])),\n",
       " (4.469392035031533, -9.256339605726566e-15, 0.9488467348984406))"
      ]
     },
     "execution_count": 76,
     "metadata": {},
     "output_type": "execute_result"
    },
    {
     "data": {
      "image/png": "[encoded data removed]",
      "text/plain": [
       "<Figure size 432x288 with 1 Axes>"
      ]
     },
     "metadata": {
      "needs_background": "light"
     },
     "output_type": "display_data"
    }
   ],
   "source": [
    "stats.probplot(resids2, plot=sn.mpl.pyplot)"
   ]
  },
  {
   "cell_type": "code",
   "execution_count": 77,
   "metadata": {},
   "outputs": [],
   "source": [
    "resids_standardized2=r2.get_influence().resid_studentized_internal"
   ]
  },
  {
   "cell_type": "code",
   "execution_count": 78,
   "metadata": {},
   "outputs": [
    {
     "data": {
      "text/plain": [
       "<AxesSubplot:>"
      ]
     },
     "execution_count": 78,
     "metadata": {},
     "output_type": "execute_result"
    },
    {
     "data": {
      "image/png": "[encoded data removed]",
      "text/plain": [
       "<Figure size 432x288 with 1 Axes>"
      ]
     },
     "metadata": {
      "needs_background": "light"
     },
     "output_type": "display_data"
    }
   ],
   "source": [
    "sn.regplot(x=fitted_vals2,y=np.sqrt(np.abs(resids_standardized2)),line_kws={'color':'orange'})"
   ]
  },
  {
   "cell_type": "code",
   "execution_count": 79,
   "metadata": {},
   "outputs": [
    {
     "name": "stdout",
     "output_type": "stream",
     "text": [
      "Variable:const---Correlation:nan,P-value:nan\n",
      "Variable:CRIM---Correlation:-0.0000,P-value:1.0000\n",
      "Variable:ZN---Correlation:-0.0000,P-value:1.0000\n",
      "Variable:CHAS---Correlation:0.0000,P-value:1.0000\n",
      "Variable:NOX---Correlation:0.0000,P-value:1.0000\n",
      "Variable:RM---Correlation:-0.0000,P-value:1.0000\n",
      "Variable:AGE---Correlation:0.0000,P-value:1.0000\n",
      "Variable:DIS---Correlation:-0.0000,P-value:1.0000\n",
      "Variable:RAD---Correlation:-0.0000,P-value:1.0000\n",
      "Variable:TAX---Correlation:0.0000,P-value:1.0000\n",
      "Variable:PTRATIO---Correlation:0.0000,P-value:1.0000\n",
      "Variable:B---Correlation:-0.0000,P-value:1.0000\n",
      "Variable:LSTAT---Correlation:0.0000,P-value:1.0000\n"
     ]
    },
    {
     "name": "stderr",
     "output_type": "stream",
     "text": [
      "C:\\Users\\Ruchit\\anaconda3\\lib\\site-packages\\scipy\\stats\\stats.py:3845: PearsonRConstantInputWarning: An input array is constant; the correlation coefficent is not defined.\n",
      "  warnings.warn(PearsonRConstantInputWarning())\n"
     ]
    }
   ],
   "source": [
    "for column in X1.columns:\n",
    "    corr_test=pearsonr(X1[column],r2.resid)\n",
    "    print(f'Variable:{column}---Correlation:{corr_test[0]:.4f},P-value:{corr_test[1]:.4f}' )"
   ]
  },
  {
   "cell_type": "code",
   "execution_count": 80,
   "metadata": {},
   "outputs": [
    {
     "data": {
      "text/html": [
       "<div>\n",
       "<style scoped>\n",
       "    .dataframe tbody tr th:only-of-type {\n",
       "        vertical-align: middle;\n",
       "    }\n",
       "\n",
       "    .dataframe tbody tr th {\n",
       "        vertical-align: top;\n",
       "    }\n",
       "\n",
       "    .dataframe thead th {\n",
       "        text-align: right;\n",
       "    }\n",
       "</style>\n",
       "<table border=\"1\" class=\"dataframe\">\n",
       "  <thead>\n",
       "    <tr style=\"text-align: right;\">\n",
       "      <th></th>\n",
       "      <th>0</th>\n",
       "    </tr>\n",
       "  </thead>\n",
       "  <tbody>\n",
       "    <tr>\n",
       "      <th>CRIM</th>\n",
       "      <td>1.774555</td>\n",
       "    </tr>\n",
       "    <tr>\n",
       "      <th>ZN</th>\n",
       "      <td>2.109744</td>\n",
       "    </tr>\n",
       "    <tr>\n",
       "      <th>CHAS</th>\n",
       "      <td>1.081743</td>\n",
       "    </tr>\n",
       "    <tr>\n",
       "      <th>NOX</th>\n",
       "      <td>4.014779</td>\n",
       "    </tr>\n",
       "    <tr>\n",
       "      <th>RM</th>\n",
       "      <td>1.877057</td>\n",
       "    </tr>\n",
       "    <tr>\n",
       "      <th>AGE</th>\n",
       "      <td>3.062713</td>\n",
       "    </tr>\n",
       "    <tr>\n",
       "      <th>DIS</th>\n",
       "      <td>3.747925</td>\n",
       "    </tr>\n",
       "    <tr>\n",
       "      <th>RAD</th>\n",
       "      <td>6.823725</td>\n",
       "    </tr>\n",
       "    <tr>\n",
       "      <th>TAX</th>\n",
       "      <td>7.212932</td>\n",
       "    </tr>\n",
       "    <tr>\n",
       "      <th>PTRATIO</th>\n",
       "      <td>1.711097</td>\n",
       "    </tr>\n",
       "    <tr>\n",
       "      <th>B</th>\n",
       "      <td>1.346127</td>\n",
       "    </tr>\n",
       "    <tr>\n",
       "      <th>LSTAT</th>\n",
       "      <td>2.891697</td>\n",
       "    </tr>\n",
       "  </tbody>\n",
       "</table>\n",
       "</div>"
      ],
      "text/plain": [
       "                0\n",
       "CRIM     1.774555\n",
       "ZN       2.109744\n",
       "CHAS     1.081743\n",
       "NOX      4.014779\n",
       "RM       1.877057\n",
       "AGE      3.062713\n",
       "DIS      3.747925\n",
       "RAD      6.823725\n",
       "TAX      7.212932\n",
       "PTRATIO  1.711097\n",
       "B        1.346127\n",
       "LSTAT    2.891697"
      ]
     },
     "execution_count": 80,
     "metadata": {},
     "output_type": "execute_result"
    }
   ],
   "source": [
    "vif2=[variance_inflation_factor(X1.values,i) for i in range(X1.shape[1])]\n",
    "pd.DataFrame(vif2[1:],index=X1.columns[1:])"
   ]
  },
  {
   "cell_type": "code",
   "execution_count": 81,
   "metadata": {},
   "outputs": [],
   "source": [
    "X3=X1.drop(['AGE'],axis=1)\n",
    "X2=sm.add_constant(X3)"
   ]
  },
  {
   "cell_type": "code",
   "execution_count": 82,
   "metadata": {},
   "outputs": [
    {
     "data": {
      "text/html": [
       "<table class=\"simpletable\">\n",
       "<caption>OLS Regression Results</caption>\n",
       "<tr>\n",
       "  <th>Dep. Variable:</th>          <td>MEDV</td>       <th>  R-squared:         </th> <td>   0.730</td> \n",
       "</tr>\n",
       "<tr>\n",
       "  <th>Model:</th>                   <td>OLS</td>       <th>  Adj. R-squared:    </th> <td>   0.723</td> \n",
       "</tr>\n",
       "<tr>\n",
       "  <th>Method:</th>             <td>Least Squares</td>  <th>  F-statistic:       </th> <td>   114.5</td> \n",
       "</tr>\n",
       "<tr>\n",
       "  <th>Date:</th>             <td>Sat, 14 Aug 2021</td> <th>  Prob (F-statistic):</th> <td>5.60e-125</td>\n",
       "</tr>\n",
       "<tr>\n",
       "  <th>Time:</th>                 <td>12:46:32</td>     <th>  Log-Likelihood:    </th> <td> -1419.5</td> \n",
       "</tr>\n",
       "<tr>\n",
       "  <th>No. Observations:</th>      <td>   479</td>      <th>  AIC:               </th> <td>   2863.</td> \n",
       "</tr>\n",
       "<tr>\n",
       "  <th>Df Residuals:</th>          <td>   467</td>      <th>  BIC:               </th> <td>   2913.</td> \n",
       "</tr>\n",
       "<tr>\n",
       "  <th>Df Model:</th>              <td>    11</td>      <th>                     </th>     <td> </td>    \n",
       "</tr>\n",
       "<tr>\n",
       "  <th>Covariance Type:</th>      <td>nonrobust</td>    <th>                     </th>     <td> </td>    \n",
       "</tr>\n",
       "</table>\n",
       "<table class=\"simpletable\">\n",
       "<tr>\n",
       "     <td></td>        <th>coef</th>     <th>std err</th>      <th>t</th>      <th>P>|t|</th>  <th>[0.025</th>    <th>0.975]</th>  \n",
       "</tr>\n",
       "<tr>\n",
       "  <th>const</th>   <td>   39.8773</td> <td>    5.287</td> <td>    7.542</td> <td> 0.000</td> <td>   29.487</td> <td>   50.267</td>\n",
       "</tr>\n",
       "<tr>\n",
       "  <th>CRIM</th>    <td>   -0.1080</td> <td>    0.033</td> <td>   -3.274</td> <td> 0.001</td> <td>   -0.173</td> <td>   -0.043</td>\n",
       "</tr>\n",
       "<tr>\n",
       "  <th>ZN</th>      <td>    0.0445</td> <td>    0.014</td> <td>    3.189</td> <td> 0.002</td> <td>    0.017</td> <td>    0.072</td>\n",
       "</tr>\n",
       "<tr>\n",
       "  <th>CHAS</th>    <td>    2.9836</td> <td>    0.914</td> <td>    3.263</td> <td> 0.001</td> <td>    1.187</td> <td>    4.781</td>\n",
       "</tr>\n",
       "<tr>\n",
       "  <th>NOX</th>     <td>  -18.5220</td> <td>    3.669</td> <td>   -5.049</td> <td> 0.000</td> <td>  -25.731</td> <td>  -11.313</td>\n",
       "</tr>\n",
       "<tr>\n",
       "  <th>RM</th>      <td>    3.5059</td> <td>    0.423</td> <td>    8.293</td> <td> 0.000</td> <td>    2.675</td> <td>    4.337</td>\n",
       "</tr>\n",
       "<tr>\n",
       "  <th>DIS</th>     <td>   -1.5729</td> <td>    0.195</td> <td>   -8.052</td> <td> 0.000</td> <td>   -1.957</td> <td>   -1.189</td>\n",
       "</tr>\n",
       "<tr>\n",
       "  <th>RAD</th>     <td>    0.3239</td> <td>    0.065</td> <td>    4.973</td> <td> 0.000</td> <td>    0.196</td> <td>    0.452</td>\n",
       "</tr>\n",
       "<tr>\n",
       "  <th>TAX</th>     <td>   -0.0123</td> <td>    0.003</td> <td>   -3.538</td> <td> 0.000</td> <td>   -0.019</td> <td>   -0.005</td>\n",
       "</tr>\n",
       "<tr>\n",
       "  <th>PTRATIO</th> <td>   -0.9773</td> <td>    0.136</td> <td>   -7.164</td> <td> 0.000</td> <td>   -1.245</td> <td>   -0.709</td>\n",
       "</tr>\n",
       "<tr>\n",
       "  <th>B</th>       <td>    0.0096</td> <td>    0.003</td> <td>    3.522</td> <td> 0.000</td> <td>    0.004</td> <td>    0.015</td>\n",
       "</tr>\n",
       "<tr>\n",
       "  <th>LSTAT</th>   <td>   -0.5494</td> <td>    0.049</td> <td>  -11.146</td> <td> 0.000</td> <td>   -0.646</td> <td>   -0.453</td>\n",
       "</tr>\n",
       "</table>\n",
       "<table class=\"simpletable\">\n",
       "<tr>\n",
       "  <th>Omnibus:</th>       <td>163.535</td> <th>  Durbin-Watson:     </th> <td>   1.088</td> \n",
       "</tr>\n",
       "<tr>\n",
       "  <th>Prob(Omnibus):</th> <td> 0.000</td>  <th>  Jarque-Bera (JB):  </th> <td> 675.144</td> \n",
       "</tr>\n",
       "<tr>\n",
       "  <th>Skew:</th>          <td> 1.486</td>  <th>  Prob(JB):          </th> <td>2.48e-147</td>\n",
       "</tr>\n",
       "<tr>\n",
       "  <th>Kurtosis:</th>      <td> 7.999</td>  <th>  Cond. No.          </th> <td>1.49e+04</td> \n",
       "</tr>\n",
       "</table><br/><br/>Notes:<br/>[1] Standard Errors assume that the covariance matrix of the errors is correctly specified.<br/>[2] The condition number is large, 1.49e+04. This might indicate that there are<br/>strong multicollinearity or other numerical problems."
      ],
      "text/plain": [
       "<class 'statsmodels.iolib.summary.Summary'>\n",
       "\"\"\"\n",
       "                            OLS Regression Results                            \n",
       "==============================================================================\n",
       "Dep. Variable:                   MEDV   R-squared:                       0.730\n",
       "Model:                            OLS   Adj. R-squared:                  0.723\n",
       "Method:                 Least Squares   F-statistic:                     114.5\n",
       "Date:                Sat, 14 Aug 2021   Prob (F-statistic):          5.60e-125\n",
       "Time:                        12:46:32   Log-Likelihood:                -1419.5\n",
       "No. Observations:                 479   AIC:                             2863.\n",
       "Df Residuals:                     467   BIC:                             2913.\n",
       "Df Model:                          11                                         \n",
       "Covariance Type:            nonrobust                                         \n",
       "==============================================================================\n",
       "                 coef    std err          t      P>|t|      [0.025      0.975]\n",
       "------------------------------------------------------------------------------\n",
       "const         39.8773      5.287      7.542      0.000      29.487      50.267\n",
       "CRIM          -0.1080      0.033     -3.274      0.001      -0.173      -0.043\n",
       "ZN             0.0445      0.014      3.189      0.002       0.017       0.072\n",
       "CHAS           2.9836      0.914      3.263      0.001       1.187       4.781\n",
       "NOX          -18.5220      3.669     -5.049      0.000     -25.731     -11.313\n",
       "RM             3.5059      0.423      8.293      0.000       2.675       4.337\n",
       "DIS           -1.5729      0.195     -8.052      0.000      -1.957      -1.189\n",
       "RAD            0.3239      0.065      4.973      0.000       0.196       0.452\n",
       "TAX           -0.0123      0.003     -3.538      0.000      -0.019      -0.005\n",
       "PTRATIO       -0.9773      0.136     -7.164      0.000      -1.245      -0.709\n",
       "B              0.0096      0.003      3.522      0.000       0.004       0.015\n",
       "LSTAT         -0.5494      0.049    -11.146      0.000      -0.646      -0.453\n",
       "==============================================================================\n",
       "Omnibus:                      163.535   Durbin-Watson:                   1.088\n",
       "Prob(Omnibus):                  0.000   Jarque-Bera (JB):              675.144\n",
       "Skew:                           1.486   Prob(JB):                    2.48e-147\n",
       "Kurtosis:                       7.999   Cond. No.                     1.49e+04\n",
       "==============================================================================\n",
       "\n",
       "Notes:\n",
       "[1] Standard Errors assume that the covariance matrix of the errors is correctly specified.\n",
       "[2] The condition number is large, 1.49e+04. This might indicate that there are\n",
       "strong multicollinearity or other numerical problems.\n",
       "\"\"\""
      ]
     },
     "execution_count": 82,
     "metadata": {},
     "output_type": "execute_result"
    }
   ],
   "source": [
    "r3=sm.OLS(y,X2)\n",
    "r3=r3.fit()\n",
    "r3.summary()"
   ]
  },
  {
   "cell_type": "code",
   "execution_count": 83,
   "metadata": {},
   "outputs": [
    {
     "data": {
      "text/plain": [
       "Text(0.5, 1.0, 'Residuals vs. Predicted Value')"
      ]
     },
     "execution_count": 83,
     "metadata": {},
     "output_type": "execute_result"
    },
    {
     "data": {
      "image/png": "[encoded data removed]",
      "text/plain": [
       "<Figure size 432x288 with 1 Axes>"
      ]
     },
     "metadata": {
      "needs_background": "light"
     },
     "output_type": "display_data"
    }
   ],
   "source": [
    "fitted_vals3 = r3.predict()\n",
    "resids3 = r3.resid\n",
    "\n",
    "sn.regplot(x=fitted_vals3, y=resids3,line_kws={'color':'red'})\n",
    "plt.title('Residuals vs. Predicted Value')"
   ]
  },
  {
   "cell_type": "code",
   "execution_count": 84,
   "metadata": {},
   "outputs": [
    {
     "name": "stderr",
     "output_type": "stream",
     "text": [
      "C:\\Users\\Ruchit\\anaconda3\\lib\\site-packages\\seaborn\\distributions.py:2551: FutureWarning: `distplot` is a deprecated function and will be removed in a future version. Please adapt your code to use either `displot` (a figure-level function with similar flexibility) or `histplot` (an axes-level function for histograms).\n",
      "  warnings.warn(msg, FutureWarning)\n"
     ]
    },
    {
     "data": {
      "text/plain": [
       "<AxesSubplot:ylabel='Density'>"
      ]
     },
     "execution_count": 84,
     "metadata": {},
     "output_type": "execute_result"
    },
    {
     "data": {
      "image/png": "[encoded data removed]",
      "text/plain": [
       "<Figure size 432x288 with 1 Axes>"
      ]
     },
     "metadata": {
      "needs_background": "light"
     },
     "output_type": "display_data"
    }
   ],
   "source": [
    "sn.distplot(r2.resid)"
   ]
  },
  {
   "cell_type": "code",
   "execution_count": 85,
   "metadata": {},
   "outputs": [
    {
     "data": {
      "text/plain": [
       "((array([-2.97898496, -2.6959081 , -2.53664966, -2.42368146, -2.33513707,\n",
       "         -2.26182128, -2.19896187, -2.14375129, -2.09439277, -2.04966439,\n",
       "         -2.00869605, -1.97084538, -1.93562415, -1.90265225, -1.87162774,\n",
       "         -1.84230664, -1.81448887, -1.78800822, -1.76272509, -1.738521  ,\n",
       "         -1.71529454, -1.69295819, -1.67143589, -1.65066109, -1.63057521,\n",
       "         -1.61112642, -1.59226864, -1.57396067, -1.55616556, -1.53885002,\n",
       "         -1.52198396, -1.50554006, -1.48949347, -1.4738215 , -1.45850338,\n",
       "         -1.44352004, -1.42885394, -1.4144889 , -1.40040996, -1.38660325,\n",
       "         -1.37305592, -1.35975601, -1.34669236, -1.33385458, -1.32123294,\n",
       "         -1.30881834, -1.29660225, -1.28457664, -1.27273399, -1.2610672 ,\n",
       "         -1.24956958, -1.23823481, -1.22705693, -1.2160303 , -1.20514957,\n",
       "         -1.19440968, -1.18380582, -1.17333342, -1.16298815, -1.15276587,\n",
       "         -1.14266265, -1.13267474, -1.12279856, -1.1130307 , -1.1033679 ,\n",
       "         -1.09380704, -1.08434513, -1.07497932, -1.06570687, -1.05652514,\n",
       "         -1.04743164, -1.03842393, -1.02949971, -1.02065673, -1.01189285,\n",
       "         -1.00320601, -0.99459422, -0.98605556, -0.9775882 , -0.96919036,\n",
       "         -0.96086032, -0.95259642, -0.94439707, -0.93626072, -0.92818589,\n",
       "         -0.92017113, -0.91221505, -0.90431629, -0.89647356, -0.88868558,\n",
       "         -0.88095114, -0.87326904, -0.86563813, -0.8580573 , -0.85052546,\n",
       "         -0.84304156, -0.83560459, -0.82821355, -0.82086748, -0.81356544,\n",
       "         -0.80630652, -0.79908985, -0.79191455, -0.7847798 , -0.77768477,\n",
       "         -0.77062867, -0.76361074, -0.75663022, -0.74968637, -0.74277848,\n",
       "         -0.73590586, -0.72906782, -0.72226371, -0.71549286, -0.70875467,\n",
       "         -0.70204849, -0.69537375, -0.68872984, -0.6821162 , -0.67553226,\n",
       "         -0.66897747, -0.6624513 , -0.65595322, -0.64948272, -0.64303931,\n",
       "         -0.63662247, -0.63023175, -0.62386666, -0.61752675, -0.61121157,\n",
       "         -0.60492066, -0.59865361, -0.59240998, -0.58618936, -0.57999134,\n",
       "         -0.57381552, -0.56766151, -0.56152893, -0.55541739, -0.54932652,\n",
       "         -0.54325597, -0.53720537, -0.53117438, -0.52516264, -0.51916983,\n",
       "         -0.5131956 , -0.50723963, -0.5013016 , -0.4953812 , -0.48947811,\n",
       "         -0.48359203, -0.47772265, -0.47186968, -0.46603284, -0.46021183,\n",
       "         -0.45440637, -0.44861619, -0.44284101, -0.43708056, -0.43133458,\n",
       "         -0.4256028 , -0.41988498, -0.41418085, -0.40849016, -0.40281267,\n",
       "         -0.39714813, -0.39149631, -0.38585697, -0.38022987, -0.37461479,\n",
       "         -0.36901149, -0.36341976, -0.35783936, -0.35227009, -0.34671172,\n",
       "         -0.34116405, -0.33562685, -0.33009992, -0.32458306, -0.31907607,\n",
       "         -0.31357873, -0.30809085, -0.30261223, -0.29714269, -0.29168201,\n",
       "         -0.28623002, -0.28078653, -0.27535134, -0.26992428, -0.26450515,\n",
       "         -0.25909378, -0.25368999, -0.2482936 , -0.24290442, -0.2375223 ,\n",
       "         -0.23214704, -0.22677848, -0.22141645, -0.21606078, -0.2107113 ,\n",
       "         -0.20536784, -0.20003024, -0.19469834, -0.18937196, -0.18405095,\n",
       "         -0.17873514, -0.17342439, -0.16811851, -0.16281737, -0.1575208 ,\n",
       "         -0.15222864, -0.14694075, -0.14165696, -0.13637712, -0.13110108,\n",
       "         -0.12582869, -0.12055979, -0.11529424, -0.11003188, -0.10477257,\n",
       "         -0.09951615, -0.09426248, -0.08901142, -0.0837628 , -0.0785165 ,\n",
       "         -0.07327235, -0.06803022, -0.06278995, -0.05755141, -0.05231445,\n",
       "         -0.04707892, -0.04184469, -0.0366116 , -0.03137951, -0.02614828,\n",
       "         -0.02091776, -0.01568782, -0.01045831, -0.00522908,  0.        ,\n",
       "          0.00522908,  0.01045831,  0.01568782,  0.02091776,  0.02614828,\n",
       "          0.03137951,  0.0366116 ,  0.04184469,  0.04707892,  0.05231445,\n",
       "          0.05755141,  0.06278995,  0.06803022,  0.07327235,  0.0785165 ,\n",
       "          0.0837628 ,  0.08901142,  0.09426248,  0.09951615,  0.10477257,\n",
       "          0.11003188,  0.11529424,  0.12055979,  0.12582869,  0.13110108,\n",
       "          0.13637712,  0.14165696,  0.14694075,  0.15222864,  0.1575208 ,\n",
       "          0.16281737,  0.16811851,  0.17342439,  0.17873514,  0.18405095,\n",
       "          0.18937196,  0.19469834,  0.20003024,  0.20536784,  0.2107113 ,\n",
       "          0.21606078,  0.22141645,  0.22677848,  0.23214704,  0.2375223 ,\n",
       "          0.24290442,  0.2482936 ,  0.25368999,  0.25909378,  0.26450515,\n",
       "          0.26992428,  0.27535134,  0.28078653,  0.28623002,  0.29168201,\n",
       "          0.29714269,  0.30261223,  0.30809085,  0.31357873,  0.31907607,\n",
       "          0.32458306,  0.33009992,  0.33562685,  0.34116405,  0.34671172,\n",
       "          0.35227009,  0.35783936,  0.36341976,  0.36901149,  0.37461479,\n",
       "          0.38022987,  0.38585697,  0.39149631,  0.39714813,  0.40281267,\n",
       "          0.40849016,  0.41418085,  0.41988498,  0.4256028 ,  0.43133458,\n",
       "          0.43708056,  0.44284101,  0.44861619,  0.45440637,  0.46021183,\n",
       "          0.46603284,  0.47186968,  0.47772265,  0.48359203,  0.48947811,\n",
       "          0.4953812 ,  0.5013016 ,  0.50723963,  0.5131956 ,  0.51916983,\n",
       "          0.52516264,  0.53117438,  0.53720537,  0.54325597,  0.54932652,\n",
       "          0.55541739,  0.56152893,  0.56766151,  0.57381552,  0.57999134,\n",
       "          0.58618936,  0.59240998,  0.59865361,  0.60492066,  0.61121157,\n",
       "          0.61752675,  0.62386666,  0.63023175,  0.63662247,  0.64303931,\n",
       "          0.64948272,  0.65595322,  0.6624513 ,  0.66897747,  0.67553226,\n",
       "          0.6821162 ,  0.68872984,  0.69537375,  0.70204849,  0.70875467,\n",
       "          0.71549286,  0.72226371,  0.72906782,  0.73590586,  0.74277848,\n",
       "          0.74968637,  0.75663022,  0.76361074,  0.77062867,  0.77768477,\n",
       "          0.7847798 ,  0.79191455,  0.79908985,  0.80630652,  0.81356544,\n",
       "          0.82086748,  0.82821355,  0.83560459,  0.84304156,  0.85052546,\n",
       "          0.8580573 ,  0.86563813,  0.87326904,  0.88095114,  0.88868558,\n",
       "          0.89647356,  0.90431629,  0.91221505,  0.92017113,  0.92818589,\n",
       "          0.93626072,  0.94439707,  0.95259642,  0.96086032,  0.96919036,\n",
       "          0.9775882 ,  0.98605556,  0.99459422,  1.00320601,  1.01189285,\n",
       "          1.02065673,  1.02949971,  1.03842393,  1.04743164,  1.05652514,\n",
       "          1.06570687,  1.07497932,  1.08434513,  1.09380704,  1.1033679 ,\n",
       "          1.1130307 ,  1.12279856,  1.13267474,  1.14266265,  1.15276587,\n",
       "          1.16298815,  1.17333342,  1.18380582,  1.19440968,  1.20514957,\n",
       "          1.2160303 ,  1.22705693,  1.23823481,  1.24956958,  1.2610672 ,\n",
       "          1.27273399,  1.28457664,  1.29660225,  1.30881834,  1.32123294,\n",
       "          1.33385458,  1.34669236,  1.35975601,  1.37305592,  1.38660325,\n",
       "          1.40040996,  1.4144889 ,  1.42885394,  1.44352004,  1.45850338,\n",
       "          1.4738215 ,  1.48949347,  1.50554006,  1.52198396,  1.53885002,\n",
       "          1.55616556,  1.57396067,  1.59226864,  1.61112642,  1.63057521,\n",
       "          1.65066109,  1.67143589,  1.69295819,  1.71529454,  1.738521  ,\n",
       "          1.76272509,  1.78800822,  1.81448887,  1.84230664,  1.87162774,\n",
       "          1.90265225,  1.93562415,  1.97084538,  2.00869605,  2.04966439,\n",
       "          2.09439277,  2.14375129,  2.19896187,  2.26182128,  2.33513707,\n",
       "          2.42368146,  2.53664966,  2.6959081 ,  2.97898496]),\n",
       "  array([-1.54236150e+01, -1.05672004e+01, -1.04978899e+01, -1.01804964e+01,\n",
       "         -7.97662700e+00, -7.47470705e+00, -7.18442407e+00, -7.13191081e+00,\n",
       "         -6.93706182e+00, -6.91164121e+00, -6.88667596e+00, -6.84994419e+00,\n",
       "         -6.84621231e+00, -6.76692021e+00, -6.62491832e+00, -6.57674316e+00,\n",
       "         -6.53332804e+00, -6.34003910e+00, -6.31707696e+00, -6.18457382e+00,\n",
       "         -6.16210440e+00, -6.14973796e+00, -6.14179673e+00, -6.08536372e+00,\n",
       "         -5.95358152e+00, -5.89643892e+00, -5.81861432e+00, -5.75301627e+00,\n",
       "         -5.73668324e+00, -5.62595657e+00, -5.50948353e+00, -5.50369465e+00,\n",
       "         -5.45205042e+00, -5.42448360e+00, -5.39473022e+00, -5.34937641e+00,\n",
       "         -5.29144380e+00, -5.22124383e+00, -5.21019394e+00, -5.20996884e+00,\n",
       "         -5.17323097e+00, -5.10795606e+00, -5.07713933e+00, -5.03980488e+00,\n",
       "         -5.03396889e+00, -4.98983184e+00, -4.94085148e+00, -4.90361156e+00,\n",
       "         -4.85911422e+00, -4.83686220e+00, -4.80132395e+00, -4.75279160e+00,\n",
       "         -4.71855121e+00, -4.70340002e+00, -4.69429525e+00, -4.66325421e+00,\n",
       "         -4.64456266e+00, -4.46166782e+00, -4.46034231e+00, -4.44627189e+00,\n",
       "         -4.36205687e+00, -4.35100663e+00, -4.30703863e+00, -4.25089877e+00,\n",
       "         -4.21312676e+00, -4.12984782e+00, -4.12924898e+00, -4.08944211e+00,\n",
       "         -4.08174154e+00, -4.03400296e+00, -4.03308998e+00, -4.02621251e+00,\n",
       "         -3.98820500e+00, -3.98571943e+00, -3.94278985e+00, -3.89108206e+00,\n",
       "         -3.87545628e+00, -3.87418145e+00, -3.84915011e+00, -3.78321140e+00,\n",
       "         -3.78062504e+00, -3.74034456e+00, -3.73005509e+00, -3.70688186e+00,\n",
       "         -3.67643441e+00, -3.66354984e+00, -3.66305418e+00, -3.65729216e+00,\n",
       "         -3.62284633e+00, -3.59511028e+00, -3.59367244e+00, -3.57454795e+00,\n",
       "         -3.56419300e+00, -3.53928904e+00, -3.53017088e+00, -3.50755725e+00,\n",
       "         -3.44953762e+00, -3.43602752e+00, -3.39861801e+00, -3.39475139e+00,\n",
       "         -3.36476242e+00, -3.31187448e+00, -3.25957303e+00, -3.19038292e+00,\n",
       "         -3.12300457e+00, -3.12180133e+00, -3.11697031e+00, -3.02093449e+00,\n",
       "         -2.98658181e+00, -2.92027051e+00, -2.89563329e+00, -2.89345981e+00,\n",
       "         -2.88543296e+00, -2.86698590e+00, -2.84108408e+00, -2.82948383e+00,\n",
       "         -2.82562247e+00, -2.81364815e+00, -2.81322745e+00, -2.72813237e+00,\n",
       "         -2.72677505e+00, -2.72073150e+00, -2.70136467e+00, -2.69477487e+00,\n",
       "         -2.67635933e+00, -2.63189705e+00, -2.60162898e+00, -2.59416164e+00,\n",
       "         -2.59013970e+00, -2.58415422e+00, -2.58252962e+00, -2.56142406e+00,\n",
       "         -2.55920364e+00, -2.53493071e+00, -2.52941087e+00, -2.52919815e+00,\n",
       "         -2.51141302e+00, -2.49432564e+00, -2.45189971e+00, -2.43750781e+00,\n",
       "         -2.43629848e+00, -2.42865598e+00, -2.37780427e+00, -2.37088419e+00,\n",
       "         -2.34255157e+00, -2.32621197e+00, -2.30012096e+00, -2.29936119e+00,\n",
       "         -2.25174500e+00, -2.24171339e+00, -2.23537572e+00, -2.22984416e+00,\n",
       "         -2.21650912e+00, -2.19368274e+00, -2.17806544e+00, -2.15735581e+00,\n",
       "         -2.15248767e+00, -2.11926559e+00, -2.09555030e+00, -2.08395011e+00,\n",
       "         -2.08032010e+00, -2.04164388e+00, -2.03769433e+00, -1.96099538e+00,\n",
       "         -1.91492761e+00, -1.90239992e+00, -1.88604332e+00, -1.88295986e+00,\n",
       "         -1.87921478e+00, -1.86970459e+00, -1.82466933e+00, -1.82315940e+00,\n",
       "         -1.80007859e+00, -1.79645174e+00, -1.77824917e+00, -1.76287115e+00,\n",
       "         -1.75495697e+00, -1.71325153e+00, -1.71212079e+00, -1.67281279e+00,\n",
       "         -1.64165517e+00, -1.62795098e+00, -1.60754327e+00, -1.58843552e+00,\n",
       "         -1.55352853e+00, -1.53243546e+00, -1.50973503e+00, -1.50697806e+00,\n",
       "         -1.47271065e+00, -1.46897823e+00, -1.46769565e+00, -1.46748722e+00,\n",
       "         -1.42705714e+00, -1.42470889e+00, -1.36937477e+00, -1.32623625e+00,\n",
       "         -1.29739137e+00, -1.26527146e+00, -1.25812471e+00, -1.24092962e+00,\n",
       "         -1.21944441e+00, -1.21433894e+00, -1.17383047e+00, -1.16720288e+00,\n",
       "         -1.16035908e+00, -1.11928938e+00, -1.11865572e+00, -1.10578310e+00,\n",
       "         -1.09025456e+00, -1.05709469e+00, -1.05468695e+00, -1.03929407e+00,\n",
       "         -1.01892887e+00, -9.91819143e-01, -9.85144583e-01, -9.80793057e-01,\n",
       "         -9.30257942e-01, -9.24583261e-01, -9.18533857e-01, -8.95314658e-01,\n",
       "         -8.93758640e-01, -8.61607688e-01, -8.53974748e-01, -8.51293024e-01,\n",
       "         -7.96288731e-01, -7.91888796e-01, -7.65034690e-01, -7.46255270e-01,\n",
       "         -7.04128572e-01, -6.65392807e-01, -6.64877358e-01, -6.57526438e-01,\n",
       "         -6.57228297e-01, -6.56817843e-01, -6.17894424e-01, -6.16516098e-01,\n",
       "         -5.67909049e-01, -5.51542678e-01, -5.34087918e-01, -5.21132775e-01,\n",
       "         -5.15889052e-01, -4.84652382e-01, -4.78266471e-01, -4.76327716e-01,\n",
       "         -4.39887230e-01, -4.33655788e-01, -4.15432220e-01, -4.08785098e-01,\n",
       "         -3.93435957e-01, -3.89509530e-01, -3.74905781e-01, -3.72562815e-01,\n",
       "         -3.50279475e-01, -3.47861499e-01, -3.29998954e-01, -3.20994249e-01,\n",
       "         -3.07313365e-01, -2.85580958e-01, -2.77312324e-01, -2.77185912e-01,\n",
       "         -2.25530962e-01, -2.16418224e-01, -1.89376694e-01, -1.70500758e-01,\n",
       "         -1.68793400e-01, -9.23890815e-02, -9.02275939e-02, -7.72521733e-02,\n",
       "         -7.45496869e-02, -7.19406983e-02, -6.67250851e-02, -6.60898984e-02,\n",
       "         -4.86565864e-02, -3.77146467e-02, -3.02241767e-02, -8.23371342e-03,\n",
       "          3.51209697e-02,  6.78387915e-02,  6.79466094e-02,  7.87943953e-02,\n",
       "          8.95470425e-02,  1.20738620e-01,  1.24517305e-01,  1.43973229e-01,\n",
       "          1.46037007e-01,  1.64928612e-01,  1.67276354e-01,  1.83525829e-01,\n",
       "          2.12805132e-01,  2.15987668e-01,  2.37272543e-01,  2.39000892e-01,\n",
       "          2.41005765e-01,  3.04323964e-01,  3.09139273e-01,  3.14884725e-01,\n",
       "          3.16372264e-01,  3.19955839e-01,  3.23009580e-01,  3.38942444e-01,\n",
       "          3.40447942e-01,  3.71600455e-01,  3.85154571e-01,  3.86429523e-01,\n",
       "          4.23758306e-01,  4.32357321e-01,  4.42344912e-01,  4.53803379e-01,\n",
       "          4.68155726e-01,  4.76241880e-01,  4.92888494e-01,  5.11773034e-01,\n",
       "          5.22386113e-01,  5.93683480e-01,  6.05991309e-01,  6.88002356e-01,\n",
       "          6.97463990e-01,  7.05694101e-01,  7.08052093e-01,  7.14260922e-01,\n",
       "          7.76995922e-01,  7.87212452e-01,  8.12340435e-01,  8.20331748e-01,\n",
       "          8.25397153e-01,  8.38729235e-01,  8.49830114e-01,  8.73485811e-01,\n",
       "          8.79777339e-01,  9.01348802e-01,  9.16182527e-01,  9.18122190e-01,\n",
       "          9.27323411e-01,  9.33617178e-01,  9.47164112e-01,  9.68156567e-01,\n",
       "          9.70699711e-01,  9.84475573e-01,  9.92124886e-01,  9.95316162e-01,\n",
       "          1.00221554e+00,  1.01805353e+00,  1.10893486e+00,  1.13265899e+00,\n",
       "          1.19205251e+00,  1.22568057e+00,  1.23381744e+00,  1.23506316e+00,\n",
       "          1.25321020e+00,  1.26323561e+00,  1.28202882e+00,  1.38966691e+00,\n",
       "          1.42937506e+00,  1.45118164e+00,  1.45403873e+00,  1.48815089e+00,\n",
       "          1.55688840e+00,  1.56973428e+00,  1.62542412e+00,  1.69806688e+00,\n",
       "          1.71429832e+00,  1.81474270e+00,  1.82918646e+00,  1.96087025e+00,\n",
       "          1.99714828e+00,  2.01105834e+00,  2.01333759e+00,  2.03595729e+00,\n",
       "          2.14729041e+00,  2.18029078e+00,  2.23506919e+00,  2.24304969e+00,\n",
       "          2.25793815e+00,  2.27963715e+00,  2.36414821e+00,  2.37360404e+00,\n",
       "          2.46048785e+00,  2.62106700e+00,  2.66783495e+00,  2.66851078e+00,\n",
       "          2.72285433e+00,  2.75321127e+00,  2.78247231e+00,  2.82378514e+00,\n",
       "          2.84091125e+00,  2.87543221e+00,  2.89936039e+00,  2.92081137e+00,\n",
       "          2.94011027e+00,  2.95543631e+00,  3.08805604e+00,  3.11293776e+00,\n",
       "          3.22695293e+00,  3.25387548e+00,  3.25511669e+00,  3.33401055e+00,\n",
       "          3.40005926e+00,  3.40738365e+00,  3.46586205e+00,  3.47961294e+00,\n",
       "          3.56901948e+00,  3.59636476e+00,  3.61641143e+00,  3.72989707e+00,\n",
       "          3.74221466e+00,  3.85899208e+00,  3.87811222e+00,  3.88263304e+00,\n",
       "          3.91221843e+00,  4.07767642e+00,  4.08860986e+00,  4.09330889e+00,\n",
       "          4.16135669e+00,  4.26336896e+00,  4.26478211e+00,  4.28844905e+00,\n",
       "          4.45127973e+00,  4.45950652e+00,  4.64729181e+00,  4.68180366e+00,\n",
       "          4.73300270e+00,  4.74111351e+00,  4.83982072e+00,  4.85690390e+00,\n",
       "          4.86648611e+00,  4.92325802e+00,  5.03201232e+00,  5.11821548e+00,\n",
       "          5.19641223e+00,  5.24154453e+00,  5.36016957e+00,  5.37330959e+00,\n",
       "          5.39877458e+00,  5.47422291e+00,  5.52293697e+00,  5.61397680e+00,\n",
       "          5.64301138e+00,  5.87536704e+00,  5.88286746e+00,  6.11023582e+00,\n",
       "          6.29143748e+00,  6.34129370e+00,  6.61849107e+00,  6.74138620e+00,\n",
       "          6.76217366e+00,  6.80785946e+00,  7.13652292e+00,  7.50349348e+00,\n",
       "          7.57988686e+00,  7.82108895e+00,  7.86619260e+00,  8.08015068e+00,\n",
       "          8.08188421e+00,  8.09473647e+00,  8.33158668e+00,  8.35388262e+00,\n",
       "          8.42972536e+00,  8.76254067e+00,  9.40328850e+00,  9.40570142e+00,\n",
       "          1.01506633e+01,  1.05307649e+01,  1.12579289e+01,  1.12911809e+01,\n",
       "          1.13882812e+01,  1.14201263e+01,  1.21193954e+01,  1.27419479e+01,\n",
       "          1.27702854e+01,  1.31425560e+01,  1.33763066e+01,  1.35996588e+01,\n",
       "          1.42042075e+01,  1.48341411e+01,  1.60966579e+01,  1.67346411e+01,\n",
       "          2.32700987e+01,  2.47202743e+01,  2.53422761e+01])),\n",
       " (4.468919624739581, 7.594945317519233e-15, 0.9487426272906837))"
      ]
     },
     "execution_count": 85,
     "metadata": {},
     "output_type": "execute_result"
    },
    {
     "data": {
      "image/png": "[encoded data removed]",
      "text/plain": [
       "<Figure size 432x288 with 1 Axes>"
      ]
     },
     "metadata": {
      "needs_background": "light"
     },
     "output_type": "display_data"
    }
   ],
   "source": [
    "stats.probplot(resids3, plot=sn.mpl.pyplot)"
   ]
  },
  {
   "cell_type": "code",
   "execution_count": 86,
   "metadata": {},
   "outputs": [],
   "source": [
    "resids_standardized3=r3.get_influence().resid_studentized_internal"
   ]
  },
  {
   "cell_type": "code",
   "execution_count": 87,
   "metadata": {},
   "outputs": [
    {
     "data": {
      "text/plain": [
       "<AxesSubplot:>"
      ]
     },
     "execution_count": 87,
     "metadata": {},
     "output_type": "execute_result"
    },
    {
     "data": {
      "image/png": "[encoded data removed]",
      "text/plain": [
       "<Figure size 432x288 with 1 Axes>"
      ]
     },
     "metadata": {
      "needs_background": "light"
     },
     "output_type": "display_data"
    }
   ],
   "source": [
    "sn.regplot(x=fitted_vals3,y=np.sqrt(np.abs(resids_standardized3)),line_kws={'color':'orange'})"
   ]
  },
  {
   "cell_type": "code",
   "execution_count": 88,
   "metadata": {},
   "outputs": [
    {
     "name": "stdout",
     "output_type": "stream",
     "text": [
      "Variable:const---Correlation:nan,P-value:nan\n",
      "Variable:CRIM---Correlation:0.0000,P-value:1.0000\n",
      "Variable:ZN---Correlation:-0.0000,P-value:1.0000\n",
      "Variable:CHAS---Correlation:0.0000,P-value:1.0000\n",
      "Variable:NOX---Correlation:0.0000,P-value:1.0000\n",
      "Variable:RM---Correlation:-0.0000,P-value:1.0000\n",
      "Variable:DIS---Correlation:-0.0000,P-value:1.0000\n",
      "Variable:RAD---Correlation:-0.0000,P-value:1.0000\n",
      "Variable:TAX---Correlation:-0.0000,P-value:1.0000\n",
      "Variable:PTRATIO---Correlation:0.0000,P-value:1.0000\n",
      "Variable:B---Correlation:0.0000,P-value:1.0000\n",
      "Variable:LSTAT---Correlation:0.0000,P-value:1.0000\n"
     ]
    },
    {
     "name": "stderr",
     "output_type": "stream",
     "text": [
      "C:\\Users\\Ruchit\\anaconda3\\lib\\site-packages\\scipy\\stats\\stats.py:3845: PearsonRConstantInputWarning: An input array is constant; the correlation coefficent is not defined.\n",
      "  warnings.warn(PearsonRConstantInputWarning())\n"
     ]
    }
   ],
   "source": [
    "for column in X2.columns:\n",
    "    corr_test=pearsonr(X2[column],r3.resid)\n",
    "    print(f'Variable:{column}---Correlation:{corr_test[0]:.4f},P-value:{corr_test[1]:.4f}' )"
   ]
  },
  {
   "cell_type": "code",
   "execution_count": 89,
   "metadata": {},
   "outputs": [
    {
     "data": {
      "text/html": [
       "<div>\n",
       "<style scoped>\n",
       "    .dataframe tbody tr th:only-of-type {\n",
       "        vertical-align: middle;\n",
       "    }\n",
       "\n",
       "    .dataframe tbody tr th {\n",
       "        vertical-align: top;\n",
       "    }\n",
       "\n",
       "    .dataframe thead th {\n",
       "        text-align: right;\n",
       "    }\n",
       "</style>\n",
       "<table border=\"1\" class=\"dataframe\">\n",
       "  <thead>\n",
       "    <tr style=\"text-align: right;\">\n",
       "      <th></th>\n",
       "      <th>0</th>\n",
       "    </tr>\n",
       "  </thead>\n",
       "  <tbody>\n",
       "    <tr>\n",
       "      <th>CRIM</th>\n",
       "      <td>1.774543</td>\n",
       "    </tr>\n",
       "    <tr>\n",
       "      <th>ZN</th>\n",
       "      <td>2.079824</td>\n",
       "    </tr>\n",
       "    <tr>\n",
       "      <th>CHAS</th>\n",
       "      <td>1.076674</td>\n",
       "    </tr>\n",
       "    <tr>\n",
       "      <th>NOX</th>\n",
       "      <td>3.763056</td>\n",
       "    </tr>\n",
       "    <tr>\n",
       "      <th>RM</th>\n",
       "      <td>1.797417</td>\n",
       "    </tr>\n",
       "    <tr>\n",
       "      <th>DIS</th>\n",
       "      <td>3.364105</td>\n",
       "    </tr>\n",
       "    <tr>\n",
       "      <th>RAD</th>\n",
       "      <td>6.782629</td>\n",
       "    </tr>\n",
       "    <tr>\n",
       "      <th>TAX</th>\n",
       "      <td>7.206926</td>\n",
       "    </tr>\n",
       "    <tr>\n",
       "      <th>PTRATIO</th>\n",
       "      <td>1.698117</td>\n",
       "    </tr>\n",
       "    <tr>\n",
       "      <th>B</th>\n",
       "      <td>1.341915</td>\n",
       "    </tr>\n",
       "    <tr>\n",
       "      <th>LSTAT</th>\n",
       "      <td>2.537207</td>\n",
       "    </tr>\n",
       "  </tbody>\n",
       "</table>\n",
       "</div>"
      ],
      "text/plain": [
       "                0\n",
       "CRIM     1.774543\n",
       "ZN       2.079824\n",
       "CHAS     1.076674\n",
       "NOX      3.763056\n",
       "RM       1.797417\n",
       "DIS      3.364105\n",
       "RAD      6.782629\n",
       "TAX      7.206926\n",
       "PTRATIO  1.698117\n",
       "B        1.341915\n",
       "LSTAT    2.537207"
      ]
     },
     "execution_count": 89,
     "metadata": {},
     "output_type": "execute_result"
    }
   ],
   "source": [
    "vif3=[variance_inflation_factor(X2.values,i) for i in range(X2.shape[1])]\n",
    "pd.DataFrame(vif3[1:],index=X2.columns[1:])"
   ]
  },
  {
   "cell_type": "code",
   "execution_count": 90,
   "metadata": {},
   "outputs": [],
   "source": [
    "from sklearn.model_selection import train_test_split"
   ]
  },
  {
   "cell_type": "code",
   "execution_count": 91,
   "metadata": {},
   "outputs": [],
   "source": [
    "x_train,x_test,y_train,y_test=train_test_split(x,y,test_size=0.3,random_state=42)"
   ]
  },
  {
   "cell_type": "code",
   "execution_count": 92,
   "metadata": {},
   "outputs": [],
   "source": [
    "from sklearn.linear_model import LinearRegression"
   ]
  },
  {
   "cell_type": "code",
   "execution_count": 93,
   "metadata": {},
   "outputs": [],
   "source": [
    "rct=LinearRegression(normalize=True)"
   ]
  },
  {
   "cell_type": "code",
   "execution_count": 94,
   "metadata": {},
   "outputs": [
    {
     "data": {
      "text/plain": [
       "LinearRegression(normalize=True)"
      ]
     },
     "execution_count": 94,
     "metadata": {},
     "output_type": "execute_result"
    }
   ],
   "source": [
    "rct.fit(x_train,y_train)"
   ]
  },
  {
   "cell_type": "code",
   "execution_count": 95,
   "metadata": {},
   "outputs": [
    {
     "data": {
      "text/plain": [
       "array([-1.12437736e-01,  5.55033388e-02,  8.61258939e-03,  3.01327690e+00,\n",
       "       -2.11693263e+01,  3.14819755e+00,  2.12275792e-02, -1.62272633e+00,\n",
       "        2.89749594e-01, -8.89623433e-03, -1.13397626e+00,  8.71798793e-03,\n",
       "       -5.65038940e-01])"
      ]
     },
     "execution_count": 95,
     "metadata": {},
     "output_type": "execute_result"
    }
   ],
   "source": [
    "rct.coef_"
   ]
  },
  {
   "cell_type": "code",
   "execution_count": 96,
   "metadata": {},
   "outputs": [
    {
     "data": {
      "text/plain": [
       "44.55466522545147"
      ]
     },
     "execution_count": 96,
     "metadata": {},
     "output_type": "execute_result"
    }
   ],
   "source": [
    "rct.intercept_"
   ]
  },
  {
   "cell_type": "code",
   "execution_count": 97,
   "metadata": {},
   "outputs": [
    {
     "data": {
      "text/plain": [
       "array([28.69562721, 19.1367318 , 30.07562644, 11.20712638, 20.84580414,\n",
       "       21.1370895 , 18.65502825, 23.37286674, 27.00793502, 19.38719228,\n",
       "       24.06818633, 15.02267889, 21.79046573, 27.13916134, 25.83828746,\n",
       "       25.49818508, 24.32853859, 11.91464398, 25.04144832, 14.35720149,\n",
       "       15.9224923 , 18.43073092,  9.65961314, 21.17400098, 34.01513119,\n",
       "       30.58320161, 24.26701517, 22.19104102, 36.29696126, 19.24999868,\n",
       "       19.75848185, 32.46273567, 14.29872347, 27.24790303, 41.92874241,\n",
       "       23.08285053, 18.07832127, 15.46669313, 23.87875118, 14.63176661,\n",
       "       23.34202663, 31.02362293, 15.48752138,  6.63510279, 23.53632058,\n",
       "       27.2755278 , 17.21817962, 13.27201084, 40.20683613, 22.56324774,\n",
       "       20.94601179, 24.19708005, 21.12953768, 20.13981816, 19.46746373,\n",
       "       34.71484789, 27.77272629, 20.19415282, 18.34717022, 27.41665442,\n",
       "       33.0640655 , 23.09109044, 22.79620279, 22.38137588, 37.36015457,\n",
       "       20.66376524, 13.64393223, 20.69185352,  9.63391027, 17.80347894,\n",
       "       18.83818472, 14.19938878, 21.6197058 , 25.28157395, 21.05199316,\n",
       "       23.83403446, 17.82814801, 18.7085615 , 27.21776023, 20.63535306,\n",
       "       18.14744162, 22.49877725, 13.15869415, 24.91798041, 23.91523513,\n",
       "       20.37341152, 20.02557396, 22.72216391,  6.89909243, 19.04729678,\n",
       "       13.28930268, 27.28035957,  7.51631704, 19.42104321, 23.94987772,\n",
       "       37.20874082, 24.62467637, 19.32217548, 24.29758272, 17.19039597,\n",
       "       15.27803384, 21.2667539 , 15.42346952, 21.5807829 , 19.71805689,\n",
       "       19.52966461, 31.38034359, 23.40188576, 31.52328983, 14.0750462 ,\n",
       "       33.46478798, 29.80419342, 14.2587665 , 10.44984211, 15.50138983,\n",
       "       16.5270042 , 26.32190339, 30.77910162, 21.67126647, 18.07765637,\n",
       "       24.1775327 , 16.12595051, 12.07376701, 29.72886513, 18.69621277,\n",
       "       19.24804337, 27.45377352, 33.98578799, 25.96351001, 14.6586577 ,\n",
       "       12.85760885, 20.59919641, 17.16783103, 19.48179596, 24.70721983,\n",
       "       23.93478638, 21.62941626, 19.39264695, 18.81234565, 15.04130579,\n",
       "       27.5083615 , 32.69078236, 17.60059441, 20.1758839 ])"
      ]
     },
     "execution_count": 97,
     "metadata": {},
     "output_type": "execute_result"
    }
   ],
   "source": [
    "y_pred=rct.predict(x_test)\n",
    "y_pred"
   ]
  },
  {
   "cell_type": "code",
   "execution_count": 98,
   "metadata": {},
   "outputs": [
    {
     "data": {
      "text/plain": [
       "93     25.0\n",
       "336    19.5\n",
       "55     35.4\n",
       "30     12.7\n",
       "476    16.7\n",
       "       ... \n",
       "389    11.5\n",
       "3      33.4\n",
       "307    28.2\n",
       "60     18.7\n",
       "110    21.7\n",
       "Name: MEDV, Length: 144, dtype: float64"
      ]
     },
     "execution_count": 98,
     "metadata": {},
     "output_type": "execute_result"
    }
   ],
   "source": [
    "y_test"
   ]
  },
  {
   "cell_type": "code",
   "execution_count": 99,
   "metadata": {},
   "outputs": [
    {
     "data": {
      "text/plain": [
       "0.7310621662261607"
      ]
     },
     "execution_count": 99,
     "metadata": {},
     "output_type": "execute_result"
    }
   ],
   "source": [
    "rct.score(x_train,y_train)"
   ]
  },
  {
   "cell_type": "code",
   "execution_count": 100,
   "metadata": {},
   "outputs": [],
   "source": [
    "from sklearn.metrics import r2_score"
   ]
  },
  {
   "cell_type": "code",
   "execution_count": 101,
   "metadata": {},
   "outputs": [
    {
     "data": {
      "text/plain": [
       "0.7041345549299628"
      ]
     },
     "execution_count": 101,
     "metadata": {},
     "output_type": "execute_result"
    }
   ],
   "source": [
    "r2_score(y_test,y_pred)"
   ]
  },
  {
   "cell_type": "code",
   "execution_count": 102,
   "metadata": {},
   "outputs": [
    {
     "data": {
      "text/html": [
       "<div>\n",
       "<style scoped>\n",
       "    .dataframe tbody tr th:only-of-type {\n",
       "        vertical-align: middle;\n",
       "    }\n",
       "\n",
       "    .dataframe tbody tr th {\n",
       "        vertical-align: top;\n",
       "    }\n",
       "\n",
       "    .dataframe thead th {\n",
       "        text-align: right;\n",
       "    }\n",
       "</style>\n",
       "<table border=\"1\" class=\"dataframe\">\n",
       "  <thead>\n",
       "    <tr style=\"text-align: right;\">\n",
       "      <th></th>\n",
       "      <th>Actual</th>\n",
       "      <th>Predicted</th>\n",
       "    </tr>\n",
       "  </thead>\n",
       "  <tbody>\n",
       "    <tr>\n",
       "      <th>93</th>\n",
       "      <td>25.0</td>\n",
       "      <td>28.695627</td>\n",
       "    </tr>\n",
       "    <tr>\n",
       "      <th>336</th>\n",
       "      <td>19.5</td>\n",
       "      <td>19.136732</td>\n",
       "    </tr>\n",
       "    <tr>\n",
       "      <th>55</th>\n",
       "      <td>35.4</td>\n",
       "      <td>30.075626</td>\n",
       "    </tr>\n",
       "    <tr>\n",
       "      <th>30</th>\n",
       "      <td>12.7</td>\n",
       "      <td>11.207126</td>\n",
       "    </tr>\n",
       "    <tr>\n",
       "      <th>476</th>\n",
       "      <td>16.7</td>\n",
       "      <td>20.845804</td>\n",
       "    </tr>\n",
       "    <tr>\n",
       "      <th>...</th>\n",
       "      <td>...</td>\n",
       "      <td>...</td>\n",
       "    </tr>\n",
       "    <tr>\n",
       "      <th>389</th>\n",
       "      <td>11.5</td>\n",
       "      <td>15.041306</td>\n",
       "    </tr>\n",
       "    <tr>\n",
       "      <th>3</th>\n",
       "      <td>33.4</td>\n",
       "      <td>27.508361</td>\n",
       "    </tr>\n",
       "    <tr>\n",
       "      <th>307</th>\n",
       "      <td>28.2</td>\n",
       "      <td>32.690782</td>\n",
       "    </tr>\n",
       "    <tr>\n",
       "      <th>60</th>\n",
       "      <td>18.7</td>\n",
       "      <td>17.600594</td>\n",
       "    </tr>\n",
       "    <tr>\n",
       "      <th>110</th>\n",
       "      <td>21.7</td>\n",
       "      <td>20.175884</td>\n",
       "    </tr>\n",
       "  </tbody>\n",
       "</table>\n",
       "<p>144 rows × 2 columns</p>\n",
       "</div>"
      ],
      "text/plain": [
       "     Actual  Predicted\n",
       "93     25.0  28.695627\n",
       "336    19.5  19.136732\n",
       "55     35.4  30.075626\n",
       "30     12.7  11.207126\n",
       "476    16.7  20.845804\n",
       "..      ...        ...\n",
       "389    11.5  15.041306\n",
       "3      33.4  27.508361\n",
       "307    28.2  32.690782\n",
       "60     18.7  17.600594\n",
       "110    21.7  20.175884\n",
       "\n",
       "[144 rows x 2 columns]"
      ]
     },
     "execution_count": 102,
     "metadata": {},
     "output_type": "execute_result"
    }
   ],
   "source": [
    "cmp=pd.DataFrame({'Actual':y_test,'Predicted':y_pred})\n",
    "cmp"
   ]
  },
  {
   "cell_type": "code",
   "execution_count": 103,
   "metadata": {},
   "outputs": [
    {
     "data": {
      "text/plain": [
       "<matplotlib.collections.PathCollection at 0x120e28f0f70>"
      ]
     },
     "execution_count": 103,
     "metadata": {},
     "output_type": "execute_result"
    },
    {
     "data": {
      "image/png": "[encoded data removed]",
      "text/plain": [
       "<Figure size 432x288 with 1 Axes>"
      ]
     },
     "metadata": {
      "needs_background": "light"
     },
     "output_type": "display_data"
    }
   ],
   "source": [
    "plt.scatter(cmp.Actual,cmp.Predicted)"
   ]
  },
  {
   "cell_type": "code",
   "execution_count": null,
   "metadata": {},
   "outputs": [],
   "source": []
  }
 ],
 "metadata": {
  "kernelspec": {
   "display_name": "Python 3",
   "language": "python",
   "name": "python3"
  },
  "language_info": {
   "codemirror_mode": {
    "name": "ipython",
    "version": 3
   },
   "file_extension": ".py",
   "mimetype": "text/x-python",
   "name": "python",
   "nbconvert_exporter": "python",
   "pygments_lexer": "ipython3",
   "version": "3.8.5"
  }
 },
 "nbformat": 4,
 "nbformat_minor": 4
}
